{
  "nbformat": 4,
  "nbformat_minor": 0,
  "metadata": {
    "colab": {
      "name": "Kopie von Untitled1.ipynb",
      "provenance": [],
      "collapsed_sections": [],
      "authorship_tag": "ABX9TyOFQ7ZpquEfVEIW+2xVYrFn",
      "include_colab_link": true
    },
    "kernelspec": {
      "name": "python3",
      "display_name": "Python 3"
    },
    "language_info": {
      "name": "python"
    }
  },
  "cells": [
    {
      "cell_type": "markdown",
      "metadata": {
        "id": "view-in-github",
        "colab_type": "text"
      },
      "source": [
        "<a href=\"https://colab.research.google.com/github/AlexanderAvocone/Project/blob/master/Laufzeitoptimierung.ipynb\" target=\"_parent\"><img src=\"https://colab.research.google.com/assets/colab-badge.svg\" alt=\"Open In Colab\"/></a>"
      ]
    },
    {
      "cell_type": "markdown",
      "metadata": {
        "id": "mbN76ff9wSKR"
      },
      "source": [
        "#**Laufzeitoptimierung**\n",
        "Hier vergleichen wir die Laufzeiten verschiedener Ersetzungsmethoden in Pandas."
      ]
    },
    {
      "cell_type": "code",
      "metadata": {
        "colab": {
          "base_uri": "https://localhost:8080/"
        },
        "id": "0v6AzNDHxI_a",
        "outputId": "e7f1b714-a1b0-4c13-8f73-7adcfa282052"
      },
      "source": [
        "import numpy as np\n",
        "import pandas as pd\n",
        "#Generiere DF mit df[\"A\"] = object\n",
        "df = pd.DataFrame(np.random.rand(10000,2), columns =(\"A\",\"B\"))\n",
        "df[\"A\"] = df[\"A\"].apply(lambda x:\"man\" if x < 0.5 else \"woman\")\n",
        "\n",
        "df.info()"
      ],
      "execution_count": null,
      "outputs": [
        {
          "output_type": "stream",
          "text": [
            "<class 'pandas.core.frame.DataFrame'>\n",
            "RangeIndex: 10000 entries, 0 to 9999\n",
            "Data columns (total 2 columns):\n",
            " #   Column  Non-Null Count  Dtype  \n",
            "---  ------  --------------  -----  \n",
            " 0   A       10000 non-null  object \n",
            " 1   B       10000 non-null  float64\n",
            "dtypes: float64(1), object(1)\n",
            "memory usage: 156.4+ KB\n"
          ],
          "name": "stdout"
        }
      ]
    },
    {
      "cell_type": "markdown",
      "metadata": {
        "id": "Es-uVJ4a1QrO"
      },
      "source": [
        "Die zu testenden Ersetzungsmethoden: df.apply(), df.replace(), pd.get_dummies() und np.where()"
      ]
    },
    {
      "cell_type": "code",
      "metadata": {
        "colab": {
          "base_uri": "https://localhost:8080/"
        },
        "id": "61SdjJ4zxZOf",
        "outputId": "2ab628fa-cfee-43ab-d747-f2585ca99888"
      },
      "source": [
        "\n",
        "\"\"\"\n",
        " %timeit geht den Befehl mehrmals durch und zeigt die kürzeste Zeit an\n",
        "--> ersetzen der Spalte gibt einen Error, da \"man\" und \"woman\" nach dem\n",
        "    ersten Loop nicht mehr vorhanden sind.\n",
        "\"\"\"\n",
        "sex = {\"man\":1, \"woman\":0}\n",
        "%timeit df[\"A\"].apply(lambda x:sex[x])\n",
        "%timeit df[\"A\"].apply(lambda x: 1 if x ==\"man\" else 0)\n",
        "%timeit df[\"A\"].replace(sex)\n",
        "%timeit pd.get_dummies(df[\"A\"], drop_first = True)\n",
        "%timeit np.where(df[\"A\"] == \"man\",1,0)\n"
      ],
      "execution_count": null,
      "outputs": [
        {
          "output_type": "stream",
          "text": [
            "100 loops, best of 5: 4 ms per loop\n",
            "100 loops, best of 5: 3.84 ms per loop\n",
            "100 loops, best of 5: 4.25 ms per loop\n",
            "1000 loops, best of 5: 1.15 ms per loop\n",
            "1000 loops, best of 5: 712 µs per loop\n"
          ],
          "name": "stdout"
        }
      ]
    },
    {
      "cell_type": "markdown",
      "metadata": {
        "id": "DySN8d4D8z1i"
      },
      "source": [
        "Es stellt sich raus, dass die np.where()-Funktion deutlich schneller ist als von Pandas eingebauten Funktionen. Für große Datensätze sind numpy-Funktionen vorzuziehen, da sie mehrere Elemente eines Arrays gleichzeitig bearbeiten können (vectorization)."
      ]
    }
  ]
}