{
  "nbformat": 4,
  "nbformat_minor": 0,
  "metadata": {
    "colab": {
      "name": "bootstrapping.ipynb",
      "provenance": [],
      "authorship_tag": "ABX9TyMi9v448KXgZZkL6lbgJ/g4",
      "include_colab_link": true
    },
    "kernelspec": {
      "name": "python3",
      "display_name": "Python 3"
    },
    "language_info": {
      "name": "python"
    }
  },
  "cells": [
    {
      "cell_type": "markdown",
      "metadata": {
        "id": "view-in-github",
        "colab_type": "text"
      },
      "source": [
        "<a href=\"https://colab.research.google.com/github/AlexanderAvocone/Project/blob/master/bootstrapping.ipynb\" target=\"_parent\"><img src=\"https://colab.research.google.com/assets/colab-badge.svg\" alt=\"Open In Colab\"/></a>"
      ]
    },
    {
      "cell_type": "markdown",
      "metadata": {
        "id": "zQ5JyeYiCiqc"
      },
      "source": [
        "##**Bootstrapping-Beispiel ohne Konfidenzintervall**\n",
        "Bootstrapping ist geeignet für kleine (N $\\geq$ 50) und/oder nicht-gaussverteilte Stichproben."
      ]
    },
    {
      "cell_type": "code",
      "metadata": {
        "colab": {
          "base_uri": "https://localhost:8080/",
          "height": 315
        },
        "id": "eeT7FJeq6MX1",
        "outputId": "4f230245-0e70-415c-c156-6ebe1525a6eb"
      },
      "source": [
        "import numpy as np\n",
        "import matplotlib.pyplot as plt\n",
        "from scipy.stats import norm\n",
        "\n",
        "# Original-Stichprobe\n",
        "origx = np.random.normal( size=100 )\n",
        "\n",
        "\n",
        "# Bootstrap: Ziehen mit Zuruecklegen\n",
        "nsamples = 10000\n",
        "means = np.empty( nsamples )\n",
        "\n",
        "for i in np.arange( nsamples ):\n",
        "    sample = np.random.choice( origx, size=100 )\n",
        "    means[i] = np.mean( sample )\n",
        "    \n",
        "x = np.linspace( -3, 3, 300 )\n",
        "    \n",
        "plt.subplot(2,1,1)\n",
        "plt.plot( x, norm.pdf(x), color=\"red\" )\n",
        "plt.plot( origx, np.zeros(100), \"bo\" )\n",
        "\n",
        "plt.subplot(2,1,2)\n",
        "plt.hist( means, bins=50 )\n",
        "plt.xlabel( \"Mittelwerte\" )\n",
        "plt.xlim( -1, 1 )\n",
        "\n",
        "\n",
        "print( \"Original-Stichprobe: mean =\", np.mean( origx ), \"+/-\", np.std( origx,ddof=1) ) \n",
        "print( \"Bootstrap-Stichprobe: mean =\", np.mean( means ), \"+/-\", np.std( means, ddof=1 ) ) \n",
        "\n",
        "\n",
        "\n"
      ],
      "execution_count": 2,
      "outputs": [
        {
          "output_type": "stream",
          "text": [
            "Original-Stichprobe: mean = -0.0680406451244146 +/- 0.9402421697775999\n",
            "Bootstrap-Stichprobe: mean = -0.06802924746930894 +/- 0.09501898875506781\n"
          ],
          "name": "stdout"
        },
        {
          "output_type": "display_data",
          "data": {
            "image/png": "[encoded data removed]",
            "text/plain": [
              "<Figure size 432x288 with 2 Axes>"
            ]
          },
          "metadata": {
            "tags": [],
            "needs_background": "light"
          }
        }
      ]
    }
  ]
}