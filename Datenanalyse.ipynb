{
  "nbformat": 4,
  "nbformat_minor": 0,
  "metadata": {
    "colab": {
      "name": "Datenanalyse.ipynb",
      "provenance": [],
      "authorship_tag": "ABX9TyMIjCxKr5+AtNm4Sq2lVp2h",
      "include_colab_link": true
    },
    "kernelspec": {
      "name": "python3",
      "display_name": "Python 3"
    }
  },
  "cells": [
    {
      "cell_type": "markdown",
      "metadata": {
        "id": "view-in-github",
        "colab_type": "text"
      },
      "source": [
        "<a href=\"https://colab.research.google.com/github/AlexanderAvocone/Project/blob/master/Datenanalyse.ipynb\" target=\"_parent\"><img src=\"https://colab.research.google.com/assets/colab-badge.svg\" alt=\"Open In Colab\"/></a>"
      ]
    },
    {
      "cell_type": "markdown",
      "metadata": {
        "id": "XTg7htT4RRjH"
      },
      "source": [
        "##**Übung 1**\n",
        "Ziel der Übung ist die Datenanalyse von der Titanic-challenge"
      ]
    },
    {
      "cell_type": "code",
      "metadata": {
        "id": "q-kT33KXK46F"
      },
      "source": [
        "import pandas as pd\n",
        "import numpy as np\n",
        "import matplotlib.pyplot as plt\n",
        "import sklearn\n",
        "import seaborn as sns"
      ],
      "execution_count": 77,
      "outputs": []
    },
    {
      "cell_type": "markdown",
      "metadata": {
        "id": "WxaVLvG5GKPh"
      },
      "source": [
        "Als erstes müssen die Daten geladen und grob überflogen werden um sich einen Eindruck über die Einträge zu verschaffen"
      ]
    },
    {
      "cell_type": "code",
      "metadata": {
        "id": "CX5qDD4VN57i",
        "colab": {
          "base_uri": "https://localhost:8080/",
          "height": 204
        },
        "outputId": "355ef5fc-451c-47c7-bddf-2d828f84ccb5"
      },
      "source": [
        "#Daten laden\n",
        "test = pd.read_csv(\"test.csv\")\n",
        "train = pd.read_csv(\"train.csv\")\n",
        "\n",
        "\n",
        "#Overview der Daten\n",
        "train.head()\n"
      ],
      "execution_count": 71,
      "outputs": [
        {
          "output_type": "execute_result",
          "data": {
            "text/html": [
              "<div>\n",
              "<style scoped>\n",
              "    .dataframe tbody tr th:only-of-type {\n",
              "        vertical-align: middle;\n",
              "    }\n",
              "\n",
              "    .dataframe tbody tr th {\n",
              "        vertical-align: top;\n",
              "    }\n",
              "\n",
              "    .dataframe thead th {\n",
              "        text-align: right;\n",
              "    }\n",
              "</style>\n",
              "<table border=\"1\" class=\"dataframe\">\n",
              "  <thead>\n",
              "    <tr style=\"text-align: right;\">\n",
              "      <th></th>\n",
              "      <th>PassengerId</th>\n",
              "      <th>Survived</th>\n",
              "      <th>Pclass</th>\n",
              "      <th>Name</th>\n",
              "      <th>Sex</th>\n",
              "      <th>Age</th>\n",
              "      <th>SibSp</th>\n",
              "      <th>Parch</th>\n",
              "      <th>Ticket</th>\n",
              "      <th>Fare</th>\n",
              "      <th>Cabin</th>\n",
              "      <th>Embarked</th>\n",
              "    </tr>\n",
              "  </thead>\n",
              "  <tbody>\n",
              "    <tr>\n",
              "      <th>0</th>\n",
              "      <td>1</td>\n",
              "      <td>0</td>\n",
              "      <td>3</td>\n",
              "      <td>Braund, Mr. Owen Harris</td>\n",
              "      <td>male</td>\n",
              "      <td>22.0</td>\n",
              "      <td>1</td>\n",
              "      <td>0</td>\n",
              "      <td>A/5 21171</td>\n",
              "      <td>7.2500</td>\n",
              "      <td>NaN</td>\n",
              "      <td>S</td>\n",
              "    </tr>\n",
              "    <tr>\n",
              "      <th>1</th>\n",
              "      <td>2</td>\n",
              "      <td>1</td>\n",
              "      <td>1</td>\n",
              "      <td>Cumings, Mrs. John Bradley (Florence Briggs Th...</td>\n",
              "      <td>female</td>\n",
              "      <td>38.0</td>\n",
              "      <td>1</td>\n",
              "      <td>0</td>\n",
              "      <td>PC 17599</td>\n",
              "      <td>71.2833</td>\n",
              "      <td>C85</td>\n",
              "      <td>C</td>\n",
              "    </tr>\n",
              "    <tr>\n",
              "      <th>2</th>\n",
              "      <td>3</td>\n",
              "      <td>1</td>\n",
              "      <td>3</td>\n",
              "      <td>Heikkinen, Miss. Laina</td>\n",
              "      <td>female</td>\n",
              "      <td>26.0</td>\n",
              "      <td>0</td>\n",
              "      <td>0</td>\n",
              "      <td>STON/O2. 3101282</td>\n",
              "      <td>7.9250</td>\n",
              "      <td>NaN</td>\n",
              "      <td>S</td>\n",
              "    </tr>\n",
              "    <tr>\n",
              "      <th>3</th>\n",
              "      <td>4</td>\n",
              "      <td>1</td>\n",
              "      <td>1</td>\n",
              "      <td>Futrelle, Mrs. Jacques Heath (Lily May Peel)</td>\n",
              "      <td>female</td>\n",
              "      <td>35.0</td>\n",
              "      <td>1</td>\n",
              "      <td>0</td>\n",
              "      <td>113803</td>\n",
              "      <td>53.1000</td>\n",
              "      <td>C123</td>\n",
              "      <td>S</td>\n",
              "    </tr>\n",
              "    <tr>\n",
              "      <th>4</th>\n",
              "      <td>5</td>\n",
              "      <td>0</td>\n",
              "      <td>3</td>\n",
              "      <td>Allen, Mr. William Henry</td>\n",
              "      <td>male</td>\n",
              "      <td>35.0</td>\n",
              "      <td>0</td>\n",
              "      <td>0</td>\n",
              "      <td>373450</td>\n",
              "      <td>8.0500</td>\n",
              "      <td>NaN</td>\n",
              "      <td>S</td>\n",
              "    </tr>\n",
              "  </tbody>\n",
              "</table>\n",
              "</div>"
            ],
            "text/plain": [
              "   PassengerId  Survived  Pclass  ...     Fare Cabin  Embarked\n",
              "0            1         0       3  ...   7.2500   NaN         S\n",
              "1            2         1       1  ...  71.2833   C85         C\n",
              "2            3         1       3  ...   7.9250   NaN         S\n",
              "3            4         1       1  ...  53.1000  C123         S\n",
              "4            5         0       3  ...   8.0500   NaN         S\n",
              "\n",
              "[5 rows x 12 columns]"
            ]
          },
          "metadata": {
            "tags": []
          },
          "execution_count": 71
        }
      ]
    },
    {
      "cell_type": "code",
      "metadata": {
        "colab": {
          "base_uri": "https://localhost:8080/"
        },
        "id": "AvGvlRs_TRWV",
        "outputId": "41cbe4fa-827b-4ce3-cdfa-77bf8fedd1da"
      },
      "source": [
        "#Datentyp der Columns mit Angabe der NaN-Values\n",
        "train.info()"
      ],
      "execution_count": 72,
      "outputs": [
        {
          "output_type": "stream",
          "text": [
            "<class 'pandas.core.frame.DataFrame'>\n",
            "RangeIndex: 891 entries, 0 to 890\n",
            "Data columns (total 12 columns):\n",
            " #   Column       Non-Null Count  Dtype  \n",
            "---  ------       --------------  -----  \n",
            " 0   PassengerId  891 non-null    int64  \n",
            " 1   Survived     891 non-null    int64  \n",
            " 2   Pclass       891 non-null    int64  \n",
            " 3   Name         891 non-null    object \n",
            " 4   Sex          891 non-null    object \n",
            " 5   Age          714 non-null    float64\n",
            " 6   SibSp        891 non-null    int64  \n",
            " 7   Parch        891 non-null    int64  \n",
            " 8   Ticket       891 non-null    object \n",
            " 9   Fare         891 non-null    float64\n",
            " 10  Cabin        204 non-null    object \n",
            " 11  Embarked     889 non-null    object \n",
            "dtypes: float64(2), int64(5), object(5)\n",
            "memory usage: 83.7+ KB\n"
          ],
          "name": "stdout"
        }
      ]
    },
    {
      "cell_type": "markdown",
      "metadata": {
        "id": "oqzh_8mQUPKl"
      },
      "source": [
        "\r\n",
        "\r\n",
        "Wie zu sehen sind die Cabin-Einträge zu mehr als 3/4 nicht vorhanden. \r\n",
        "Hier wäre es ratsam die Spalte einfach komplett zu löschen, da sie fürs training unbrauchbar ist.\r\n",
        "\r\n",
        "Auch ist die Ticket-Spalte unbrauchbar.\r\n"
      ]
    },
    {
      "cell_type": "code",
      "metadata": {
        "colab": {
          "base_uri": "https://localhost:8080/"
        },
        "id": "dkJBQ-AHT7_e",
        "outputId": "7680b1f4-543c-4506-e8bd-6cad790d2b21"
      },
      "source": [
        "train[\"Ticket\"].sample(20)\r\n"
      ],
      "execution_count": 73,
      "outputs": [
        {
          "output_type": "execute_result",
          "data": {
            "text/plain": [
              "211         F.C.C. 13528\n",
              "157      SOTON/OQ 392090\n",
              "599             PC 17485\n",
              "491     SOTON/OQ 3101317\n",
              "525               367232\n",
              "802               113760\n",
              "825               368323\n",
              "18                345763\n",
              "145           C.A. 33112\n",
              "115    STON/O 2. 3101294\n",
              "586               237565\n",
              "598                 2664\n",
              "880               230433\n",
              "654               365226\n",
              "590    STON/O 2. 3101273\n",
              "750                29103\n",
              "445                33638\n",
              "139             PC 17593\n",
              "861                28134\n",
              "774                29105\n",
              "Name: Ticket, dtype: object"
            ]
          },
          "metadata": {
            "tags": []
          },
          "execution_count": 73
        }
      ]
    },
    {
      "cell_type": "code",
      "metadata": {
        "id": "0lFZ0GbFU-nZ",
        "colab": {
          "base_uri": "https://localhost:8080/"
        },
        "outputId": "fbd444a5-801d-444a-c01d-4d8ceeb15f90"
      },
      "source": [
        "train.drop([\"Cabin\",\"Ticket\"],axis=1, inplace = True)\r\n",
        "train.columns"
      ],
      "execution_count": 74,
      "outputs": [
        {
          "output_type": "execute_result",
          "data": {
            "text/plain": [
              "Index(['PassengerId', 'Survived', 'Pclass', 'Name', 'Sex', 'Age', 'SibSp',\n",
              "       'Parch', 'Fare', 'Embarked'],\n",
              "      dtype='object')"
            ]
          },
          "metadata": {
            "tags": []
          },
          "execution_count": 74
        }
      ]
    },
    {
      "cell_type": "markdown",
      "metadata": {
        "id": "7FYa_N2wLCwJ"
      },
      "source": [
        "Um ein Gespür für die Daten zu erhalten ist die Visualisierung ein guter Anfang.\r\n",
        "Vorallem die Anzahl der Überlebenden sortiert nach Geschlecht und Alter wäre interessant.\r\n"
      ]
    },
    {
      "cell_type": "code",
      "metadata": {
        "colab": {
          "base_uri": "https://localhost:8080/",
          "height": 621
        },
        "id": "SAJ0XAtRUFnq",
        "outputId": "54842e1d-887a-48eb-f0d7-7819a6fe77ac"
      },
      "source": [
        "f,ax = plt.subplots(2,3,figsize=(20,10))\r\n",
        "\r\n",
        "\r\n",
        "#Survived Sex\r\n",
        "plt.subplot(2,3,1)\r\n",
        "sns.countplot(x=\"Sex\", data = train, hue = \"Survived\")\r\n",
        "plt.title(\"Survival by Sex\")\r\n",
        "plt.grid(axis =\"y\")\r\n",
        "\r\n",
        "#Survived Class\r\n",
        "plt.subplot(2,3,2)\r\n",
        "sns.countplot(x=\"Pclass\", data = train, hue = \"Survived\")\r\n",
        "plt.title(\"Survival by Class\")\r\n",
        "plt.grid(axis =\"y\")\r\n",
        "\r\n",
        "#Survived Embarked\r\n",
        "plt.subplot(2,3,3)\r\n",
        "sns.countplot(x=\"Embarked\", data = train, hue = \"Survived\")\r\n",
        "plt.title(\"Survival by Embarked\")\r\n",
        "plt.grid(axis =\"y\")\r\n",
        "\r\n",
        "#Age\r\n",
        "plt.subplot(2,3,4)\r\n",
        "sns.histplot(train[\"Age\"], bins = 30, kde = False) # kde = die Ausgleichskurve\r\n",
        "plt.title(\"Age distribution\")\r\n",
        "plt.grid(axis =\"y\")\r\n",
        "\r\n",
        "#Age Class\r\n",
        "plt.subplot(2,3,5)\r\n",
        "sns.boxplot(x = train[\"Pclass\"],y = train[\"Age\"])\r\n",
        "plt.title(\"Age distribution Class\")\r\n",
        "plt.grid(axis =\"y\")\r\n",
        "\r\n",
        "#Age Embarked\r\n",
        "plt.subplot(2,3,6)\r\n",
        "sns.boxplot(x = train[\"Embarked\"],y = train[\"Age\"])\r\n",
        "plt.title(\"Age distribution Embarked\")\r\n",
        "plt.grid(axis =\"y\")\r\n",
        "\r\n",
        "\r\n",
        "\r\n"
      ],
      "execution_count": 120,
      "outputs": [
        {
          "output_type": "display_data",
          "data": {
            "image/png": "[encoded data removed]",
            "text/plain": [
              "<Figure size 1440x720 with 6 Axes>"
            ]
          },
          "metadata": {
            "tags": [],
            "needs_background": "light"
          }
        }
      ]
    },
    {
      "cell_type": "code",
      "metadata": {
        "colab": {
          "base_uri": "https://localhost:8080/",
          "height": 350
        },
        "id": "iLqKDpbTUF15",
        "outputId": "13f3d4b3-2b95-4ea6-c28c-4384e8c3ccf7"
      },
      "source": [
        "f,ax = plt.subplots(1,3,figsize=(20,5))\r\n",
        "#Survived Parch\r\n",
        "plt.subplot(1,3,1)\r\n",
        "sns.countplot(x=\"Parch\", data = train, hue = \"Survived\")\r\n",
        "plt.title(\"Survival by Parch\")\r\n",
        "plt.grid(axis =\"y\")\r\n",
        "plt.legend(loc = \"upper right\")\r\n",
        "\r\n",
        "#Survived SibSp\r\n",
        "plt.subplot(1,3,2)\r\n",
        "sns.countplot(x=\"SibSp\", data = train, hue = \"Survived\")\r\n",
        "plt.title(\"Survival by SibSp\")\r\n",
        "plt.grid(axis =\"y\")\r\n",
        "plt.legend(loc = \"upper right\")\r\n",
        "\r\n",
        "#Survived Fare\r\n",
        "plt.subplot(1,3,3)\r\n",
        "sns.histplot(x=\"Fare\", data = train, hue = \"Survived\", bins = 30)\r\n",
        "plt.title(\"Survival by Fare\")\r\n",
        "plt.grid(axis =\"y\")\r\n",
        "\r\n"
      ],
      "execution_count": 129,
      "outputs": [
        {
          "output_type": "display_data",
          "data": {
            "image/png": "[encoded data removed]",
            "text/plain": [
              "<Figure size 1440x360 with 3 Axes>"
            ]
          },
          "metadata": {
            "tags": [],
            "needs_background": "light"
          }
        }
      ]
    },
    {
      "cell_type": "code",
      "metadata": {
        "id": "VhtXoNBGUGBV"
      },
      "source": [
        ""
      ],
      "execution_count": null,
      "outputs": []
    },
    {
      "cell_type": "markdown",
      "metadata": {
        "id": "l2chpjI1LCly"
      },
      "source": [
        "Als nächstes müssen wir nun die verbleibenden Daten für die statistischen Modelle vorbereiten, da die Modelle nur Zahlenwerte verarbeiten können.\r\n",
        "Für \"Sex\" bietet sich eine binäre Einteilung ein.\r\n",
        "Das geht entweder durch df.get_dummies(), df.replace() oder die df.apply() Funktionen"
      ]
    },
    {
      "cell_type": "code",
      "metadata": {
        "id": "PozdyBO0OKt2"
      },
      "source": [
        "#Ersetzen der Einträge mit binären Werten mittels dummys\r\n",
        "train[\"Sex\"] = pd.get_dummies(train[\"Sex\"], drop_first = True)\r\n"
      ],
      "execution_count": 53,
      "outputs": []
    },
    {
      "cell_type": "code",
      "metadata": {
        "colab": {
          "base_uri": "https://localhost:8080/"
        },
        "id": "GlVq6nlvQyi4",
        "outputId": "e0ebbbe1-ddd0-45f6-e868-94c08fa5e6bf"
      },
      "source": [
        "#replace-Funktion mittels dictionary\r\n",
        "train[\"Sex\"].replace({\"male\":1, \"female\":0})"
      ],
      "execution_count": 65,
      "outputs": [
        {
          "output_type": "execute_result",
          "data": {
            "text/plain": [
              "0      1\n",
              "1      0\n",
              "2      0\n",
              "3      0\n",
              "4      1\n",
              "      ..\n",
              "886    1\n",
              "887    0\n",
              "888    0\n",
              "889    1\n",
              "890    1\n",
              "Name: Sex, Length: 891, dtype: int64"
            ]
          },
          "metadata": {
            "tags": []
          },
          "execution_count": 65
        }
      ]
    },
    {
      "cell_type": "code",
      "metadata": {
        "colab": {
          "base_uri": "https://localhost:8080/"
        },
        "id": "dEv2S9AvQys3",
        "outputId": "3259ce7a-82b5-40db-b196-c3700998653a"
      },
      "source": [
        "#apply mittels lambda-Funktion und dictionary\r\n",
        "sex = {\"male\":1, \"female\":0}\r\n",
        "train[\"Sex\"].apply(lambda x:sex[x] )"
      ],
      "execution_count": 69,
      "outputs": [
        {
          "output_type": "execute_result",
          "data": {
            "text/plain": [
              "0      1\n",
              "1      0\n",
              "2      0\n",
              "3      0\n",
              "4      1\n",
              "      ..\n",
              "886    1\n",
              "887    0\n",
              "888    0\n",
              "889    1\n",
              "890    1\n",
              "Name: Sex, Length: 891, dtype: int64"
            ]
          },
          "metadata": {
            "tags": []
          },
          "execution_count": 69
        }
      ]
    },
    {
      "cell_type": "markdown",
      "metadata": {
        "id": "XDqqqzWELDNd"
      },
      "source": [
        ""
      ]
    },
    {
      "cell_type": "code",
      "metadata": {
        "id": "Hm7tO03dLDkb"
      },
      "source": [
        ""
      ],
      "execution_count": null,
      "outputs": []
    },
    {
      "cell_type": "code",
      "metadata": {
        "id": "qs12AiT1LDnu"
      },
      "source": [
        ""
      ],
      "execution_count": null,
      "outputs": []
    },
    {
      "cell_type": "code",
      "metadata": {
        "id": "0KqS5Tq4LDrx"
      },
      "source": [
        ""
      ],
      "execution_count": null,
      "outputs": []
    },
    {
      "cell_type": "code",
      "metadata": {
        "id": "-VF0JCxWLDxt"
      },
      "source": [
        ""
      ],
      "execution_count": null,
      "outputs": []
    }
  ]
}