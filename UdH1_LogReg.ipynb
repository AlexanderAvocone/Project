{
  "nbformat": 4,
  "nbformat_minor": 0,
  "metadata": {
    "colab": {
      "name": "UdH1 LogReg.ipynb",
      "provenance": [],
      "collapsed_sections": [],
      "authorship_tag": "ABX9TyNLNAzeSQSaXzL/ON8cfvhS",
      "include_colab_link": true
    },
    "kernelspec": {
      "name": "python3",
      "display_name": "Python 3"
    },
    "language_info": {
      "name": "python"
    }
  },
  "cells": [
    {
      "cell_type": "markdown",
      "metadata": {
        "id": "view-in-github",
        "colab_type": "text"
      },
      "source": [
        "<a href=\"https://colab.research.google.com/github/AlexanderAvocone/Project/blob/master/UdH1_LogReg.ipynb\" target=\"_parent\"><img src=\"https://colab.research.google.com/assets/colab-badge.svg\" alt=\"Open In Colab\"/></a>"
      ]
    },
    {
      "cell_type": "markdown",
      "metadata": {
        "id": "10hUwivh_Zz6"
      },
      "source": [
        "#**Unter der Haube 1: Logistische Regression**"
      ]
    },
    {
      "cell_type": "markdown",
      "metadata": {
        "id": "_AeFWDcNlw8_"
      },
      "source": [
        "##**Testdaten**"
      ]
    },
    {
      "cell_type": "code",
      "metadata": {
        "colab": {
          "base_uri": "https://localhost:8080/",
          "height": 343
        },
        "id": "NiyChsuelvXc",
        "outputId": "74b0be34-bb19-4304-81a6-26e25855e881"
      },
      "source": [
        "import matplotlib.pyplot as plt\n",
        "import numpy as np\n",
        "import seaborn as sns\n",
        "from sklearn.datasets import load_iris\n",
        "iris = load_iris()\n",
        "\n",
        "X = iris.data[:, :2]\n",
        "Y = (iris.target != 0) * 1\n",
        "\n",
        "sns.scatterplot(X[:,0], X[:,1], hue = Y)\n"
      ],
      "execution_count": 354,
      "outputs": [
        {
          "output_type": "stream",
          "text": [
            "/usr/local/lib/python3.7/dist-packages/seaborn/_decorators.py:43: FutureWarning: Pass the following variables as keyword args: x, y. From version 0.12, the only valid positional argument will be `data`, and passing other arguments without an explicit keyword will result in an error or misinterpretation.\n",
            "  FutureWarning\n"
          ],
          "name": "stderr"
        },
        {
          "output_type": "execute_result",
          "data": {
            "text/plain": [
              "<matplotlib.axes._subplots.AxesSubplot at 0x7f9d71fc3410>"
            ]
          },
          "metadata": {
            "tags": []
          },
          "execution_count": 354
        },
        {
          "output_type": "display_data",
          "data": {
            "image/png": "[encoded data removed]",
            "text/plain": [
              "<Figure size 432x288 with 1 Axes>"
            ]
          },
          "metadata": {
            "tags": [],
            "needs_background": "light"
          }
        }
      ]
    },
    {
      "cell_type": "markdown",
      "metadata": {
        "id": "HJGShXRrDvbf"
      },
      "source": [
        "##**Sigmoid Funktion:**\n",
        "$s(w) = \\frac{1}{1+e^{-w}}$ wobei $w = w_1x_{11} + w_2x_{12} + ... w_mx_{nm} = \\hat{X}\\vec{w}$"
      ]
    },
    {
      "cell_type": "code",
      "metadata": {
        "id": "EZRLW-21_Wyp"
      },
      "source": [
        "def W(X, w):\n",
        "  #X.shape = (n, dimensions)\n",
        "  #w.shape = (dimensions , 1)\n",
        "  #omega.shape = (n, 1) = X * w\n",
        "  return np.dot(X,w)\n",
        "\n",
        "def sigmoid(z):\n",
        "    return 1/(1+np.exp(-z))\n",
        "\n",
        "#Startvalues for w\n",
        "w = np.ones(shape= (X.shape[1],1))\n",
        "\n",
        "#h0 for costfunction\n",
        "h0 = sigmoid(W(X,w))\n",
        "\n",
        "# y.shape = (150,) gibt Probleme nachher bei h0-y\n",
        "Y.shape =(len(Y),1)\n",
        "\n"
      ],
      "execution_count": 355,
      "outputs": []
    },
    {
      "cell_type": "markdown",
      "metadata": {
        "id": "b33KbBetLcts"
      },
      "source": [
        "##**Cost-Function:**\n",
        "Für die Cost-Function $J(w)$  wird die Cross-Entropy-/Log-Loss-Function verwendet, da MSE (L2) keine \"glatte\" Kurve für $J(w)$ liefert.\n",
        "$\\operatorname{Cost}\\left(h_{w}(x), y\\right)=\\left\\{\\begin{array}{ll}-\\log \\left(h_{w}(x)\\right) & \\text { if } \\mathbf{y}=1 \\\\ -\\log \\left(1-h_{w}(x)\\right) & \\text { if } \\mathbf{y}=0\\end{array}\\right. \\rightarrow \\: \\: J(w)=-\\frac{1}{m} \\sum_{i=1}^{m} [y_i \\log \\left(h_{w}(x_i)\\right)+(1-y_i) \\log \\left(1-h_{w}(x_i)\\right)]$"
      ]
    },
    {
      "cell_type": "code",
      "metadata": {
        "id": "ZJgep6ylEQP9"
      },
      "source": [
        "def cost_function(h0,y):\n",
        "  \n",
        "  y1 = y*np.log(h0)\n",
        "  y0 = (1-y)*np.log(1-h0)\n",
        "  cost = -(y1+y0).mean()\n",
        "  return cost\n"
      ],
      "execution_count": 356,
      "outputs": []
    },
    {
      "cell_type": "markdown",
      "metadata": {
        "id": "vwquWHsJg357"
      },
      "source": [
        "##**Gradient descent**\n",
        "Minimum der Cost-Function zur Bestimmung von $w_{new}$ in jeder Iteration.\n",
        "\n",
        "$\\nabla_{\\theta}J(w) = \\frac{1}{m} \\sum_{i=1}^{m}\\left(h_{w}\\left(x^{(i)}\\right)-y^{(i)}\\right) x_{j}^{(i)} \\: \\rightarrow \\: \\: w_{new,i} = w_i - \\alpha \\: \\partial_{w_i} J(\\theta)$ "
      ]
    },
    {
      "cell_type": "code",
      "metadata": {
        "id": "qwMWPJQm0nIt"
      },
      "source": [
        "def W_new(X, w, h0, y, alpha):\n",
        " \n",
        "  m = len(y)\n",
        "  # X-(150,2), h0-(150,1), y-(150,1) w-(2,1) -->   X.T * (h0-y) - (2,1)\n",
        "  gradient = np.dot(X.T,h0-y)/m\n",
        "  #w_neu:\n",
        "  w = w - alpha*gradient\n",
        "  return w\n",
        "\n"
      ],
      "execution_count": 357,
      "outputs": []
    },
    {
      "cell_type": "markdown",
      "metadata": {
        "id": "6bJFXkGk-Jqq"
      },
      "source": [
        "##**Training**"
      ]
    },
    {
      "cell_type": "code",
      "metadata": {
        "id": "PJMKjoGC-MGu"
      },
      "source": [
        "def train(X, w, y, alpha, iter = 10000):\n",
        "\n",
        "  cost_all = []\n",
        "  w0_all = []\n",
        "  w1_all = []\n",
        "  for i in range(iter):\n",
        "    w = W_new(X,w, sigmoid(W(X,w)), Y, alpha)\n",
        "\n",
        "    #Get all costs to plot later\n",
        "    cost = cost_function(sigmoid(W(X,w)),Y)\n",
        "    cost_all.append(cost)\n",
        "    w0_all.append(w[0])\n",
        "    w1_all.append(w[1])\n",
        "\n",
        "  return w, cost_all, w0_all, w1_all\n",
        "\n",
        "\n",
        "def predict(X, w, treshold = 0.5):\n",
        "  return sigmoid(np.dot(X,w)) >= treshold\n",
        "\n",
        "W,cost,w1,w2 = train(X,w,y,.01)\n"
      ],
      "execution_count": 358,
      "outputs": []
    },
    {
      "cell_type": "markdown",
      "metadata": {
        "id": "XzW3YeRV6Ucm"
      },
      "source": [
        "##**Visualsierung von cost und $w$**"
      ]
    },
    {
      "cell_type": "code",
      "metadata": {
        "id": "_rD7HCTDpaZZ",
        "colab": {
          "base_uri": "https://localhost:8080/",
          "height": 369
        },
        "outputId": "2a731dee-df0f-47c3-ab38-00f043b07b3b"
      },
      "source": [
        "iterations = np.linspace(0,10000,10000)\n",
        "\n",
        "\n",
        "plt.figure(figsize=(10,5), tight_layout = True)\n",
        "plt.plot(iterations, cost, label = \"cost\")\n",
        "plt.plot(iterations, w1, label = \"w1\")\n",
        "plt.plot(iterations, w2, label = \"w2\")\n",
        "plt.xlabel(\"Iterations\")\n",
        "plt.ylabel(\"Relative value\")\n",
        "plt.legend()\n",
        "plt.grid()\n"
      ],
      "execution_count": 359,
      "outputs": [
        {
          "output_type": "display_data",
          "data": {
            "image/png": "[encoded data removed]",
            "text/plain": [
              "<Figure size 720x360 with 1 Axes>"
            ]
          },
          "metadata": {
            "tags": [],
            "needs_background": "light"
          }
        }
      ]
    },
    {
      "cell_type": "markdown",
      "metadata": {
        "id": "5u4H1vpsBElJ"
      },
      "source": [
        "##**Vergleich mit Sklearn**"
      ]
    },
    {
      "cell_type": "code",
      "metadata": {
        "colab": {
          "base_uri": "https://localhost:8080/"
        },
        "id": "N_Zf2Za35owl",
        "outputId": "03086f36-7c57-47fe-e44c-e66ab5d5b748"
      },
      "source": [
        "from sklearn.linear_model import LogisticRegression\n",
        "from sklearn.model_selection import train_test_split\n",
        "\n",
        "logreg = LogisticRegression()\n",
        "Y.shape = (150,)\n",
        "X_train, x_test, Y_train, y_test = train_test_split(X, Y, test_size=0.33, random_state=101, stratify = Y)\n",
        "logreg.fit(X_train, Y_train)\n",
        "\n",
        "#Vergleich\n",
        "print(\"DIY-logistic regression:\")\n",
        "print(W.shape)\n",
        "print(\"Final w1:\",W[0,0], \"   Final w2:\",W[1,0])\n",
        "\n",
        "coeff = logreg.coef_\n",
        "print(\"\\nSklearn:\")\n",
        "print(coeff.shape)\n",
        "print(print(\"Final w1:\",coeff[0,0], \"   Final w2:\",coeff[0,1]))\n"
      ],
      "execution_count": 366,
      "outputs": [
        {
          "output_type": "stream",
          "text": [
            "DIY-logistic regression:\n",
            "(2, 1)\n",
            "Final w1: 2.8599988111734396    Final w2: -4.906903072966444\n",
            "\n",
            "Sklearn:\n",
            "(1, 2)\n",
            "Final w1: 2.937708819892263    Final w2: -2.749779540643096\n",
            "None\n"
          ],
          "name": "stdout"
        }
      ]
    },
    {
      "cell_type": "code",
      "metadata": {
        "id": "7wVdt0byFAls"
      },
      "source": [
        ""
      ],
      "execution_count": null,
      "outputs": []
    }
  ]
}