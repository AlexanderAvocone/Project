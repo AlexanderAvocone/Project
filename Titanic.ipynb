{
  "nbformat": 4,
  "nbformat_minor": 0,
  "metadata": {
    "colab": {
      "name": "Titanic.ipynb",
      "provenance": [],
      "collapsed_sections": [],
      "authorship_tag": "ABX9TyON2upvdfXUFFZyk9F5GJdZ",
      "include_colab_link": true
    },
    "kernelspec": {
      "name": "python3",
      "display_name": "Python 3"
    }
  },
  "cells": [
    {
      "cell_type": "markdown",
      "metadata": {
        "id": "view-in-github",
        "colab_type": "text"
      },
      "source": [
        "<a href=\"https://colab.research.google.com/github/AlexanderAvocone/Project/blob/master/Titanic.ipynb\" target=\"_parent\"><img src=\"https://colab.research.google.com/assets/colab-badge.svg\" alt=\"Open In Colab\"/></a>"
      ]
    },
    {
      "cell_type": "markdown",
      "metadata": {
        "id": "XTg7htT4RRjH"
      },
      "source": [
        "##**Daten einlesen**\n",
        "Ziel der Übung ist die Datenanalyse von der Titanic-challenge mit verschiedenen ML-Modellen."
      ]
    },
    {
      "cell_type": "code",
      "metadata": {
        "id": "q-kT33KXK46F"
      },
      "source": [
        "import pandas as pd\n",
        "import numpy as np\n",
        "import matplotlib.pyplot as plt\n",
        "import sklearn\n",
        "import seaborn as sns"
      ],
      "execution_count": 141,
      "outputs": []
    },
    {
      "cell_type": "markdown",
      "metadata": {
        "id": "WxaVLvG5GKPh"
      },
      "source": [
        "# Als Erstes müssen die Daten geladen und grob überflogen werden um sich einen Eindruck über die Einträge zu verschaffen"
      ]
    },
    {
      "cell_type": "code",
      "metadata": {
        "id": "CX5qDD4VN57i",
        "colab": {
          "base_uri": "https://localhost:8080/",
          "height": 496
        },
        "outputId": "b1e1d567-200c-4d7a-8aa3-27b3db903ea1"
      },
      "source": [
        "#Daten laden\n",
        "train = pd.read_csv(\"train.csv\")\n",
        "\n",
        "\n",
        "#Overview der Daten\n",
        "train.head()\n"
      ],
      "execution_count": 142,
      "outputs": [
        {
          "output_type": "execute_result",
          "data": {
            "text/html": [
              "<div>\n",
              "<style scoped>\n",
              "    .dataframe tbody tr th:only-of-type {\n",
              "        vertical-align: middle;\n",
              "    }\n",
              "\n",
              "    .dataframe tbody tr th {\n",
              "        vertical-align: top;\n",
              "    }\n",
              "\n",
              "    .dataframe thead th {\n",
              "        text-align: right;\n",
              "    }\n",
              "</style>\n",
              "<table border=\"1\" class=\"dataframe\">\n",
              "  <thead>\n",
              "    <tr style=\"text-align: right;\">\n",
              "      <th></th>\n",
              "      <th>PassengerId</th>\n",
              "      <th>Survived</th>\n",
              "      <th>Pclass</th>\n",
              "      <th>Name</th>\n",
              "      <th>Sex</th>\n",
              "      <th>Age</th>\n",
              "      <th>SibSp</th>\n",
              "      <th>Parch</th>\n",
              "      <th>Ticket</th>\n",
              "      <th>Fare</th>\n",
              "      <th>Cabin</th>\n",
              "      <th>Embarked</th>\n",
              "    </tr>\n",
              "  </thead>\n",
              "  <tbody>\n",
              "    <tr>\n",
              "      <th>0</th>\n",
              "      <td>1</td>\n",
              "      <td>0</td>\n",
              "      <td>3</td>\n",
              "      <td>Braund, Mr. Owen Harris</td>\n",
              "      <td>male</td>\n",
              "      <td>22.0</td>\n",
              "      <td>1</td>\n",
              "      <td>0</td>\n",
              "      <td>A/5 21171</td>\n",
              "      <td>7.2500</td>\n",
              "      <td>NaN</td>\n",
              "      <td>S</td>\n",
              "    </tr>\n",
              "    <tr>\n",
              "      <th>1</th>\n",
              "      <td>2</td>\n",
              "      <td>1</td>\n",
              "      <td>1</td>\n",
              "      <td>Cumings, Mrs. John Bradley (Florence Briggs Th...</td>\n",
              "      <td>female</td>\n",
              "      <td>38.0</td>\n",
              "      <td>1</td>\n",
              "      <td>0</td>\n",
              "      <td>PC 17599</td>\n",
              "      <td>71.2833</td>\n",
              "      <td>C85</td>\n",
              "      <td>C</td>\n",
              "    </tr>\n",
              "    <tr>\n",
              "      <th>2</th>\n",
              "      <td>3</td>\n",
              "      <td>1</td>\n",
              "      <td>3</td>\n",
              "      <td>Heikkinen, Miss. Laina</td>\n",
              "      <td>female</td>\n",
              "      <td>26.0</td>\n",
              "      <td>0</td>\n",
              "      <td>0</td>\n",
              "      <td>STON/O2. 3101282</td>\n",
              "      <td>7.9250</td>\n",
              "      <td>NaN</td>\n",
              "      <td>S</td>\n",
              "    </tr>\n",
              "    <tr>\n",
              "      <th>3</th>\n",
              "      <td>4</td>\n",
              "      <td>1</td>\n",
              "      <td>1</td>\n",
              "      <td>Futrelle, Mrs. Jacques Heath (Lily May Peel)</td>\n",
              "      <td>female</td>\n",
              "      <td>35.0</td>\n",
              "      <td>1</td>\n",
              "      <td>0</td>\n",
              "      <td>113803</td>\n",
              "      <td>53.1000</td>\n",
              "      <td>C123</td>\n",
              "      <td>S</td>\n",
              "    </tr>\n",
              "    <tr>\n",
              "      <th>4</th>\n",
              "      <td>5</td>\n",
              "      <td>0</td>\n",
              "      <td>3</td>\n",
              "      <td>Allen, Mr. William Henry</td>\n",
              "      <td>male</td>\n",
              "      <td>35.0</td>\n",
              "      <td>0</td>\n",
              "      <td>0</td>\n",
              "      <td>373450</td>\n",
              "      <td>8.0500</td>\n",
              "      <td>NaN</td>\n",
              "      <td>S</td>\n",
              "    </tr>\n",
              "  </tbody>\n",
              "</table>\n",
              "</div>"
            ],
            "text/plain": [
              "   PassengerId  Survived  Pclass  ...     Fare Cabin  Embarked\n",
              "0            1         0       3  ...   7.2500   NaN         S\n",
              "1            2         1       1  ...  71.2833   C85         C\n",
              "2            3         1       3  ...   7.9250   NaN         S\n",
              "3            4         1       1  ...  53.1000  C123         S\n",
              "4            5         0       3  ...   8.0500   NaN         S\n",
              "\n",
              "[5 rows x 12 columns]"
            ]
          },
          "metadata": {
            "tags": []
          },
          "execution_count": 142
        }
      ]
    },
    {
      "cell_type": "markdown",
      "metadata": {
        "id": "vsB2Ki7pIcS3"
      },
      "source": [
        "##**Grobe Datenübersicht**\n"
      ]
    },
    {
      "cell_type": "code",
      "metadata": {
        "colab": {
          "base_uri": "https://localhost:8080/"
        },
        "id": "AvGvlRs_TRWV",
        "outputId": "c98986ce-f6cb-47e3-f2e5-9a541a7ffbf8"
      },
      "source": [
        "#Datentyp der Columns mit Angabe der NaN-Values\n",
        "train.info()"
      ],
      "execution_count": 143,
      "outputs": [
        {
          "output_type": "stream",
          "text": [
            "<class 'pandas.core.frame.DataFrame'>\n",
            "RangeIndex: 891 entries, 0 to 890\n",
            "Data columns (total 12 columns):\n",
            " #   Column       Non-Null Count  Dtype  \n",
            "---  ------       --------------  -----  \n",
            " 0   PassengerId  891 non-null    int64  \n",
            " 1   Survived     891 non-null    int64  \n",
            " 2   Pclass       891 non-null    int64  \n",
            " 3   Name         891 non-null    object \n",
            " 4   Sex          891 non-null    object \n",
            " 5   Age          714 non-null    float64\n",
            " 6   SibSp        891 non-null    int64  \n",
            " 7   Parch        891 non-null    int64  \n",
            " 8   Ticket       891 non-null    object \n",
            " 9   Fare         891 non-null    float64\n",
            " 10  Cabin        204 non-null    object \n",
            " 11  Embarked     889 non-null    object \n",
            "dtypes: float64(2), int64(5), object(5)\n",
            "memory usage: 83.7+ KB\n"
          ],
          "name": "stdout"
        }
      ]
    },
    {
      "cell_type": "markdown",
      "metadata": {
        "id": "oqzh_8mQUPKl"
      },
      "source": [
        "\n",
        "\n",
        "Wie zu sehen sind die Cabin-Einträge zu mehr als 3/4 nicht vorhanden. \n",
        "Hier wäre es ratsam die Spalte einfach komplett zu löschen, da sie fürs training unbrauchbar ist.\n",
        "\n",
        "Auch ist die Ticket- und PassengerId-Spalte unbrauchbar.\n"
      ]
    },
    {
      "cell_type": "code",
      "metadata": {
        "colab": {
          "base_uri": "https://localhost:8080/"
        },
        "id": "dkJBQ-AHT7_e",
        "outputId": "3af2d2c9-4b77-4ff9-ffcc-4a14480932ae"
      },
      "source": [
        "train[\"Ticket\"].sample(20)\n"
      ],
      "execution_count": 144,
      "outputs": [
        {
          "output_type": "execute_result",
          "data": {
            "text/plain": [
              "590    STON/O 2. 3101273\n",
              "881               349257\n",
              "186               370365\n",
              "415               343095\n",
              "673               244270\n",
              "702                 2691\n",
              "538               364498\n",
              "666               234686\n",
              "105               349207\n",
              "359               330980\n",
              "283           A/5. 10482\n",
              "284               113056\n",
              "316               244367\n",
              "803                 2625\n",
              "668             A/5 3536\n",
              "600               243847\n",
              "442               347076\n",
              "736           W./C. 6608\n",
              "232               237442\n",
              "374               349909\n",
              "Name: Ticket, dtype: object"
            ]
          },
          "metadata": {
            "tags": []
          },
          "execution_count": 144
        }
      ]
    },
    {
      "cell_type": "code",
      "metadata": {
        "id": "0lFZ0GbFU-nZ",
        "colab": {
          "base_uri": "https://localhost:8080/"
        },
        "outputId": "5a565dff-7e83-4a6b-a3a0-6e44d39bb5b3"
      },
      "source": [
        "train.drop([\"Cabin\",\"Ticket\"],axis=1, inplace = True)\n",
        "train.columns"
      ],
      "execution_count": 145,
      "outputs": [
        {
          "output_type": "execute_result",
          "data": {
            "text/plain": [
              "Index(['PassengerId', 'Survived', 'Pclass', 'Name', 'Sex', 'Age', 'SibSp',\n",
              "       'Parch', 'Fare', 'Embarked'],\n",
              "      dtype='object')"
            ]
          },
          "metadata": {
            "tags": []
          },
          "execution_count": 145
        }
      ]
    },
    {
      "cell_type": "markdown",
      "metadata": {
        "id": "XDqqqzWELDNd"
      },
      "source": [
        "Mittels der describe()-Funktion erhält man einen groben Überblick über die Daten, wie zum Beispiel die Überlebensrate und die Altersspanne.\n"
      ]
    },
    {
      "cell_type": "code",
      "metadata": {
        "colab": {
          "base_uri": "https://localhost:8080/",
          "height": 297
        },
        "id": "WBDxgqjDxJrV",
        "outputId": "34093ba6-22ab-4161-a795-6230001640a1"
      },
      "source": [
        "train.describe()\n"
      ],
      "execution_count": 146,
      "outputs": [
        {
          "output_type": "execute_result",
          "data": {
            "text/html": [
              "<div>\n",
              "<style scoped>\n",
              "    .dataframe tbody tr th:only-of-type {\n",
              "        vertical-align: middle;\n",
              "    }\n",
              "\n",
              "    .dataframe tbody tr th {\n",
              "        vertical-align: top;\n",
              "    }\n",
              "\n",
              "    .dataframe thead th {\n",
              "        text-align: right;\n",
              "    }\n",
              "</style>\n",
              "<table border=\"1\" class=\"dataframe\">\n",
              "  <thead>\n",
              "    <tr style=\"text-align: right;\">\n",
              "      <th></th>\n",
              "      <th>PassengerId</th>\n",
              "      <th>Survived</th>\n",
              "      <th>Pclass</th>\n",
              "      <th>Age</th>\n",
              "      <th>SibSp</th>\n",
              "      <th>Parch</th>\n",
              "      <th>Fare</th>\n",
              "    </tr>\n",
              "  </thead>\n",
              "  <tbody>\n",
              "    <tr>\n",
              "      <th>count</th>\n",
              "      <td>891.000000</td>\n",
              "      <td>891.000000</td>\n",
              "      <td>891.000000</td>\n",
              "      <td>714.000000</td>\n",
              "      <td>891.000000</td>\n",
              "      <td>891.000000</td>\n",
              "      <td>891.000000</td>\n",
              "    </tr>\n",
              "    <tr>\n",
              "      <th>mean</th>\n",
              "      <td>446.000000</td>\n",
              "      <td>0.383838</td>\n",
              "      <td>2.308642</td>\n",
              "      <td>29.699118</td>\n",
              "      <td>0.523008</td>\n",
              "      <td>0.381594</td>\n",
              "      <td>32.204208</td>\n",
              "    </tr>\n",
              "    <tr>\n",
              "      <th>std</th>\n",
              "      <td>257.353842</td>\n",
              "      <td>0.486592</td>\n",
              "      <td>0.836071</td>\n",
              "      <td>14.526497</td>\n",
              "      <td>1.102743</td>\n",
              "      <td>0.806057</td>\n",
              "      <td>49.693429</td>\n",
              "    </tr>\n",
              "    <tr>\n",
              "      <th>min</th>\n",
              "      <td>1.000000</td>\n",
              "      <td>0.000000</td>\n",
              "      <td>1.000000</td>\n",
              "      <td>0.420000</td>\n",
              "      <td>0.000000</td>\n",
              "      <td>0.000000</td>\n",
              "      <td>0.000000</td>\n",
              "    </tr>\n",
              "    <tr>\n",
              "      <th>25%</th>\n",
              "      <td>223.500000</td>\n",
              "      <td>0.000000</td>\n",
              "      <td>2.000000</td>\n",
              "      <td>20.125000</td>\n",
              "      <td>0.000000</td>\n",
              "      <td>0.000000</td>\n",
              "      <td>7.910400</td>\n",
              "    </tr>\n",
              "    <tr>\n",
              "      <th>50%</th>\n",
              "      <td>446.000000</td>\n",
              "      <td>0.000000</td>\n",
              "      <td>3.000000</td>\n",
              "      <td>28.000000</td>\n",
              "      <td>0.000000</td>\n",
              "      <td>0.000000</td>\n",
              "      <td>14.454200</td>\n",
              "    </tr>\n",
              "    <tr>\n",
              "      <th>75%</th>\n",
              "      <td>668.500000</td>\n",
              "      <td>1.000000</td>\n",
              "      <td>3.000000</td>\n",
              "      <td>38.000000</td>\n",
              "      <td>1.000000</td>\n",
              "      <td>0.000000</td>\n",
              "      <td>31.000000</td>\n",
              "    </tr>\n",
              "    <tr>\n",
              "      <th>max</th>\n",
              "      <td>891.000000</td>\n",
              "      <td>1.000000</td>\n",
              "      <td>3.000000</td>\n",
              "      <td>80.000000</td>\n",
              "      <td>8.000000</td>\n",
              "      <td>6.000000</td>\n",
              "      <td>512.329200</td>\n",
              "    </tr>\n",
              "  </tbody>\n",
              "</table>\n",
              "</div>"
            ],
            "text/plain": [
              "       PassengerId    Survived      Pclass  ...       SibSp       Parch        Fare\n",
              "count   891.000000  891.000000  891.000000  ...  891.000000  891.000000  891.000000\n",
              "mean    446.000000    0.383838    2.308642  ...    0.523008    0.381594   32.204208\n",
              "std     257.353842    0.486592    0.836071  ...    1.102743    0.806057   49.693429\n",
              "min       1.000000    0.000000    1.000000  ...    0.000000    0.000000    0.000000\n",
              "25%     223.500000    0.000000    2.000000  ...    0.000000    0.000000    7.910400\n",
              "50%     446.000000    0.000000    3.000000  ...    0.000000    0.000000   14.454200\n",
              "75%     668.500000    1.000000    3.000000  ...    1.000000    0.000000   31.000000\n",
              "max     891.000000    1.000000    3.000000  ...    8.000000    6.000000  512.329200\n",
              "\n",
              "[8 rows x 7 columns]"
            ]
          },
          "metadata": {
            "tags": []
          },
          "execution_count": 146
        }
      ]
    },
    {
      "cell_type": "markdown",
      "metadata": {
        "id": "7FYa_N2wLCwJ"
      },
      "source": [
        "##**Visualisierung**\n",
        "Um ein besseres Gespür für die Daten zu erhalten ist die Visualisierung ein guter Anfang.\n",
        "Vorallem die Anzahl der Überlebenden sortiert nach Geschlecht und Alter.\n"
      ]
    },
    {
      "cell_type": "code",
      "metadata": {
        "colab": {
          "base_uri": "https://localhost:8080/",
          "height": 428
        },
        "id": "SAJ0XAtRUFnq",
        "outputId": "b11a377b-c143-452f-b87b-9b343c3a3c15"
      },
      "source": [
        "f,ax = plt.subplots(2,3,figsize=(20,10))\n",
        "\n",
        "\n",
        "#Survived Sex\n",
        "plt.subplot(2,3,1)\n",
        "sns.countplot(x=\"Sex\", data = train, hue = \"Survived\")\n",
        "plt.title(\"Survival by Sex\")\n",
        "plt.grid(axis =\"y\")\n",
        "\n",
        "#Survived Class\n",
        "plt.subplot(2,3,2)\n",
        "sns.countplot(x=\"Pclass\", data = train, hue = \"Survived\")\n",
        "plt.title(\"Survival by Class\")\n",
        "plt.grid(axis =\"y\")\n",
        "\n",
        "#Survived Embarked\n",
        "plt.subplot(2,3,3)\n",
        "sns.countplot(x=\"Embarked\", data = train, hue = \"Survived\")\n",
        "plt.title(\"Survival by Embarked\")\n",
        "plt.grid(axis =\"y\")\n",
        "\n",
        "#Age\n",
        "plt.subplot(2,3,4)\n",
        "sns.histplot(train[\"Age\"], bins = 30, kde = False) # kde = die Ausgleichskurve\n",
        "plt.title(\"Age distribution\")\n",
        "plt.grid(axis =\"y\")\n",
        "\n",
        "#Age Class\n",
        "plt.subplot(2,3,5)\n",
        "sns.boxplot(x = train[\"Pclass\"],y = train[\"Age\"])\n",
        "plt.title(\"Age distribution Class\")\n",
        "plt.grid(axis =\"y\")\n",
        "\n",
        "#Age Embarked\n",
        "plt.subplot(2,3,6)\n",
        "sns.boxplot(x = train[\"Embarked\"],y = train[\"Age\"])\n",
        "plt.title(\"Age distribution Embarked\")\n",
        "plt.grid(axis =\"y\")\n",
        "\n",
        "\n",
        "\n"
      ],
      "execution_count": 147,
      "outputs": [
        {
          "output_type": "display_data",
          "data": {
            "image/png": "[encoded data removed]",
            "text/plain": [
              "<Figure size 1440x720 with 6 Axes>"
            ]
          },
          "metadata": {
            "tags": [],
            "needs_background": "light"
          }
        }
      ]
    },
    {
      "cell_type": "code",
      "metadata": {
        "colab": {
          "base_uri": "https://localhost:8080/",
          "height": 244
        },
        "id": "iLqKDpbTUF15",
        "outputId": "94e62840-18ba-483a-e47e-6fd0f12e5f56"
      },
      "source": [
        "f,ax = plt.subplots(1,3,figsize=(20,5))\n",
        "#Survived Parch\n",
        "plt.subplot(1,3,1)\n",
        "sns.countplot(x=\"Parch\", data = train, hue = \"Survived\")\n",
        "plt.title(\"Survival by Parch\")\n",
        "plt.grid(axis =\"y\")\n",
        "plt.legend(loc = \"upper right\")\n",
        "\n",
        "#Survived SibSp\n",
        "plt.subplot(1,3,2)\n",
        "sns.countplot(x=\"SibSp\", data = train, hue = \"Survived\")\n",
        "plt.title(\"Survival by SibSp\")\n",
        "plt.grid(axis =\"y\")\n",
        "plt.legend(loc = \"upper right\")\n",
        "\n",
        "#Survived Fare\n",
        "plt.subplot(1,3,3)\n",
        "sns.histplot(x=\"Fare\", data = train, hue = \"Survived\", bins = 30)\n",
        "plt.title(\"Survival by Fare\")\n",
        "plt.grid(axis =\"y\")\n",
        "\n"
      ],
      "execution_count": 148,
      "outputs": [
        {
          "output_type": "display_data",
          "data": {
            "image/png": "[encoded data removed]",
            "text/plain": [
              "<Figure size 1440x360 with 3 Axes>"
            ]
          },
          "metadata": {
            "tags": [],
            "needs_background": "light"
          }
        }
      ]
    },
    {
      "cell_type": "markdown",
      "metadata": {
        "id": "XI0VBdrHH5un"
      },
      "source": [
        "##**Datenaufbereitung**\n",
        "Als Nächstes müssen wir nun die verbleibenden Daten für die statistischen Modelle vorbereiten, da die Modelle nur Zahlenwerte verarbeiten können. Für \"Sex\" bietet sich eine binäre Einteilung ein. "
      ]
    },
    {
      "cell_type": "code",
      "metadata": {
        "id": "GlVq6nlvQyi4"
      },
      "source": [
        "#replace-Funktion mittels dictionary\n",
        "train[\"Sex\"] = train[\"Sex\"].replace({\"male\":1, \"female\":0})\n"
      ],
      "execution_count": 149,
      "outputs": []
    },
    {
      "cell_type": "markdown",
      "metadata": {
        "id": "bqa5qG4CHdye"
      },
      "source": [
        "Gleiches gilt für \"Embarked\" und \"Name\".\n",
        "1.   Listeneintrag\n",
        "2.   Listeneintrag\n",
        "\n"
      ]
    },
    {
      "cell_type": "code",
      "metadata": {
        "id": "dEv2S9AvQys3",
        "colab": {
          "base_uri": "https://localhost:8080/",
          "height": 204
        },
        "outputId": "a1b0a8d5-fce8-4f76-8ea1-8faf4ac3d2c7"
      },
      "source": [
        "train[\"Embarked\"].replace({\"S\":0, \"C\":1, \"Q\":2}, inplace = True)\n",
        "#Neue DF für \"Name lenght\"\n",
        "new_train = train\n",
        "new_train[\"Name\"]= train[\"Name\"].apply(lambda x: len(x))\n",
        "new_train.head()\n"
      ],
      "execution_count": 150,
      "outputs": [
        {
          "output_type": "execute_result",
          "data": {
            "text/html": [
              "<div>\n",
              "<style scoped>\n",
              "    .dataframe tbody tr th:only-of-type {\n",
              "        vertical-align: middle;\n",
              "    }\n",
              "\n",
              "    .dataframe tbody tr th {\n",
              "        vertical-align: top;\n",
              "    }\n",
              "\n",
              "    .dataframe thead th {\n",
              "        text-align: right;\n",
              "    }\n",
              "</style>\n",
              "<table border=\"1\" class=\"dataframe\">\n",
              "  <thead>\n",
              "    <tr style=\"text-align: right;\">\n",
              "      <th></th>\n",
              "      <th>PassengerId</th>\n",
              "      <th>Survived</th>\n",
              "      <th>Pclass</th>\n",
              "      <th>Name</th>\n",
              "      <th>Sex</th>\n",
              "      <th>Age</th>\n",
              "      <th>SibSp</th>\n",
              "      <th>Parch</th>\n",
              "      <th>Fare</th>\n",
              "      <th>Embarked</th>\n",
              "    </tr>\n",
              "  </thead>\n",
              "  <tbody>\n",
              "    <tr>\n",
              "      <th>0</th>\n",
              "      <td>1</td>\n",
              "      <td>0</td>\n",
              "      <td>3</td>\n",
              "      <td>23</td>\n",
              "      <td>1</td>\n",
              "      <td>22.0</td>\n",
              "      <td>1</td>\n",
              "      <td>0</td>\n",
              "      <td>7.2500</td>\n",
              "      <td>0.0</td>\n",
              "    </tr>\n",
              "    <tr>\n",
              "      <th>1</th>\n",
              "      <td>2</td>\n",
              "      <td>1</td>\n",
              "      <td>1</td>\n",
              "      <td>51</td>\n",
              "      <td>0</td>\n",
              "      <td>38.0</td>\n",
              "      <td>1</td>\n",
              "      <td>0</td>\n",
              "      <td>71.2833</td>\n",
              "      <td>1.0</td>\n",
              "    </tr>\n",
              "    <tr>\n",
              "      <th>2</th>\n",
              "      <td>3</td>\n",
              "      <td>1</td>\n",
              "      <td>3</td>\n",
              "      <td>22</td>\n",
              "      <td>0</td>\n",
              "      <td>26.0</td>\n",
              "      <td>0</td>\n",
              "      <td>0</td>\n",
              "      <td>7.9250</td>\n",
              "      <td>0.0</td>\n",
              "    </tr>\n",
              "    <tr>\n",
              "      <th>3</th>\n",
              "      <td>4</td>\n",
              "      <td>1</td>\n",
              "      <td>1</td>\n",
              "      <td>44</td>\n",
              "      <td>0</td>\n",
              "      <td>35.0</td>\n",
              "      <td>1</td>\n",
              "      <td>0</td>\n",
              "      <td>53.1000</td>\n",
              "      <td>0.0</td>\n",
              "    </tr>\n",
              "    <tr>\n",
              "      <th>4</th>\n",
              "      <td>5</td>\n",
              "      <td>0</td>\n",
              "      <td>3</td>\n",
              "      <td>24</td>\n",
              "      <td>1</td>\n",
              "      <td>35.0</td>\n",
              "      <td>0</td>\n",
              "      <td>0</td>\n",
              "      <td>8.0500</td>\n",
              "      <td>0.0</td>\n",
              "    </tr>\n",
              "  </tbody>\n",
              "</table>\n",
              "</div>"
            ],
            "text/plain": [
              "   PassengerId  Survived  Pclass  Name  ...  SibSp  Parch     Fare  Embarked\n",
              "0            1         0       3    23  ...      1      0   7.2500       0.0\n",
              "1            2         1       1    51  ...      1      0  71.2833       1.0\n",
              "2            3         1       3    22  ...      0      0   7.9250       0.0\n",
              "3            4         1       1    44  ...      1      0  53.1000       0.0\n",
              "4            5         0       3    24  ...      0      0   8.0500       0.0\n",
              "\n",
              "[5 rows x 10 columns]"
            ]
          },
          "metadata": {
            "tags": []
          },
          "execution_count": 150
        }
      ]
    },
    {
      "cell_type": "markdown",
      "metadata": {
        "id": "RsZowRCG0R1v"
      },
      "source": [
        "##**Bereinigung der Daten**\n",
        "\n",
        "Als Nächstes befassen wir uns mit der Bereinigung der Daten von Ausreißern und NaN-values.\n",
        "Mit der Annahme, dass die Daten einer Normalverteilung folgen, können wir die Ausreißer mittels der Standardabweichung $\\sigma$ eliminieren. 68% aller Messerwerte liegen bei einer Abweichung von 1$\\sigma$  um den Erwartungswert. Für 2$\\sigma$ sind es 95% und bei 3$\\sigma$ sogar 99,7% der Werte.\n",
        " Wir begnügen uns in diesem Fall mit 2$\\sigma$."
      ]
    },
    {
      "cell_type": "code",
      "metadata": {
        "id": "Hm7tO03dLDkb"
      },
      "source": [
        "from collections import Counter\n",
        "\n",
        "#Findet Zeilen mit mehr als 2 Ausreißern\n",
        "def Ausreisser (df, columns):\n",
        "  #Liste mit den Indizes aller Spalten mit einem Ausreißer\n",
        "  Indices = []\n",
        "  \n",
        "  \n",
        "  for values in columns:\n",
        "    #obere und untere Grenze\n",
        "    upper = df[values].mean() + 2*df[values].std()\n",
        "    lower = df[values].mean() - 2*df[values].std()\n",
        "    #Daten mit einem Ausreißer\n",
        "    data = df[(df[values] > upper) | (df[values] < lower)].index\n",
        "\n",
        "    #Indizes der nachfolgenden Spalten werden einfach hinzugefuegt\n",
        "    Indices.extend(data)\n",
        "\n",
        "\n",
        "#Passagiere mit mehr als 2 Ausreißern gleichzeitig\n",
        "#Liste von Counter.elements() um nach Dreifach-Elementen zu suchen\n",
        "  counter = (list(Counter(Indices).elements()))\n",
        "  i = 0\n",
        "  double_indices = []\n",
        "  while (i < len(counter)-2):\n",
        "    if counter[i] == counter[i+2] :\n",
        "      double_indices.append(counter[i])\n",
        "    i+=1\n",
        "\n",
        "  return(double_indices)\n",
        "\n",
        "\n",
        " \n",
        "\n",
        "\n",
        "    "
      ],
      "execution_count": 151,
      "outputs": []
    },
    {
      "cell_type": "code",
      "metadata": {
        "id": "qs12AiT1LDnu",
        "colab": {
          "base_uri": "https://localhost:8080/",
          "height": 173
        },
        "outputId": "33bace14-57ac-4fc8-c2b7-f4b7d0be768e"
      },
      "source": [
        "outliers = Ausreisser(new_train, [\"Age\",\"SibSp\",\"Fare\",\"Parch\"])\n",
        "\n",
        "#Passagiere mit mehr als 2 Ausreißern\n",
        "new_train.iloc[outliers]\n",
        "\n"
      ],
      "execution_count": 152,
      "outputs": [
        {
          "output_type": "execute_result",
          "data": {
            "text/html": [
              "<div>\n",
              "<style scoped>\n",
              "    .dataframe tbody tr th:only-of-type {\n",
              "        vertical-align: middle;\n",
              "    }\n",
              "\n",
              "    .dataframe tbody tr th {\n",
              "        vertical-align: top;\n",
              "    }\n",
              "\n",
              "    .dataframe thead th {\n",
              "        text-align: right;\n",
              "    }\n",
              "</style>\n",
              "<table border=\"1\" class=\"dataframe\">\n",
              "  <thead>\n",
              "    <tr style=\"text-align: right;\">\n",
              "      <th></th>\n",
              "      <th>PassengerId</th>\n",
              "      <th>Survived</th>\n",
              "      <th>Pclass</th>\n",
              "      <th>Name</th>\n",
              "      <th>Sex</th>\n",
              "      <th>Age</th>\n",
              "      <th>SibSp</th>\n",
              "      <th>Parch</th>\n",
              "      <th>Fare</th>\n",
              "      <th>Embarked</th>\n",
              "    </tr>\n",
              "  </thead>\n",
              "  <tbody>\n",
              "    <tr>\n",
              "      <th>438</th>\n",
              "      <td>439</td>\n",
              "      <td>0</td>\n",
              "      <td>1</td>\n",
              "      <td>17</td>\n",
              "      <td>1</td>\n",
              "      <td>64.0</td>\n",
              "      <td>1</td>\n",
              "      <td>4</td>\n",
              "      <td>263.0</td>\n",
              "      <td>0.0</td>\n",
              "    </tr>\n",
              "    <tr>\n",
              "      <th>27</th>\n",
              "      <td>28</td>\n",
              "      <td>0</td>\n",
              "      <td>1</td>\n",
              "      <td>30</td>\n",
              "      <td>1</td>\n",
              "      <td>19.0</td>\n",
              "      <td>3</td>\n",
              "      <td>2</td>\n",
              "      <td>263.0</td>\n",
              "      <td>0.0</td>\n",
              "    </tr>\n",
              "    <tr>\n",
              "      <th>88</th>\n",
              "      <td>89</td>\n",
              "      <td>1</td>\n",
              "      <td>1</td>\n",
              "      <td>26</td>\n",
              "      <td>0</td>\n",
              "      <td>23.0</td>\n",
              "      <td>3</td>\n",
              "      <td>2</td>\n",
              "      <td>263.0</td>\n",
              "      <td>0.0</td>\n",
              "    </tr>\n",
              "    <tr>\n",
              "      <th>341</th>\n",
              "      <td>342</td>\n",
              "      <td>1</td>\n",
              "      <td>1</td>\n",
              "      <td>30</td>\n",
              "      <td>0</td>\n",
              "      <td>24.0</td>\n",
              "      <td>3</td>\n",
              "      <td>2</td>\n",
              "      <td>263.0</td>\n",
              "      <td>0.0</td>\n",
              "    </tr>\n",
              "  </tbody>\n",
              "</table>\n",
              "</div>"
            ],
            "text/plain": [
              "     PassengerId  Survived  Pclass  Name  ...  SibSp  Parch   Fare  Embarked\n",
              "438          439         0       1    17  ...      1      4  263.0       0.0\n",
              "27            28         0       1    30  ...      3      2  263.0       0.0\n",
              "88            89         1       1    26  ...      3      2  263.0       0.0\n",
              "341          342         1       1    30  ...      3      2  263.0       0.0\n",
              "\n",
              "[4 rows x 10 columns]"
            ]
          },
          "metadata": {
            "tags": []
          },
          "execution_count": 152
        }
      ]
    },
    {
      "cell_type": "code",
      "metadata": {
        "colab": {
          "base_uri": "https://localhost:8080/",
          "height": 297
        },
        "id": "cJcOhsoX0Q_z",
        "outputId": "7a12637c-069f-40f1-a52d-dba066fcf5c7"
      },
      "source": [
        "new_train[[\"Age\",\"SibSp\",\"Fare\",\"Parch\"]].describe()"
      ],
      "execution_count": 153,
      "outputs": [
        {
          "output_type": "execute_result",
          "data": {
            "text/html": [
              "<div>\n",
              "<style scoped>\n",
              "    .dataframe tbody tr th:only-of-type {\n",
              "        vertical-align: middle;\n",
              "    }\n",
              "\n",
              "    .dataframe tbody tr th {\n",
              "        vertical-align: top;\n",
              "    }\n",
              "\n",
              "    .dataframe thead th {\n",
              "        text-align: right;\n",
              "    }\n",
              "</style>\n",
              "<table border=\"1\" class=\"dataframe\">\n",
              "  <thead>\n",
              "    <tr style=\"text-align: right;\">\n",
              "      <th></th>\n",
              "      <th>Age</th>\n",
              "      <th>SibSp</th>\n",
              "      <th>Fare</th>\n",
              "      <th>Parch</th>\n",
              "    </tr>\n",
              "  </thead>\n",
              "  <tbody>\n",
              "    <tr>\n",
              "      <th>count</th>\n",
              "      <td>714.000000</td>\n",
              "      <td>891.000000</td>\n",
              "      <td>891.000000</td>\n",
              "      <td>891.000000</td>\n",
              "    </tr>\n",
              "    <tr>\n",
              "      <th>mean</th>\n",
              "      <td>29.699118</td>\n",
              "      <td>0.523008</td>\n",
              "      <td>32.204208</td>\n",
              "      <td>0.381594</td>\n",
              "    </tr>\n",
              "    <tr>\n",
              "      <th>std</th>\n",
              "      <td>14.526497</td>\n",
              "      <td>1.102743</td>\n",
              "      <td>49.693429</td>\n",
              "      <td>0.806057</td>\n",
              "    </tr>\n",
              "    <tr>\n",
              "      <th>min</th>\n",
              "      <td>0.420000</td>\n",
              "      <td>0.000000</td>\n",
              "      <td>0.000000</td>\n",
              "      <td>0.000000</td>\n",
              "    </tr>\n",
              "    <tr>\n",
              "      <th>25%</th>\n",
              "      <td>20.125000</td>\n",
              "      <td>0.000000</td>\n",
              "      <td>7.910400</td>\n",
              "      <td>0.000000</td>\n",
              "    </tr>\n",
              "    <tr>\n",
              "      <th>50%</th>\n",
              "      <td>28.000000</td>\n",
              "      <td>0.000000</td>\n",
              "      <td>14.454200</td>\n",
              "      <td>0.000000</td>\n",
              "    </tr>\n",
              "    <tr>\n",
              "      <th>75%</th>\n",
              "      <td>38.000000</td>\n",
              "      <td>1.000000</td>\n",
              "      <td>31.000000</td>\n",
              "      <td>0.000000</td>\n",
              "    </tr>\n",
              "    <tr>\n",
              "      <th>max</th>\n",
              "      <td>80.000000</td>\n",
              "      <td>8.000000</td>\n",
              "      <td>512.329200</td>\n",
              "      <td>6.000000</td>\n",
              "    </tr>\n",
              "  </tbody>\n",
              "</table>\n",
              "</div>"
            ],
            "text/plain": [
              "              Age       SibSp        Fare       Parch\n",
              "count  714.000000  891.000000  891.000000  891.000000\n",
              "mean    29.699118    0.523008   32.204208    0.381594\n",
              "std     14.526497    1.102743   49.693429    0.806057\n",
              "min      0.420000    0.000000    0.000000    0.000000\n",
              "25%     20.125000    0.000000    7.910400    0.000000\n",
              "50%     28.000000    0.000000   14.454200    0.000000\n",
              "75%     38.000000    1.000000   31.000000    0.000000\n",
              "max     80.000000    8.000000  512.329200    6.000000"
            ]
          },
          "metadata": {
            "tags": []
          },
          "execution_count": 153
        }
      ]
    },
    {
      "cell_type": "markdown",
      "metadata": {
        "id": "lDbqwNqf1OhI"
      },
      "source": [
        "Wie man sehen kann sind diese Passagiere Ausreißer in 3 Kathegorien: Fare, Parch und SibSp."
      ]
    },
    {
      "cell_type": "code",
      "metadata": {
        "id": "0KqS5Tq4LDrx"
      },
      "source": [
        "#Drop Ausreisser von \"Age\",\"SibSp\",\"Fare\",\"Parch\"\n",
        "new_train.drop(outliers, axis = 0, inplace = True)"
      ],
      "execution_count": 154,
      "outputs": []
    },
    {
      "cell_type": "markdown",
      "metadata": {
        "id": "AByt8CzjncNO"
      },
      "source": [
        "##Fehlende Werte (NaN) ergänzen\n",
        "Bei fehlenden Werten funktionieren die ML-Algorithmen nicht, weshalb wir sie ergänzen/entfernen müssen."
      ]
    },
    {
      "cell_type": "code",
      "metadata": {
        "id": "-VF0JCxWLDxt",
        "colab": {
          "base_uri": "https://localhost:8080/"
        },
        "outputId": "05d9a890-fef7-409a-e572-d74a0ce76273"
      },
      "source": [
        "#Anzahl der NaN-Values\n",
        "new_train.isnull().sum()"
      ],
      "execution_count": 155,
      "outputs": [
        {
          "output_type": "execute_result",
          "data": {
            "text/plain": [
              "PassengerId      0\n",
              "Survived         0\n",
              "Pclass           0\n",
              "Name             0\n",
              "Sex              0\n",
              "Age            177\n",
              "SibSp            0\n",
              "Parch            0\n",
              "Fare             0\n",
              "Embarked         2\n",
              "dtype: int64"
            ]
          },
          "metadata": {
            "tags": []
          },
          "execution_count": 155
        }
      ]
    },
    {
      "cell_type": "markdown",
      "metadata": {
        "id": "FVxOXZGMqDRr"
      },
      "source": [
        "Bei 177 Werten (\"Age\") ist das Löschen der NaN-Values nicht zu empfehlen, da die Menge an Trainingsdaten erheblich schrumpfen würde.\n",
        "Eine einfache Methode ist das ersetzen der NaN-Values durch den Mittelwert mit zufälliger Abweichung im Bereich [-$\\sigma$,$\\sigma$].\n",
        "Für \"Embarked\" empfiehlt sich eher der Median, da es nur ganze Zahlen annehmen kann."
      ]
    },
    {
      "cell_type": "code",
      "metadata": {
        "id": "w1uZtRVb11_e"
      },
      "source": [
        "Age = new_train[\"Age\"]\n",
        "mean = Age.mean()\n",
        "sigma = Age.std()\n",
        "Age.fillna(np.random.randint(mean - sigma, mean + sigma ), inplace = True) \n",
        "new_train[\"Embarked\"].fillna(new_train[\"Embarked\"].median(), inplace = True)"
      ],
      "execution_count": 156,
      "outputs": []
    },
    {
      "cell_type": "code",
      "metadata": {
        "colab": {
          "base_uri": "https://localhost:8080/",
          "height": 317
        },
        "id": "2bbCyGhN9ORL",
        "outputId": "8b453454-6aec-4fc7-d7a2-aea781d05737"
      },
      "source": [
        "new_train.describe()"
      ],
      "execution_count": 157,
      "outputs": [
        {
          "output_type": "execute_result",
          "data": {
            "text/html": [
              "<div>\n",
              "<style scoped>\n",
              "    .dataframe tbody tr th:only-of-type {\n",
              "        vertical-align: middle;\n",
              "    }\n",
              "\n",
              "    .dataframe tbody tr th {\n",
              "        vertical-align: top;\n",
              "    }\n",
              "\n",
              "    .dataframe thead th {\n",
              "        text-align: right;\n",
              "    }\n",
              "</style>\n",
              "<table border=\"1\" class=\"dataframe\">\n",
              "  <thead>\n",
              "    <tr style=\"text-align: right;\">\n",
              "      <th></th>\n",
              "      <th>PassengerId</th>\n",
              "      <th>Survived</th>\n",
              "      <th>Pclass</th>\n",
              "      <th>Name</th>\n",
              "      <th>Sex</th>\n",
              "      <th>Age</th>\n",
              "      <th>SibSp</th>\n",
              "      <th>Parch</th>\n",
              "      <th>Fare</th>\n",
              "      <th>Embarked</th>\n",
              "    </tr>\n",
              "  </thead>\n",
              "  <tbody>\n",
              "    <tr>\n",
              "      <th>count</th>\n",
              "      <td>887.000000</td>\n",
              "      <td>887.000000</td>\n",
              "      <td>887.000000</td>\n",
              "      <td>887.000000</td>\n",
              "      <td>887.000000</td>\n",
              "      <td>887.000000</td>\n",
              "      <td>887.000000</td>\n",
              "      <td>887.000000</td>\n",
              "      <td>887.000000</td>\n",
              "      <td>887.000000</td>\n",
              "    </tr>\n",
              "    <tr>\n",
              "      <th>mean</th>\n",
              "      <td>446.998873</td>\n",
              "      <td>0.383315</td>\n",
              "      <td>2.314543</td>\n",
              "      <td>26.970688</td>\n",
              "      <td>0.648253</td>\n",
              "      <td>26.952841</td>\n",
              "      <td>0.514092</td>\n",
              "      <td>0.372041</td>\n",
              "      <td>31.163415</td>\n",
              "      <td>0.363021</td>\n",
              "    </tr>\n",
              "    <tr>\n",
              "      <th>std</th>\n",
              "      <td>257.246373</td>\n",
              "      <td>0.486468</td>\n",
              "      <td>0.833309</td>\n",
              "      <td>9.295332</td>\n",
              "      <td>0.477785</td>\n",
              "      <td>14.078758</td>\n",
              "      <td>1.095638</td>\n",
              "      <td>0.793047</td>\n",
              "      <td>47.318277</td>\n",
              "      <td>0.636642</td>\n",
              "    </tr>\n",
              "    <tr>\n",
              "      <th>min</th>\n",
              "      <td>1.000000</td>\n",
              "      <td>0.000000</td>\n",
              "      <td>1.000000</td>\n",
              "      <td>12.000000</td>\n",
              "      <td>0.000000</td>\n",
              "      <td>0.420000</td>\n",
              "      <td>0.000000</td>\n",
              "      <td>0.000000</td>\n",
              "      <td>0.000000</td>\n",
              "      <td>0.000000</td>\n",
              "    </tr>\n",
              "    <tr>\n",
              "      <th>25%</th>\n",
              "      <td>224.500000</td>\n",
              "      <td>0.000000</td>\n",
              "      <td>2.000000</td>\n",
              "      <td>20.000000</td>\n",
              "      <td>0.000000</td>\n",
              "      <td>16.000000</td>\n",
              "      <td>0.000000</td>\n",
              "      <td>0.000000</td>\n",
              "      <td>7.895800</td>\n",
              "      <td>0.000000</td>\n",
              "    </tr>\n",
              "    <tr>\n",
              "      <th>50%</th>\n",
              "      <td>448.000000</td>\n",
              "      <td>0.000000</td>\n",
              "      <td>3.000000</td>\n",
              "      <td>25.000000</td>\n",
              "      <td>1.000000</td>\n",
              "      <td>24.000000</td>\n",
              "      <td>0.000000</td>\n",
              "      <td>0.000000</td>\n",
              "      <td>14.454200</td>\n",
              "      <td>0.000000</td>\n",
              "    </tr>\n",
              "    <tr>\n",
              "      <th>75%</th>\n",
              "      <td>669.500000</td>\n",
              "      <td>1.000000</td>\n",
              "      <td>3.000000</td>\n",
              "      <td>30.500000</td>\n",
              "      <td>1.000000</td>\n",
              "      <td>35.000000</td>\n",
              "      <td>1.000000</td>\n",
              "      <td>0.000000</td>\n",
              "      <td>30.695800</td>\n",
              "      <td>1.000000</td>\n",
              "    </tr>\n",
              "    <tr>\n",
              "      <th>max</th>\n",
              "      <td>891.000000</td>\n",
              "      <td>1.000000</td>\n",
              "      <td>3.000000</td>\n",
              "      <td>82.000000</td>\n",
              "      <td>1.000000</td>\n",
              "      <td>80.000000</td>\n",
              "      <td>8.000000</td>\n",
              "      <td>6.000000</td>\n",
              "      <td>512.329200</td>\n",
              "      <td>2.000000</td>\n",
              "    </tr>\n",
              "  </tbody>\n",
              "</table>\n",
              "</div>"
            ],
            "text/plain": [
              "       PassengerId    Survived      Pclass  ...       Parch        Fare    Embarked\n",
              "count   887.000000  887.000000  887.000000  ...  887.000000  887.000000  887.000000\n",
              "mean    446.998873    0.383315    2.314543  ...    0.372041   31.163415    0.363021\n",
              "std     257.246373    0.486468    0.833309  ...    0.793047   47.318277    0.636642\n",
              "min       1.000000    0.000000    1.000000  ...    0.000000    0.000000    0.000000\n",
              "25%     224.500000    0.000000    2.000000  ...    0.000000    7.895800    0.000000\n",
              "50%     448.000000    0.000000    3.000000  ...    0.000000   14.454200    0.000000\n",
              "75%     669.500000    1.000000    3.000000  ...    0.000000   30.695800    1.000000\n",
              "max     891.000000    1.000000    3.000000  ...    6.000000  512.329200    2.000000\n",
              "\n",
              "[8 rows x 10 columns]"
            ]
          },
          "metadata": {
            "tags": []
          },
          "execution_count": 157
        }
      ]
    },
    {
      "cell_type": "markdown",
      "metadata": {
        "id": "Cb1wN9ne-RZf"
      },
      "source": [
        "Somit sind alle Werte numerisch und kann von einem ML-Modell verwendet werden."
      ]
    },
    {
      "cell_type": "markdown",
      "metadata": {
        "id": "1NJa0b3LI--d"
      },
      "source": [
        "##**Feature selection**\n",
        "\n",
        "Je mehr Attribute zur Vorhersage verwendet werden, desto anfälliger ist das Modell. Mittels der Covariant-Matrix kann man ganz gut die Korrelation der einzelnen Attribute vergleichen. Je näher die Zahl an |1|, desto stärker die Korrelation."
      ]
    },
    {
      "cell_type": "code",
      "metadata": {
        "colab": {
          "base_uri": "https://localhost:8080/",
          "height": 687
        },
        "id": "XdE9FNxKJdV-",
        "outputId": "4397b238-ea3b-40e2-cf68-6416477016e3"
      },
      "source": [
        "colormap = plt.cm.RdBu\n",
        "plt.figure(figsize=(12,12))\n",
        "plt.title('Pearson Correlation of Features', y=1.05, size=15)\n",
        "sns.heatmap(new_train.astype(float).corr(),linewidths=0.1,vmax=1.0, square=True, cmap=colormap, linecolor='white', annot=True)\n",
        "plt.show()"
      ],
      "execution_count": 158,
      "outputs": [
        {
          "output_type": "display_data",
          "data": {
            "image/png": "[encoded data removed]",
            "text/plain": [
              "<Figure size 864x864 with 2 Axes>"
            ]
          },
          "metadata": {
            "tags": [],
            "needs_background": "light"
          }
        }
      ]
    },
    {
      "cell_type": "markdown",
      "metadata": {
        "id": "L6J099ykL5XX"
      },
      "source": [
        "Aus der \"Survived\"-Spalte sehen wir die stärksten Korrelationen mit \"Sex\", \"Fare\", \"Name\" und \"Pclass\"."
      ]
    },
    {
      "cell_type": "code",
      "metadata": {
        "id": "C_gsGYgMM69z"
      },
      "source": [
        "new_train.drop([\"Parch\",\"Embarked\",\"Age\", \"PassengerId\"],axis=1, inplace = True)"
      ],
      "execution_count": 159,
      "outputs": []
    },
    {
      "cell_type": "code",
      "metadata": {
        "colab": {
          "base_uri": "https://localhost:8080/",
          "height": 204
        },
        "id": "6mtdr1glOGM_",
        "outputId": "136065ed-98ae-4046-f35a-f5c8492b117e"
      },
      "source": [
        "new_train.head()"
      ],
      "execution_count": 160,
      "outputs": [
        {
          "output_type": "execute_result",
          "data": {
            "text/html": [
              "<div>\n",
              "<style scoped>\n",
              "    .dataframe tbody tr th:only-of-type {\n",
              "        vertical-align: middle;\n",
              "    }\n",
              "\n",
              "    .dataframe tbody tr th {\n",
              "        vertical-align: top;\n",
              "    }\n",
              "\n",
              "    .dataframe thead th {\n",
              "        text-align: right;\n",
              "    }\n",
              "</style>\n",
              "<table border=\"1\" class=\"dataframe\">\n",
              "  <thead>\n",
              "    <tr style=\"text-align: right;\">\n",
              "      <th></th>\n",
              "      <th>Survived</th>\n",
              "      <th>Pclass</th>\n",
              "      <th>Name</th>\n",
              "      <th>Sex</th>\n",
              "      <th>SibSp</th>\n",
              "      <th>Fare</th>\n",
              "    </tr>\n",
              "  </thead>\n",
              "  <tbody>\n",
              "    <tr>\n",
              "      <th>0</th>\n",
              "      <td>0</td>\n",
              "      <td>3</td>\n",
              "      <td>23</td>\n",
              "      <td>1</td>\n",
              "      <td>1</td>\n",
              "      <td>7.2500</td>\n",
              "    </tr>\n",
              "    <tr>\n",
              "      <th>1</th>\n",
              "      <td>1</td>\n",
              "      <td>1</td>\n",
              "      <td>51</td>\n",
              "      <td>0</td>\n",
              "      <td>1</td>\n",
              "      <td>71.2833</td>\n",
              "    </tr>\n",
              "    <tr>\n",
              "      <th>2</th>\n",
              "      <td>1</td>\n",
              "      <td>3</td>\n",
              "      <td>22</td>\n",
              "      <td>0</td>\n",
              "      <td>0</td>\n",
              "      <td>7.9250</td>\n",
              "    </tr>\n",
              "    <tr>\n",
              "      <th>3</th>\n",
              "      <td>1</td>\n",
              "      <td>1</td>\n",
              "      <td>44</td>\n",
              "      <td>0</td>\n",
              "      <td>1</td>\n",
              "      <td>53.1000</td>\n",
              "    </tr>\n",
              "    <tr>\n",
              "      <th>4</th>\n",
              "      <td>0</td>\n",
              "      <td>3</td>\n",
              "      <td>24</td>\n",
              "      <td>1</td>\n",
              "      <td>0</td>\n",
              "      <td>8.0500</td>\n",
              "    </tr>\n",
              "  </tbody>\n",
              "</table>\n",
              "</div>"
            ],
            "text/plain": [
              "   Survived  Pclass  Name  Sex  SibSp     Fare\n",
              "0         0       3    23    1      1   7.2500\n",
              "1         1       1    51    0      1  71.2833\n",
              "2         1       3    22    0      0   7.9250\n",
              "3         1       1    44    0      1  53.1000\n",
              "4         0       3    24    1      0   8.0500"
            ]
          },
          "metadata": {
            "tags": []
          },
          "execution_count": 160
        }
      ]
    },
    {
      "cell_type": "markdown",
      "metadata": {
        "id": "y1KmMlmqOY_-"
      },
      "source": [
        "##**Vorhersagemodelle**\n",
        "Hier verwenden wir nun 5 verschiedene ML-Modelle um herrauszufinden, welches bei dieser Aufgabe am Besten abschneidet.\n",
        "\n",
        "* Logistic Regression\n",
        "* SVM\n",
        "* Decision Tree / Random Forest\n",
        "* KNN\n",
        "* Perceptron"
      ]
    },
    {
      "cell_type": "code",
      "metadata": {
        "id": "pGdsIDoJPLBt"
      },
      "source": [
        "import sklearn # Collection of machine learning algorithms\n",
        "from sklearn.linear_model import LogisticRegression, Perceptron\n",
        "from sklearn.tree import DecisionTreeClassifier\n",
        "from sklearn.svm import SVC\n",
        "from sklearn.neighbors import KNeighborsClassifier\n",
        "from sklearn.model_selection import train_test_split"
      ],
      "execution_count": 161,
      "outputs": []
    },
    {
      "cell_type": "code",
      "metadata": {
        "id": "mvUVTItdPL3w"
      },
      "source": [
        "#Aufteilen der Daten in test und train\n",
        "X_train = new_train.drop(\"Survived\", axis=1)\n",
        "Y_train = new_train[\"Survived\"]\n",
        "X_train, x_test, Y_train, y_test = train_test_split(X_train, Y_train, test_size=0.33, random_state=101)"
      ],
      "execution_count": 192,
      "outputs": []
    },
    {
      "cell_type": "markdown",
      "metadata": {
        "id": "PDRf2kUMPLtI"
      },
      "source": [
        "##Logistic Regression\n"
      ]
    },
    {
      "cell_type": "code",
      "metadata": {
        "colab": {
          "base_uri": "https://localhost:8080/"
        },
        "id": "jA-LxWOxPLg0",
        "outputId": "3656ff25-e2f0-47d5-c352-76d104edc1f6"
      },
      "source": [
        "logreg = LogisticRegression()\n",
        "logreg.fit(X_train, Y_train)\n",
        "logreg_pred = logreg.predict(x_test)\n",
        "print(\"Die Genauigkeit beträgt {}%\".format(round(logreg.score(x_test, y_test) * 100, 2)))"
      ],
      "execution_count": 197,
      "outputs": [
        {
          "output_type": "stream",
          "text": [
            "Die Genauigkeit beträgt 79.86%\n"
          ],
          "name": "stdout"
        }
      ]
    },
    {
      "cell_type": "markdown",
      "metadata": {
        "id": "zmS74QJBSGrC"
      },
      "source": [
        "##Support Vector Machines (SVM)"
      ]
    },
    {
      "cell_type": "code",
      "metadata": {
        "colab": {
          "base_uri": "https://localhost:8080/"
        },
        "id": "G3LJtyLBSGOK",
        "outputId": "d75a0f42-893c-49d0-8e43-54dc647c4e74"
      },
      "source": [
        "svc=SVC(gamma = \"auto\")  #Werte nicht normiert --> gamma = \"auto\"\n",
        "svc.fit(X_train, Y_train)\n",
        "Y_pred2 = svc.predict(x_test)\n",
        "print(\"Die Genauigkeit beträgt {}%\".format(round(svc.score(x_test, y_test) * 100, 2)))"
      ],
      "execution_count": 196,
      "outputs": [
        {
          "output_type": "stream",
          "text": [
            "Die Genauigkeit beträgt 68.94%\n"
          ],
          "name": "stdout"
        }
      ]
    },
    {
      "cell_type": "markdown",
      "metadata": {
        "id": "0OLDNsGPSF67"
      },
      "source": [
        "##Decision Tree"
      ]
    },
    {
      "cell_type": "code",
      "metadata": {
        "colab": {
          "base_uri": "https://localhost:8080/"
        },
        "id": "nbP-aJ9SSG4R",
        "outputId": "71b1b8f5-6232-480c-b8bb-ef059aaaf12c"
      },
      "source": [
        "decision_tree = DecisionTreeClassifier()\n",
        "decision_tree.fit(X_train, Y_train)\n",
        "decision_tree_pred = decision_tree.predict(x_test)\n",
        "print(\"Die Genauigkeit beträgt {}%\".format(round(decision_tree.score(x_test, y_test) * 100, 2)))"
      ],
      "execution_count": 195,
      "outputs": [
        {
          "output_type": "stream",
          "text": [
            "Die Genauigkeit beträgt 75.77%\n"
          ],
          "name": "stdout"
        }
      ]
    },
    {
      "cell_type": "markdown",
      "metadata": {
        "id": "QpykiUo3E_5O"
      },
      "source": [
        "##KNN"
      ]
    },
    {
      "cell_type": "code",
      "metadata": {
        "colab": {
          "base_uri": "https://localhost:8080/"
        },
        "id": "0zRSfhDBE-d5",
        "outputId": "53885d47-7fa2-4f92-94ce-9312831a3f9b"
      },
      "source": [
        "knn = KNeighborsClassifier()\n",
        "knn.fit(X_train, Y_train)\n",
        "knn_pred = knn.predict(x_test)\n",
        "print(\"Die Genauigkeit beträgt {}%\".format(round(knn.score(x_test, y_test) * 100, 2)))"
      ],
      "execution_count": 194,
      "outputs": [
        {
          "output_type": "stream",
          "text": [
            "Die Genauigkeit beträgt 68.6%\n"
          ],
          "name": "stdout"
        }
      ]
    },
    {
      "cell_type": "markdown",
      "metadata": {
        "id": "4nX3N_NDSLvf"
      },
      "source": [
        "##Perceptron (single-layerd neural network)"
      ]
    },
    {
      "cell_type": "code",
      "metadata": {
        "colab": {
          "base_uri": "https://localhost:8080/"
        },
        "id": "9YHwTuMKSMUc",
        "outputId": "10691509-fe17-48d0-e6da-1ac44e7ac299"
      },
      "source": [
        "perceptron = Perceptron()\n",
        "perceptron.fit(X_train, Y_train)\n",
        "perceptron_pred = perceptron.predict(x_test)\n",
        "print(\"Die Genauigkeit beträgt {}%\".format(round(perceptron.score(x_test, y_test) * 100, 2)))"
      ],
      "execution_count": 193,
      "outputs": [
        {
          "output_type": "stream",
          "text": [
            "Die Genauigkeit beträgt 62.8%\n"
          ],
          "name": "stdout"
        }
      ]
    },
    {
      "cell_type": "markdown",
      "metadata": {
        "id": "md7n9BOZDkoX"
      },
      "source": [
        "##Fazit\n",
        "In unserem Fall erzielt die logistische Regression das beste Ergebnis.\n"
      ]
    }
  ]
}