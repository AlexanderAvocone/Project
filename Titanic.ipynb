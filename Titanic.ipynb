{
  "nbformat": 4,
  "nbformat_minor": 0,
  "metadata": {
    "colab": {
      "name": "Titanic.ipynb",
      "provenance": [],
      "collapsed_sections": [],
      "toc_visible": true,
      "authorship_tag": "ABX9TyORVNtiXNgIoaRY1/L9U7ja",
      "include_colab_link": true
    },
    "kernelspec": {
      "display_name": "Python 3",
      "name": "python3"
    }
  },
  "cells": [
    {
      "cell_type": "markdown",
      "metadata": {
        "id": "view-in-github",
        "colab_type": "text"
      },
      "source": [
        "<a href=\"https://colab.research.google.com/github/AlexanderAvocone/Project/blob/master/Titanic.ipynb\" target=\"_parent\"><img src=\"https://colab.research.google.com/assets/colab-badge.svg\" alt=\"Open In Colab\"/></a>"
      ]
    },
    {
      "cell_type": "markdown",
      "metadata": {
        "id": "XTg7htT4RRjH"
      },
      "source": [
        "##**Daten einlesen**\n",
        "Ziel der Übung ist die Datenanalyse von der Titanic-challenge mit verschiedenen ML-Modellen."
      ]
    },
    {
      "cell_type": "code",
      "metadata": {
        "id": "q-kT33KXK46F"
      },
      "source": [
        "import pandas as pd\n",
        "import numpy as np\n",
        "import matplotlib.pyplot as plt\n",
        "import sklearn\n",
        "import seaborn as sns"
      ],
      "execution_count": 29,
      "outputs": []
    },
    {
      "cell_type": "markdown",
      "metadata": {
        "id": "WxaVLvG5GKPh"
      },
      "source": [
        "# Als Erstes müssen die Daten geladen und grob überflogen werden um sich einen Eindruck über die Einträge zu verschaffen"
      ]
    },
    {
      "cell_type": "code",
      "metadata": {
        "colab": {
          "base_uri": "https://localhost:8080/",
          "height": 197
        },
        "id": "CX5qDD4VN57i",
        "outputId": "cab99c2f-fc4b-49e5-8523-2fa0a8550926"
      },
      "source": [
        "#Daten laden\n",
        "train = pd.read_csv(\"train.csv\")\n",
        "\n",
        "\n",
        "#Overview der Daten\n",
        "train.head()\n"
      ],
      "execution_count": 30,
      "outputs": [
        {
          "output_type": "execute_result",
          "data": {
            "text/html": [
              "<div>\n",
              "<style scoped>\n",
              "    .dataframe tbody tr th:only-of-type {\n",
              "        vertical-align: middle;\n",
              "    }\n",
              "\n",
              "    .dataframe tbody tr th {\n",
              "        vertical-align: top;\n",
              "    }\n",
              "\n",
              "    .dataframe thead th {\n",
              "        text-align: right;\n",
              "    }\n",
              "</style>\n",
              "<table border=\"1\" class=\"dataframe\">\n",
              "  <thead>\n",
              "    <tr style=\"text-align: right;\">\n",
              "      <th></th>\n",
              "      <th>PassengerId</th>\n",
              "      <th>Survived</th>\n",
              "      <th>Pclass</th>\n",
              "      <th>Name</th>\n",
              "      <th>Sex</th>\n",
              "      <th>Age</th>\n",
              "      <th>SibSp</th>\n",
              "      <th>Parch</th>\n",
              "      <th>Ticket</th>\n",
              "      <th>Fare</th>\n",
              "      <th>Cabin</th>\n",
              "      <th>Embarked</th>\n",
              "    </tr>\n",
              "  </thead>\n",
              "  <tbody>\n",
              "    <tr>\n",
              "      <th>0</th>\n",
              "      <td>1</td>\n",
              "      <td>0</td>\n",
              "      <td>3</td>\n",
              "      <td>Braund, Mr. Owen Harris</td>\n",
              "      <td>male</td>\n",
              "      <td>22.0</td>\n",
              "      <td>1</td>\n",
              "      <td>0</td>\n",
              "      <td>A/5 21171</td>\n",
              "      <td>7.2500</td>\n",
              "      <td>NaN</td>\n",
              "      <td>S</td>\n",
              "    </tr>\n",
              "    <tr>\n",
              "      <th>1</th>\n",
              "      <td>2</td>\n",
              "      <td>1</td>\n",
              "      <td>1</td>\n",
              "      <td>Cumings, Mrs. John Bradley (Florence Briggs Th...</td>\n",
              "      <td>female</td>\n",
              "      <td>38.0</td>\n",
              "      <td>1</td>\n",
              "      <td>0</td>\n",
              "      <td>PC 17599</td>\n",
              "      <td>71.2833</td>\n",
              "      <td>C85</td>\n",
              "      <td>C</td>\n",
              "    </tr>\n",
              "    <tr>\n",
              "      <th>2</th>\n",
              "      <td>3</td>\n",
              "      <td>1</td>\n",
              "      <td>3</td>\n",
              "      <td>Heikkinen, Miss. Laina</td>\n",
              "      <td>female</td>\n",
              "      <td>26.0</td>\n",
              "      <td>0</td>\n",
              "      <td>0</td>\n",
              "      <td>STON/O2. 3101282</td>\n",
              "      <td>7.9250</td>\n",
              "      <td>NaN</td>\n",
              "      <td>S</td>\n",
              "    </tr>\n",
              "    <tr>\n",
              "      <th>3</th>\n",
              "      <td>4</td>\n",
              "      <td>1</td>\n",
              "      <td>1</td>\n",
              "      <td>Futrelle, Mrs. Jacques Heath (Lily May Peel)</td>\n",
              "      <td>female</td>\n",
              "      <td>35.0</td>\n",
              "      <td>1</td>\n",
              "      <td>0</td>\n",
              "      <td>113803</td>\n",
              "      <td>53.1000</td>\n",
              "      <td>C123</td>\n",
              "      <td>S</td>\n",
              "    </tr>\n",
              "    <tr>\n",
              "      <th>4</th>\n",
              "      <td>5</td>\n",
              "      <td>0</td>\n",
              "      <td>3</td>\n",
              "      <td>Allen, Mr. William Henry</td>\n",
              "      <td>male</td>\n",
              "      <td>35.0</td>\n",
              "      <td>0</td>\n",
              "      <td>0</td>\n",
              "      <td>373450</td>\n",
              "      <td>8.0500</td>\n",
              "      <td>NaN</td>\n",
              "      <td>S</td>\n",
              "    </tr>\n",
              "  </tbody>\n",
              "</table>\n",
              "</div>"
            ],
            "text/plain": [
              "   PassengerId  Survived  Pclass  ...     Fare Cabin  Embarked\n",
              "0            1         0       3  ...   7.2500   NaN         S\n",
              "1            2         1       1  ...  71.2833   C85         C\n",
              "2            3         1       3  ...   7.9250   NaN         S\n",
              "3            4         1       1  ...  53.1000  C123         S\n",
              "4            5         0       3  ...   8.0500   NaN         S\n",
              "\n",
              "[5 rows x 12 columns]"
            ]
          },
          "metadata": {
            "tags": []
          },
          "execution_count": 30
        }
      ]
    },
    {
      "cell_type": "markdown",
      "metadata": {
        "id": "vsB2Ki7pIcS3"
      },
      "source": [
        "##**Grobe Datenübersicht**\n"
      ]
    },
    {
      "cell_type": "code",
      "metadata": {
        "colab": {
          "base_uri": "https://localhost:8080/"
        },
        "id": "AvGvlRs_TRWV",
        "outputId": "b2e6fbe1-d030-43da-90f3-31f4fb3c3990"
      },
      "source": [
        "#Datentyp der Columns mit Angabe der NaN-Values\n",
        "train.info()"
      ],
      "execution_count": 31,
      "outputs": [
        {
          "output_type": "stream",
          "text": [
            "<class 'pandas.core.frame.DataFrame'>\n",
            "RangeIndex: 891 entries, 0 to 890\n",
            "Data columns (total 12 columns):\n",
            " #   Column       Non-Null Count  Dtype  \n",
            "---  ------       --------------  -----  \n",
            " 0   PassengerId  891 non-null    int64  \n",
            " 1   Survived     891 non-null    int64  \n",
            " 2   Pclass       891 non-null    int64  \n",
            " 3   Name         891 non-null    object \n",
            " 4   Sex          891 non-null    object \n",
            " 5   Age          714 non-null    float64\n",
            " 6   SibSp        891 non-null    int64  \n",
            " 7   Parch        891 non-null    int64  \n",
            " 8   Ticket       891 non-null    object \n",
            " 9   Fare         891 non-null    float64\n",
            " 10  Cabin        204 non-null    object \n",
            " 11  Embarked     889 non-null    object \n",
            "dtypes: float64(2), int64(5), object(5)\n",
            "memory usage: 83.7+ KB\n"
          ],
          "name": "stdout"
        }
      ]
    },
    {
      "cell_type": "markdown",
      "metadata": {
        "id": "oqzh_8mQUPKl"
      },
      "source": [
        "\n",
        "\n",
        "Wie zu sehen sind die Cabin-Einträge zu mehr als 3/4 nicht vorhanden. \n",
        "Hier wäre es ratsam die Spalte einfach komplett zu löschen, da sie fürs training unbrauchbar ist.\n",
        "\n",
        "Auch ist die Ticket- und PassengerId-Spalte unbrauchbar.\n"
      ]
    },
    {
      "cell_type": "code",
      "metadata": {
        "colab": {
          "base_uri": "https://localhost:8080/"
        },
        "id": "dkJBQ-AHT7_e",
        "outputId": "d17e457b-dfa7-4702-f3df-57efae6380d5"
      },
      "source": [
        "train[\"Ticket\"].sample(20)\n"
      ],
      "execution_count": 32,
      "outputs": [
        {
          "output_type": "execute_result",
          "data": {
            "text/plain": [
              "335                349225\n",
              "842                113798\n",
              "646                349231\n",
              "821                315098\n",
              "412                 19928\n",
              "298                 19988\n",
              "346                 31418\n",
              "307              PC 17758\n",
              "406                347064\n",
              "592              A/5 3902\n",
              "866         SC/PARIS 2149\n",
              "250                362316\n",
              "581                 17421\n",
              "536                113050\n",
              "131    SOTON/O.Q. 3101307\n",
              "273              PC 17596\n",
              "454              A/5 2817\n",
              "249                244252\n",
              "569                350417\n",
              "201              CA. 2343\n",
              "Name: Ticket, dtype: object"
            ]
          },
          "metadata": {
            "tags": []
          },
          "execution_count": 32
        }
      ]
    },
    {
      "cell_type": "code",
      "metadata": {
        "colab": {
          "base_uri": "https://localhost:8080/"
        },
        "id": "0lFZ0GbFU-nZ",
        "outputId": "cb1088bf-5f4d-4648-8943-a0132234809a"
      },
      "source": [
        "train.drop([\"Cabin\",\"Ticket\"],axis=1, inplace = True)\n",
        "train.columns"
      ],
      "execution_count": 33,
      "outputs": [
        {
          "output_type": "execute_result",
          "data": {
            "text/plain": [
              "Index(['PassengerId', 'Survived', 'Pclass', 'Name', 'Sex', 'Age', 'SibSp',\n",
              "       'Parch', 'Fare', 'Embarked'],\n",
              "      dtype='object')"
            ]
          },
          "metadata": {
            "tags": []
          },
          "execution_count": 33
        }
      ]
    },
    {
      "cell_type": "markdown",
      "metadata": {
        "id": "XDqqqzWELDNd"
      },
      "source": [
        "Mittels der describe()-Funktion erhält man einen groben Überblick über die Daten, wie zum Beispiel die Überlebensrate und die Altersspanne.\n"
      ]
    },
    {
      "cell_type": "code",
      "metadata": {
        "colab": {
          "base_uri": "https://localhost:8080/",
          "height": 287
        },
        "id": "WBDxgqjDxJrV",
        "outputId": "ac9f2f30-2505-4b91-e50e-7eb3327ff9ea"
      },
      "source": [
        "train.describe()\n"
      ],
      "execution_count": 34,
      "outputs": [
        {
          "output_type": "execute_result",
          "data": {
            "text/html": [
              "<div>\n",
              "<style scoped>\n",
              "    .dataframe tbody tr th:only-of-type {\n",
              "        vertical-align: middle;\n",
              "    }\n",
              "\n",
              "    .dataframe tbody tr th {\n",
              "        vertical-align: top;\n",
              "    }\n",
              "\n",
              "    .dataframe thead th {\n",
              "        text-align: right;\n",
              "    }\n",
              "</style>\n",
              "<table border=\"1\" class=\"dataframe\">\n",
              "  <thead>\n",
              "    <tr style=\"text-align: right;\">\n",
              "      <th></th>\n",
              "      <th>PassengerId</th>\n",
              "      <th>Survived</th>\n",
              "      <th>Pclass</th>\n",
              "      <th>Age</th>\n",
              "      <th>SibSp</th>\n",
              "      <th>Parch</th>\n",
              "      <th>Fare</th>\n",
              "    </tr>\n",
              "  </thead>\n",
              "  <tbody>\n",
              "    <tr>\n",
              "      <th>count</th>\n",
              "      <td>891.000000</td>\n",
              "      <td>891.000000</td>\n",
              "      <td>891.000000</td>\n",
              "      <td>714.000000</td>\n",
              "      <td>891.000000</td>\n",
              "      <td>891.000000</td>\n",
              "      <td>891.000000</td>\n",
              "    </tr>\n",
              "    <tr>\n",
              "      <th>mean</th>\n",
              "      <td>446.000000</td>\n",
              "      <td>0.383838</td>\n",
              "      <td>2.308642</td>\n",
              "      <td>29.699118</td>\n",
              "      <td>0.523008</td>\n",
              "      <td>0.381594</td>\n",
              "      <td>32.204208</td>\n",
              "    </tr>\n",
              "    <tr>\n",
              "      <th>std</th>\n",
              "      <td>257.353842</td>\n",
              "      <td>0.486592</td>\n",
              "      <td>0.836071</td>\n",
              "      <td>14.526497</td>\n",
              "      <td>1.102743</td>\n",
              "      <td>0.806057</td>\n",
              "      <td>49.693429</td>\n",
              "    </tr>\n",
              "    <tr>\n",
              "      <th>min</th>\n",
              "      <td>1.000000</td>\n",
              "      <td>0.000000</td>\n",
              "      <td>1.000000</td>\n",
              "      <td>0.420000</td>\n",
              "      <td>0.000000</td>\n",
              "      <td>0.000000</td>\n",
              "      <td>0.000000</td>\n",
              "    </tr>\n",
              "    <tr>\n",
              "      <th>25%</th>\n",
              "      <td>223.500000</td>\n",
              "      <td>0.000000</td>\n",
              "      <td>2.000000</td>\n",
              "      <td>20.125000</td>\n",
              "      <td>0.000000</td>\n",
              "      <td>0.000000</td>\n",
              "      <td>7.910400</td>\n",
              "    </tr>\n",
              "    <tr>\n",
              "      <th>50%</th>\n",
              "      <td>446.000000</td>\n",
              "      <td>0.000000</td>\n",
              "      <td>3.000000</td>\n",
              "      <td>28.000000</td>\n",
              "      <td>0.000000</td>\n",
              "      <td>0.000000</td>\n",
              "      <td>14.454200</td>\n",
              "    </tr>\n",
              "    <tr>\n",
              "      <th>75%</th>\n",
              "      <td>668.500000</td>\n",
              "      <td>1.000000</td>\n",
              "      <td>3.000000</td>\n",
              "      <td>38.000000</td>\n",
              "      <td>1.000000</td>\n",
              "      <td>0.000000</td>\n",
              "      <td>31.000000</td>\n",
              "    </tr>\n",
              "    <tr>\n",
              "      <th>max</th>\n",
              "      <td>891.000000</td>\n",
              "      <td>1.000000</td>\n",
              "      <td>3.000000</td>\n",
              "      <td>80.000000</td>\n",
              "      <td>8.000000</td>\n",
              "      <td>6.000000</td>\n",
              "      <td>512.329200</td>\n",
              "    </tr>\n",
              "  </tbody>\n",
              "</table>\n",
              "</div>"
            ],
            "text/plain": [
              "       PassengerId    Survived      Pclass  ...       SibSp       Parch        Fare\n",
              "count   891.000000  891.000000  891.000000  ...  891.000000  891.000000  891.000000\n",
              "mean    446.000000    0.383838    2.308642  ...    0.523008    0.381594   32.204208\n",
              "std     257.353842    0.486592    0.836071  ...    1.102743    0.806057   49.693429\n",
              "min       1.000000    0.000000    1.000000  ...    0.000000    0.000000    0.000000\n",
              "25%     223.500000    0.000000    2.000000  ...    0.000000    0.000000    7.910400\n",
              "50%     446.000000    0.000000    3.000000  ...    0.000000    0.000000   14.454200\n",
              "75%     668.500000    1.000000    3.000000  ...    1.000000    0.000000   31.000000\n",
              "max     891.000000    1.000000    3.000000  ...    8.000000    6.000000  512.329200\n",
              "\n",
              "[8 rows x 7 columns]"
            ]
          },
          "metadata": {
            "tags": []
          },
          "execution_count": 34
        }
      ]
    },
    {
      "cell_type": "markdown",
      "metadata": {
        "id": "7FYa_N2wLCwJ"
      },
      "source": [
        "##**Visualisierung**\n",
        "Um ein besseres Gespür für die Daten zu erhalten ist die Visualisierung ein guter Anfang.\n",
        "Vorallem die Anzahl der Überlebenden sortiert nach Geschlecht und Alter.\n"
      ]
    },
    {
      "cell_type": "code",
      "metadata": {
        "colab": {
          "base_uri": "https://localhost:8080/",
          "height": 621
        },
        "id": "SAJ0XAtRUFnq",
        "outputId": "a611279f-57de-4ab8-fbea-7639e44ec363"
      },
      "source": [
        "f,ax = plt.subplots(2,3,figsize=(20,10))\n",
        "\n",
        "\n",
        "#Survived Sex\n",
        "plt.subplot(2,3,1)\n",
        "sns.countplot(x=\"Sex\", data = train, hue = \"Survived\")\n",
        "plt.title(\"Survival by Sex\")\n",
        "plt.grid(axis =\"y\")\n",
        "\n",
        "#Survived Class\n",
        "plt.subplot(2,3,2)\n",
        "sns.countplot(x=\"Pclass\", data = train, hue = \"Survived\")\n",
        "plt.title(\"Survival by Class\")\n",
        "plt.grid(axis =\"y\")\n",
        "\n",
        "#Survived Embarked\n",
        "plt.subplot(2,3,3)\n",
        "sns.countplot(x=\"Embarked\", data = train, hue = \"Survived\")\n",
        "plt.title(\"Survival by Embarked\")\n",
        "plt.grid(axis =\"y\")\n",
        "\n",
        "#Age\n",
        "plt.subplot(2,3,4)\n",
        "sns.histplot(train[\"Age\"], bins = 30, kde = False) # kde = die Ausgleichskurve\n",
        "plt.title(\"Age distribution\")\n",
        "plt.grid(axis =\"y\")\n",
        "\n",
        "#Age Class\n",
        "plt.subplot(2,3,5)\n",
        "sns.boxplot(x = train[\"Pclass\"],y = train[\"Age\"])\n",
        "plt.title(\"Age distribution Class\")\n",
        "plt.grid(axis =\"y\")\n",
        "\n",
        "#Age Embarked\n",
        "plt.subplot(2,3,6)\n",
        "sns.boxplot(x = train[\"Embarked\"],y = train[\"Age\"])\n",
        "plt.title(\"Age distribution Embarked\")\n",
        "plt.grid(axis =\"y\")\n",
        "\n",
        "\n",
        "\n"
      ],
      "execution_count": 35,
      "outputs": [
        {
          "output_type": "display_data",
          "data": {
            "image/png": "[encoded data removed]",
            "text/plain": [
              "<Figure size 1440x720 with 6 Axes>"
            ]
          },
          "metadata": {
            "tags": [],
            "needs_background": "light"
          }
        }
      ]
    },
    {
      "cell_type": "code",
      "metadata": {
        "colab": {
          "base_uri": "https://localhost:8080/",
          "height": 350
        },
        "id": "iLqKDpbTUF15",
        "outputId": "7d994a0e-8455-4121-82b2-31680dce6ab3"
      },
      "source": [
        "f,ax = plt.subplots(1,3,figsize=(20,5))\n",
        "#Survived Parch\n",
        "plt.subplot(1,3,1)\n",
        "sns.countplot(x=\"Parch\", data = train, hue = \"Survived\")\n",
        "plt.title(\"Survival by Parch\")\n",
        "plt.grid(axis =\"y\")\n",
        "plt.legend(loc = \"upper right\")\n",
        "\n",
        "#Survived SibSp\n",
        "plt.subplot(1,3,2)\n",
        "sns.countplot(x=\"SibSp\", data = train, hue = \"Survived\")\n",
        "plt.title(\"Survival by SibSp\")\n",
        "plt.grid(axis =\"y\")\n",
        "plt.legend(loc = \"upper right\")\n",
        "\n",
        "#Survived Fare\n",
        "plt.subplot(1,3,3)\n",
        "sns.histplot(x=\"Fare\", data = train, hue = \"Survived\", bins = 30)\n",
        "plt.title(\"Survival by Fare\")\n",
        "plt.grid(axis =\"y\")\n",
        "\n"
      ],
      "execution_count": 36,
      "outputs": [
        {
          "output_type": "display_data",
          "data": {
            "image/png": "[encoded data removed]",
            "text/plain": [
              "<Figure size 1440x360 with 3 Axes>"
            ]
          },
          "metadata": {
            "tags": [],
            "needs_background": "light"
          }
        }
      ]
    },
    {
      "cell_type": "markdown",
      "metadata": {
        "id": "XI0VBdrHH5un"
      },
      "source": [
        "##**Datenaufbereitung**\n",
        "Als Nächstes müssen wir nun die verbleibenden Daten für die statistischen Modelle vorbereiten, da die Modelle nur Zahlenwerte verarbeiten können. Für \"Sex\" bietet sich eine binäre Einteilung ein. "
      ]
    },
    {
      "cell_type": "code",
      "metadata": {
        "id": "GlVq6nlvQyi4"
      },
      "source": [
        "#replace-Funktion mittels dictionary\n",
        "train[\"Sex\"] = train[\"Sex\"].replace({\"male\":1, \"female\":0})\n"
      ],
      "execution_count": 37,
      "outputs": []
    },
    {
      "cell_type": "markdown",
      "metadata": {
        "id": "bqa5qG4CHdye"
      },
      "source": [
        "Gleiches gilt für \"Embarked\" und \"Name\".\n",
        "1.   Listeneintrag\n",
        "2.   Listeneintrag\n",
        "\n"
      ]
    },
    {
      "cell_type": "code",
      "metadata": {
        "colab": {
          "base_uri": "https://localhost:8080/",
          "height": 197
        },
        "id": "dEv2S9AvQys3",
        "outputId": "1d39df1f-2c5c-4cd4-d6ea-cf57867308e9"
      },
      "source": [
        "train[\"Embarked\"].replace({\"S\":0, \"C\":1, \"Q\":2}, inplace = True)\n",
        "#Neue DF für \"Name lenght\"\n",
        "new_train = train\n",
        "new_train[\"Name\"]= train[\"Name\"].apply(lambda x: len(x))\n",
        "new_train.head()\n"
      ],
      "execution_count": 38,
      "outputs": [
        {
          "output_type": "execute_result",
          "data": {
            "text/html": [
              "<div>\n",
              "<style scoped>\n",
              "    .dataframe tbody tr th:only-of-type {\n",
              "        vertical-align: middle;\n",
              "    }\n",
              "\n",
              "    .dataframe tbody tr th {\n",
              "        vertical-align: top;\n",
              "    }\n",
              "\n",
              "    .dataframe thead th {\n",
              "        text-align: right;\n",
              "    }\n",
              "</style>\n",
              "<table border=\"1\" class=\"dataframe\">\n",
              "  <thead>\n",
              "    <tr style=\"text-align: right;\">\n",
              "      <th></th>\n",
              "      <th>PassengerId</th>\n",
              "      <th>Survived</th>\n",
              "      <th>Pclass</th>\n",
              "      <th>Name</th>\n",
              "      <th>Sex</th>\n",
              "      <th>Age</th>\n",
              "      <th>SibSp</th>\n",
              "      <th>Parch</th>\n",
              "      <th>Fare</th>\n",
              "      <th>Embarked</th>\n",
              "    </tr>\n",
              "  </thead>\n",
              "  <tbody>\n",
              "    <tr>\n",
              "      <th>0</th>\n",
              "      <td>1</td>\n",
              "      <td>0</td>\n",
              "      <td>3</td>\n",
              "      <td>23</td>\n",
              "      <td>1</td>\n",
              "      <td>22.0</td>\n",
              "      <td>1</td>\n",
              "      <td>0</td>\n",
              "      <td>7.2500</td>\n",
              "      <td>0.0</td>\n",
              "    </tr>\n",
              "    <tr>\n",
              "      <th>1</th>\n",
              "      <td>2</td>\n",
              "      <td>1</td>\n",
              "      <td>1</td>\n",
              "      <td>51</td>\n",
              "      <td>0</td>\n",
              "      <td>38.0</td>\n",
              "      <td>1</td>\n",
              "      <td>0</td>\n",
              "      <td>71.2833</td>\n",
              "      <td>1.0</td>\n",
              "    </tr>\n",
              "    <tr>\n",
              "      <th>2</th>\n",
              "      <td>3</td>\n",
              "      <td>1</td>\n",
              "      <td>3</td>\n",
              "      <td>22</td>\n",
              "      <td>0</td>\n",
              "      <td>26.0</td>\n",
              "      <td>0</td>\n",
              "      <td>0</td>\n",
              "      <td>7.9250</td>\n",
              "      <td>0.0</td>\n",
              "    </tr>\n",
              "    <tr>\n",
              "      <th>3</th>\n",
              "      <td>4</td>\n",
              "      <td>1</td>\n",
              "      <td>1</td>\n",
              "      <td>44</td>\n",
              "      <td>0</td>\n",
              "      <td>35.0</td>\n",
              "      <td>1</td>\n",
              "      <td>0</td>\n",
              "      <td>53.1000</td>\n",
              "      <td>0.0</td>\n",
              "    </tr>\n",
              "    <tr>\n",
              "      <th>4</th>\n",
              "      <td>5</td>\n",
              "      <td>0</td>\n",
              "      <td>3</td>\n",
              "      <td>24</td>\n",
              "      <td>1</td>\n",
              "      <td>35.0</td>\n",
              "      <td>0</td>\n",
              "      <td>0</td>\n",
              "      <td>8.0500</td>\n",
              "      <td>0.0</td>\n",
              "    </tr>\n",
              "  </tbody>\n",
              "</table>\n",
              "</div>"
            ],
            "text/plain": [
              "   PassengerId  Survived  Pclass  Name  ...  SibSp  Parch     Fare  Embarked\n",
              "0            1         0       3    23  ...      1      0   7.2500       0.0\n",
              "1            2         1       1    51  ...      1      0  71.2833       1.0\n",
              "2            3         1       3    22  ...      0      0   7.9250       0.0\n",
              "3            4         1       1    44  ...      1      0  53.1000       0.0\n",
              "4            5         0       3    24  ...      0      0   8.0500       0.0\n",
              "\n",
              "[5 rows x 10 columns]"
            ]
          },
          "metadata": {
            "tags": []
          },
          "execution_count": 38
        }
      ]
    },
    {
      "cell_type": "markdown",
      "metadata": {
        "id": "RsZowRCG0R1v"
      },
      "source": [
        "##**Bereinigung der Daten**\n",
        "\n",
        "Als Nächstes befassen wir uns mit der Bereinigung der Daten von Ausreißern und NaN-values.\n",
        "Mit der Annahme, dass die Daten einer Normalverteilung folgen, können wir die Ausreißer mittels der Standardabweichung $\\sigma$ eliminieren. 68% aller Messerwerte liegen bei einer Abweichung von 1$\\sigma$  um den Erwartungswert. Für 2$\\sigma$ sind es 95% und bei 3$\\sigma$ sogar 99,7% der Werte.\n",
        " Wir begnügen uns in diesem Fall mit 2$\\sigma$."
      ]
    },
    {
      "cell_type": "code",
      "metadata": {
        "id": "Hm7tO03dLDkb"
      },
      "source": [
        "from collections import Counter\n",
        "\n",
        "#Findet Zeilen mit mehr als 2 Ausreißern\n",
        "def Ausreisser (df, columns):\n",
        "  #Liste mit den Indizes aller Spalten mit einem Ausreißer\n",
        "  Indices = []\n",
        "  \n",
        "  \n",
        "  for values in columns:\n",
        "    #obere und untere Grenze\n",
        "    upper = df[values].mean() + 2*df[values].std()\n",
        "    lower = df[values].mean() - 2*df[values].std()\n",
        "    #Daten mit einem Ausreißer\n",
        "    data = df[(df[values] > upper) | (df[values] < lower)].index\n",
        "\n",
        "    #Indizes der nachfolgenden Spalten werden einfach hinzugefuegt\n",
        "    Indices.extend(data)\n",
        "\n",
        "\n",
        "#Passagiere mit mehr als 2 Ausreißern gleichzeitig\n",
        "#Liste von Counter.elements() um nach Dreifach-Elementen zu suchen\n",
        "  counter = (list(Counter(Indices).elements()))\n",
        "  i = 0\n",
        "  double_indices = []\n",
        "  while (i < len(counter)-2):\n",
        "    if counter[i] == counter[i+2] :\n",
        "      double_indices.append(counter[i])\n",
        "    i+=1\n",
        "\n",
        "  return(double_indices)\n",
        "\n",
        "\n",
        " \n",
        "\n",
        "\n",
        "    "
      ],
      "execution_count": 39,
      "outputs": []
    },
    {
      "cell_type": "code",
      "metadata": {
        "colab": {
          "base_uri": "https://localhost:8080/",
          "height": 167
        },
        "id": "qs12AiT1LDnu",
        "outputId": "8b7ea457-689f-4db5-a0b7-b45cd38ee7ba"
      },
      "source": [
        "outliers = Ausreisser(new_train, [\"Age\",\"SibSp\",\"Fare\",\"Parch\"])\n",
        "\n",
        "#Passagiere mit mehr als 2 Ausreißern\n",
        "new_train.iloc[outliers]\n",
        "\n"
      ],
      "execution_count": 40,
      "outputs": [
        {
          "output_type": "execute_result",
          "data": {
            "text/html": [
              "<div>\n",
              "<style scoped>\n",
              "    .dataframe tbody tr th:only-of-type {\n",
              "        vertical-align: middle;\n",
              "    }\n",
              "\n",
              "    .dataframe tbody tr th {\n",
              "        vertical-align: top;\n",
              "    }\n",
              "\n",
              "    .dataframe thead th {\n",
              "        text-align: right;\n",
              "    }\n",
              "</style>\n",
              "<table border=\"1\" class=\"dataframe\">\n",
              "  <thead>\n",
              "    <tr style=\"text-align: right;\">\n",
              "      <th></th>\n",
              "      <th>PassengerId</th>\n",
              "      <th>Survived</th>\n",
              "      <th>Pclass</th>\n",
              "      <th>Name</th>\n",
              "      <th>Sex</th>\n",
              "      <th>Age</th>\n",
              "      <th>SibSp</th>\n",
              "      <th>Parch</th>\n",
              "      <th>Fare</th>\n",
              "      <th>Embarked</th>\n",
              "    </tr>\n",
              "  </thead>\n",
              "  <tbody>\n",
              "    <tr>\n",
              "      <th>438</th>\n",
              "      <td>439</td>\n",
              "      <td>0</td>\n",
              "      <td>1</td>\n",
              "      <td>17</td>\n",
              "      <td>1</td>\n",
              "      <td>64.0</td>\n",
              "      <td>1</td>\n",
              "      <td>4</td>\n",
              "      <td>263.0</td>\n",
              "      <td>0.0</td>\n",
              "    </tr>\n",
              "    <tr>\n",
              "      <th>27</th>\n",
              "      <td>28</td>\n",
              "      <td>0</td>\n",
              "      <td>1</td>\n",
              "      <td>30</td>\n",
              "      <td>1</td>\n",
              "      <td>19.0</td>\n",
              "      <td>3</td>\n",
              "      <td>2</td>\n",
              "      <td>263.0</td>\n",
              "      <td>0.0</td>\n",
              "    </tr>\n",
              "    <tr>\n",
              "      <th>88</th>\n",
              "      <td>89</td>\n",
              "      <td>1</td>\n",
              "      <td>1</td>\n",
              "      <td>26</td>\n",
              "      <td>0</td>\n",
              "      <td>23.0</td>\n",
              "      <td>3</td>\n",
              "      <td>2</td>\n",
              "      <td>263.0</td>\n",
              "      <td>0.0</td>\n",
              "    </tr>\n",
              "    <tr>\n",
              "      <th>341</th>\n",
              "      <td>342</td>\n",
              "      <td>1</td>\n",
              "      <td>1</td>\n",
              "      <td>30</td>\n",
              "      <td>0</td>\n",
              "      <td>24.0</td>\n",
              "      <td>3</td>\n",
              "      <td>2</td>\n",
              "      <td>263.0</td>\n",
              "      <td>0.0</td>\n",
              "    </tr>\n",
              "  </tbody>\n",
              "</table>\n",
              "</div>"
            ],
            "text/plain": [
              "     PassengerId  Survived  Pclass  Name  ...  SibSp  Parch   Fare  Embarked\n",
              "438          439         0       1    17  ...      1      4  263.0       0.0\n",
              "27            28         0       1    30  ...      3      2  263.0       0.0\n",
              "88            89         1       1    26  ...      3      2  263.0       0.0\n",
              "341          342         1       1    30  ...      3      2  263.0       0.0\n",
              "\n",
              "[4 rows x 10 columns]"
            ]
          },
          "metadata": {
            "tags": []
          },
          "execution_count": 40
        }
      ]
    },
    {
      "cell_type": "code",
      "metadata": {
        "colab": {
          "base_uri": "https://localhost:8080/",
          "height": 287
        },
        "id": "cJcOhsoX0Q_z",
        "outputId": "e74f269b-5d3f-4a15-f2ce-58fb4f8c93de"
      },
      "source": [
        "new_train[[\"Age\",\"SibSp\",\"Fare\",\"Parch\"]].describe()"
      ],
      "execution_count": 41,
      "outputs": [
        {
          "output_type": "execute_result",
          "data": {
            "text/html": [
              "<div>\n",
              "<style scoped>\n",
              "    .dataframe tbody tr th:only-of-type {\n",
              "        vertical-align: middle;\n",
              "    }\n",
              "\n",
              "    .dataframe tbody tr th {\n",
              "        vertical-align: top;\n",
              "    }\n",
              "\n",
              "    .dataframe thead th {\n",
              "        text-align: right;\n",
              "    }\n",
              "</style>\n",
              "<table border=\"1\" class=\"dataframe\">\n",
              "  <thead>\n",
              "    <tr style=\"text-align: right;\">\n",
              "      <th></th>\n",
              "      <th>Age</th>\n",
              "      <th>SibSp</th>\n",
              "      <th>Fare</th>\n",
              "      <th>Parch</th>\n",
              "    </tr>\n",
              "  </thead>\n",
              "  <tbody>\n",
              "    <tr>\n",
              "      <th>count</th>\n",
              "      <td>714.000000</td>\n",
              "      <td>891.000000</td>\n",
              "      <td>891.000000</td>\n",
              "      <td>891.000000</td>\n",
              "    </tr>\n",
              "    <tr>\n",
              "      <th>mean</th>\n",
              "      <td>29.699118</td>\n",
              "      <td>0.523008</td>\n",
              "      <td>32.204208</td>\n",
              "      <td>0.381594</td>\n",
              "    </tr>\n",
              "    <tr>\n",
              "      <th>std</th>\n",
              "      <td>14.526497</td>\n",
              "      <td>1.102743</td>\n",
              "      <td>49.693429</td>\n",
              "      <td>0.806057</td>\n",
              "    </tr>\n",
              "    <tr>\n",
              "      <th>min</th>\n",
              "      <td>0.420000</td>\n",
              "      <td>0.000000</td>\n",
              "      <td>0.000000</td>\n",
              "      <td>0.000000</td>\n",
              "    </tr>\n",
              "    <tr>\n",
              "      <th>25%</th>\n",
              "      <td>20.125000</td>\n",
              "      <td>0.000000</td>\n",
              "      <td>7.910400</td>\n",
              "      <td>0.000000</td>\n",
              "    </tr>\n",
              "    <tr>\n",
              "      <th>50%</th>\n",
              "      <td>28.000000</td>\n",
              "      <td>0.000000</td>\n",
              "      <td>14.454200</td>\n",
              "      <td>0.000000</td>\n",
              "    </tr>\n",
              "    <tr>\n",
              "      <th>75%</th>\n",
              "      <td>38.000000</td>\n",
              "      <td>1.000000</td>\n",
              "      <td>31.000000</td>\n",
              "      <td>0.000000</td>\n",
              "    </tr>\n",
              "    <tr>\n",
              "      <th>max</th>\n",
              "      <td>80.000000</td>\n",
              "      <td>8.000000</td>\n",
              "      <td>512.329200</td>\n",
              "      <td>6.000000</td>\n",
              "    </tr>\n",
              "  </tbody>\n",
              "</table>\n",
              "</div>"
            ],
            "text/plain": [
              "              Age       SibSp        Fare       Parch\n",
              "count  714.000000  891.000000  891.000000  891.000000\n",
              "mean    29.699118    0.523008   32.204208    0.381594\n",
              "std     14.526497    1.102743   49.693429    0.806057\n",
              "min      0.420000    0.000000    0.000000    0.000000\n",
              "25%     20.125000    0.000000    7.910400    0.000000\n",
              "50%     28.000000    0.000000   14.454200    0.000000\n",
              "75%     38.000000    1.000000   31.000000    0.000000\n",
              "max     80.000000    8.000000  512.329200    6.000000"
            ]
          },
          "metadata": {
            "tags": []
          },
          "execution_count": 41
        }
      ]
    },
    {
      "cell_type": "markdown",
      "metadata": {
        "id": "lDbqwNqf1OhI"
      },
      "source": [
        "Wie man sehen kann sind diese Passagiere Ausreißer in 3 Kathegorien: Fare, Parch und SibSp."
      ]
    },
    {
      "cell_type": "code",
      "metadata": {
        "id": "0KqS5Tq4LDrx"
      },
      "source": [
        "#Drop Ausreisser von \"Age\",\"SibSp\",\"Fare\",\"Parch\"\n",
        "new_train.drop(outliers, axis = 0, inplace = True)"
      ],
      "execution_count": 42,
      "outputs": []
    },
    {
      "cell_type": "markdown",
      "metadata": {
        "id": "AByt8CzjncNO"
      },
      "source": [
        "##Fehlende Werte (NaN) ergänzen\n",
        "Bei fehlenden Werten funktionieren die ML-Algorithmen nicht, weshalb wir sie ergänzen/entfernen müssen."
      ]
    },
    {
      "cell_type": "code",
      "metadata": {
        "colab": {
          "base_uri": "https://localhost:8080/"
        },
        "id": "-VF0JCxWLDxt",
        "outputId": "9648ddd0-26fc-4a0f-cc28-36ab2bf74af3"
      },
      "source": [
        "#Anzahl der NaN-Values\n",
        "new_train.isnull().sum()"
      ],
      "execution_count": 43,
      "outputs": [
        {
          "output_type": "execute_result",
          "data": {
            "text/plain": [
              "PassengerId      0\n",
              "Survived         0\n",
              "Pclass           0\n",
              "Name             0\n",
              "Sex              0\n",
              "Age            177\n",
              "SibSp            0\n",
              "Parch            0\n",
              "Fare             0\n",
              "Embarked         2\n",
              "dtype: int64"
            ]
          },
          "metadata": {
            "tags": []
          },
          "execution_count": 43
        }
      ]
    },
    {
      "cell_type": "markdown",
      "metadata": {
        "id": "FVxOXZGMqDRr"
      },
      "source": [
        "Bei 177 Werten (\"Age\") ist das Löschen der NaN-Values nicht zu empfehlen, da die Menge an Trainingsdaten erheblich schrumpfen würde.\n",
        "Eine einfache Methode ist das ersetzen der NaN-Values durch den Mittelwert mit zufälliger Abweichung im Bereich [-$\\sigma$,$\\sigma$].\n",
        "Für \"Embarked\" empfiehlt sich eher der Median, da es nur ganze Zahlen annehmen kann."
      ]
    },
    {
      "cell_type": "code",
      "metadata": {
        "id": "w1uZtRVb11_e"
      },
      "source": [
        "Age = new_train[\"Age\"]\n",
        "mean = Age.mean()\n",
        "sigma = Age.std()\n",
        "Age.fillna(np.random.randint(mean - sigma, mean + sigma ), inplace = True) \n",
        "new_train[\"Embarked\"].fillna(new_train[\"Embarked\"].median(), inplace = True)"
      ],
      "execution_count": 44,
      "outputs": []
    },
    {
      "cell_type": "code",
      "metadata": {
        "colab": {
          "base_uri": "https://localhost:8080/",
          "height": 287
        },
        "id": "2bbCyGhN9ORL",
        "outputId": "1f7609f7-c374-431d-bd3b-58ea76771d41"
      },
      "source": [
        "new_train.describe()"
      ],
      "execution_count": 45,
      "outputs": [
        {
          "output_type": "execute_result",
          "data": {
            "text/html": [
              "<div>\n",
              "<style scoped>\n",
              "    .dataframe tbody tr th:only-of-type {\n",
              "        vertical-align: middle;\n",
              "    }\n",
              "\n",
              "    .dataframe tbody tr th {\n",
              "        vertical-align: top;\n",
              "    }\n",
              "\n",
              "    .dataframe thead th {\n",
              "        text-align: right;\n",
              "    }\n",
              "</style>\n",
              "<table border=\"1\" class=\"dataframe\">\n",
              "  <thead>\n",
              "    <tr style=\"text-align: right;\">\n",
              "      <th></th>\n",
              "      <th>PassengerId</th>\n",
              "      <th>Survived</th>\n",
              "      <th>Pclass</th>\n",
              "      <th>Name</th>\n",
              "      <th>Sex</th>\n",
              "      <th>Age</th>\n",
              "      <th>SibSp</th>\n",
              "      <th>Parch</th>\n",
              "      <th>Fare</th>\n",
              "      <th>Embarked</th>\n",
              "    </tr>\n",
              "  </thead>\n",
              "  <tbody>\n",
              "    <tr>\n",
              "      <th>count</th>\n",
              "      <td>887.000000</td>\n",
              "      <td>887.000000</td>\n",
              "      <td>887.000000</td>\n",
              "      <td>887.000000</td>\n",
              "      <td>887.000000</td>\n",
              "      <td>887.000000</td>\n",
              "      <td>887.000000</td>\n",
              "      <td>887.000000</td>\n",
              "      <td>887.000000</td>\n",
              "      <td>887.000000</td>\n",
              "    </tr>\n",
              "    <tr>\n",
              "      <th>mean</th>\n",
              "      <td>446.998873</td>\n",
              "      <td>0.383315</td>\n",
              "      <td>2.314543</td>\n",
              "      <td>26.970688</td>\n",
              "      <td>0.648253</td>\n",
              "      <td>30.345175</td>\n",
              "      <td>0.514092</td>\n",
              "      <td>0.372041</td>\n",
              "      <td>31.163415</td>\n",
              "      <td>0.363021</td>\n",
              "    </tr>\n",
              "    <tr>\n",
              "      <th>std</th>\n",
              "      <td>257.246373</td>\n",
              "      <td>0.486468</td>\n",
              "      <td>0.833309</td>\n",
              "      <td>9.295332</td>\n",
              "      <td>0.477785</td>\n",
              "      <td>13.039556</td>\n",
              "      <td>1.095638</td>\n",
              "      <td>0.793047</td>\n",
              "      <td>47.318277</td>\n",
              "      <td>0.636642</td>\n",
              "    </tr>\n",
              "    <tr>\n",
              "      <th>min</th>\n",
              "      <td>1.000000</td>\n",
              "      <td>0.000000</td>\n",
              "      <td>1.000000</td>\n",
              "      <td>12.000000</td>\n",
              "      <td>0.000000</td>\n",
              "      <td>0.420000</td>\n",
              "      <td>0.000000</td>\n",
              "      <td>0.000000</td>\n",
              "      <td>0.000000</td>\n",
              "      <td>0.000000</td>\n",
              "    </tr>\n",
              "    <tr>\n",
              "      <th>25%</th>\n",
              "      <td>224.500000</td>\n",
              "      <td>0.000000</td>\n",
              "      <td>2.000000</td>\n",
              "      <td>20.000000</td>\n",
              "      <td>0.000000</td>\n",
              "      <td>22.000000</td>\n",
              "      <td>0.000000</td>\n",
              "      <td>0.000000</td>\n",
              "      <td>7.895800</td>\n",
              "      <td>0.000000</td>\n",
              "    </tr>\n",
              "    <tr>\n",
              "      <th>50%</th>\n",
              "      <td>448.000000</td>\n",
              "      <td>0.000000</td>\n",
              "      <td>3.000000</td>\n",
              "      <td>25.000000</td>\n",
              "      <td>1.000000</td>\n",
              "      <td>32.500000</td>\n",
              "      <td>0.000000</td>\n",
              "      <td>0.000000</td>\n",
              "      <td>14.454200</td>\n",
              "      <td>0.000000</td>\n",
              "    </tr>\n",
              "    <tr>\n",
              "      <th>75%</th>\n",
              "      <td>669.500000</td>\n",
              "      <td>1.000000</td>\n",
              "      <td>3.000000</td>\n",
              "      <td>30.500000</td>\n",
              "      <td>1.000000</td>\n",
              "      <td>35.000000</td>\n",
              "      <td>1.000000</td>\n",
              "      <td>0.000000</td>\n",
              "      <td>30.695800</td>\n",
              "      <td>1.000000</td>\n",
              "    </tr>\n",
              "    <tr>\n",
              "      <th>max</th>\n",
              "      <td>891.000000</td>\n",
              "      <td>1.000000</td>\n",
              "      <td>3.000000</td>\n",
              "      <td>82.000000</td>\n",
              "      <td>1.000000</td>\n",
              "      <td>80.000000</td>\n",
              "      <td>8.000000</td>\n",
              "      <td>6.000000</td>\n",
              "      <td>512.329200</td>\n",
              "      <td>2.000000</td>\n",
              "    </tr>\n",
              "  </tbody>\n",
              "</table>\n",
              "</div>"
            ],
            "text/plain": [
              "       PassengerId    Survived      Pclass  ...       Parch        Fare    Embarked\n",
              "count   887.000000  887.000000  887.000000  ...  887.000000  887.000000  887.000000\n",
              "mean    446.998873    0.383315    2.314543  ...    0.372041   31.163415    0.363021\n",
              "std     257.246373    0.486468    0.833309  ...    0.793047   47.318277    0.636642\n",
              "min       1.000000    0.000000    1.000000  ...    0.000000    0.000000    0.000000\n",
              "25%     224.500000    0.000000    2.000000  ...    0.000000    7.895800    0.000000\n",
              "50%     448.000000    0.000000    3.000000  ...    0.000000   14.454200    0.000000\n",
              "75%     669.500000    1.000000    3.000000  ...    0.000000   30.695800    1.000000\n",
              "max     891.000000    1.000000    3.000000  ...    6.000000  512.329200    2.000000\n",
              "\n",
              "[8 rows x 10 columns]"
            ]
          },
          "metadata": {
            "tags": []
          },
          "execution_count": 45
        }
      ]
    },
    {
      "cell_type": "markdown",
      "metadata": {
        "id": "Cb1wN9ne-RZf"
      },
      "source": [
        "Somit sind alle Werte numerisch und kann von einem ML-Modell verwendet werden."
      ]
    },
    {
      "cell_type": "markdown",
      "metadata": {
        "id": "1NJa0b3LI--d"
      },
      "source": [
        "##**Feature selection**\n",
        "\n",
        "Je mehr Attribute zur Vorhersage verwendet werden, desto anfälliger ist das Modell. Mittels der Covariant-Matrix kann man ganz gut die Korrelation der einzelnen Attribute vergleichen. Je näher die Zahl an |1|, desto stärker die Korrelation."
      ]
    },
    {
      "cell_type": "code",
      "metadata": {
        "colab": {
          "base_uri": "https://localhost:8080/",
          "height": 686
        },
        "id": "XdE9FNxKJdV-",
        "outputId": "4d144f73-7780-4251-b31a-63936af76bf1"
      },
      "source": [
        "colormap = plt.cm.RdBu\n",
        "plt.figure(figsize=(12,12))\n",
        "plt.title('Pearson Correlation of Features', y=1.05, size=15)\n",
        "sns.heatmap(new_train.astype(float).corr(),linewidths=0.1,vmax=1.0, square=True, cmap=colormap, linecolor='white', annot=True)\n",
        "plt.show()"
      ],
      "execution_count": 46,
      "outputs": [
        {
          "output_type": "display_data",
          "data": {
            "image/png": "[encoded data removed]",
            "text/plain": [
              "<Figure size 864x864 with 2 Axes>"
            ]
          },
          "metadata": {
            "tags": [],
            "needs_background": "light"
          }
        }
      ]
    },
    {
      "cell_type": "markdown",
      "metadata": {
        "id": "L6J099ykL5XX"
      },
      "source": [
        "Aus der \"Survived\"-Spalte sehen wir die stärksten Korrelationen mit \"Sex\", \"Fare\", \"Name\" und \"Pclass\"."
      ]
    },
    {
      "cell_type": "code",
      "metadata": {
        "id": "C_gsGYgMM69z"
      },
      "source": [
        "new_train.drop([\"Parch\",\"Embarked\",\"Age\", \"PassengerId\"],axis=1, inplace = True)"
      ],
      "execution_count": 47,
      "outputs": []
    },
    {
      "cell_type": "code",
      "metadata": {
        "colab": {
          "base_uri": "https://localhost:8080/",
          "height": 197
        },
        "id": "6mtdr1glOGM_",
        "outputId": "cfe6c7fa-2229-426c-9e41-a33a711c2075"
      },
      "source": [
        "new_train.head()"
      ],
      "execution_count": 48,
      "outputs": [
        {
          "output_type": "execute_result",
          "data": {
            "text/html": [
              "<div>\n",
              "<style scoped>\n",
              "    .dataframe tbody tr th:only-of-type {\n",
              "        vertical-align: middle;\n",
              "    }\n",
              "\n",
              "    .dataframe tbody tr th {\n",
              "        vertical-align: top;\n",
              "    }\n",
              "\n",
              "    .dataframe thead th {\n",
              "        text-align: right;\n",
              "    }\n",
              "</style>\n",
              "<table border=\"1\" class=\"dataframe\">\n",
              "  <thead>\n",
              "    <tr style=\"text-align: right;\">\n",
              "      <th></th>\n",
              "      <th>Survived</th>\n",
              "      <th>Pclass</th>\n",
              "      <th>Name</th>\n",
              "      <th>Sex</th>\n",
              "      <th>SibSp</th>\n",
              "      <th>Fare</th>\n",
              "    </tr>\n",
              "  </thead>\n",
              "  <tbody>\n",
              "    <tr>\n",
              "      <th>0</th>\n",
              "      <td>0</td>\n",
              "      <td>3</td>\n",
              "      <td>23</td>\n",
              "      <td>1</td>\n",
              "      <td>1</td>\n",
              "      <td>7.2500</td>\n",
              "    </tr>\n",
              "    <tr>\n",
              "      <th>1</th>\n",
              "      <td>1</td>\n",
              "      <td>1</td>\n",
              "      <td>51</td>\n",
              "      <td>0</td>\n",
              "      <td>1</td>\n",
              "      <td>71.2833</td>\n",
              "    </tr>\n",
              "    <tr>\n",
              "      <th>2</th>\n",
              "      <td>1</td>\n",
              "      <td>3</td>\n",
              "      <td>22</td>\n",
              "      <td>0</td>\n",
              "      <td>0</td>\n",
              "      <td>7.9250</td>\n",
              "    </tr>\n",
              "    <tr>\n",
              "      <th>3</th>\n",
              "      <td>1</td>\n",
              "      <td>1</td>\n",
              "      <td>44</td>\n",
              "      <td>0</td>\n",
              "      <td>1</td>\n",
              "      <td>53.1000</td>\n",
              "    </tr>\n",
              "    <tr>\n",
              "      <th>4</th>\n",
              "      <td>0</td>\n",
              "      <td>3</td>\n",
              "      <td>24</td>\n",
              "      <td>1</td>\n",
              "      <td>0</td>\n",
              "      <td>8.0500</td>\n",
              "    </tr>\n",
              "  </tbody>\n",
              "</table>\n",
              "</div>"
            ],
            "text/plain": [
              "   Survived  Pclass  Name  Sex  SibSp     Fare\n",
              "0         0       3    23    1      1   7.2500\n",
              "1         1       1    51    0      1  71.2833\n",
              "2         1       3    22    0      0   7.9250\n",
              "3         1       1    44    0      1  53.1000\n",
              "4         0       3    24    1      0   8.0500"
            ]
          },
          "metadata": {
            "tags": []
          },
          "execution_count": 48
        }
      ]
    },
    {
      "cell_type": "markdown",
      "metadata": {
        "id": "y1KmMlmqOY_-"
      },
      "source": [
        "##**Vorhersagemodelle**\n",
        "Hier verwenden wir nun 5 verschiedene ML-Modelle um herrauszufinden, welches bei dieser Aufgabe am Besten abschneidet.\n",
        "\n",
        "* Logistic Regression\n",
        "* SVM\n",
        "* Decision Tree / Random Forest\n",
        "* KNN\n",
        "* Perceptron"
      ]
    },
    {
      "cell_type": "code",
      "metadata": {
        "id": "pGdsIDoJPLBt"
      },
      "source": [
        "import sklearn # Collection of machine learning algorithms\n",
        "from sklearn.linear_model import LogisticRegression, Perceptron\n",
        "from sklearn.tree import DecisionTreeClassifier\n",
        "from sklearn.svm import SVC\n",
        "from sklearn.neighbors import KNeighborsClassifier\n",
        "from sklearn.model_selection import train_test_split\n"
      ],
      "execution_count": 49,
      "outputs": []
    },
    {
      "cell_type": "code",
      "metadata": {
        "id": "mvUVTItdPL3w"
      },
      "source": [
        "#Aufteilen der Daten in test und train\n",
        "X_train = new_train.drop(\"Survived\", axis=1)\n",
        "Y_train = new_train[\"Survived\"]\n",
        "X_train, x_test, Y_train, y_test = train_test_split(X_train, Y_train, test_size=0.33, random_state=101, stratify = Y_train)\n",
        "#stratify splittet die daten so, dass das verhältnis zwischen überlebenden und toten auch gleich bleibt\n"
      ],
      "execution_count": 50,
      "outputs": []
    },
    {
      "cell_type": "markdown",
      "metadata": {
        "id": "PDRf2kUMPLtI"
      },
      "source": [
        "##Logistic Regression\n"
      ]
    },
    {
      "cell_type": "code",
      "metadata": {
        "colab": {
          "base_uri": "https://localhost:8080/"
        },
        "id": "jA-LxWOxPLg0",
        "outputId": "d2cd51fb-471e-4d19-cbfe-4621f7c6ec72"
      },
      "source": [
        "logreg = LogisticRegression(penalty = \"l2\",solver = \"liblinear\")\n",
        "logreg.fit(X_train, Y_train)\n",
        "logreg_pred = logreg.predict(x_test)\n",
        "print(\"Die Genauigkeit beträgt {}%\".format(round(logreg.score(x_test, y_test) * 100, 2)))"
      ],
      "execution_count": 51,
      "outputs": [
        {
          "output_type": "stream",
          "text": [
            "Die Genauigkeit beträgt 79.86%\n"
          ],
          "name": "stdout"
        }
      ]
    },
    {
      "cell_type": "markdown",
      "metadata": {
        "id": "zmS74QJBSGrC"
      },
      "source": [
        "##Support Vector Machines (SVM)"
      ]
    },
    {
      "cell_type": "code",
      "metadata": {
        "colab": {
          "base_uri": "https://localhost:8080/"
        },
        "id": "G3LJtyLBSGOK",
        "outputId": "bbf03977-252c-4f11-e992-5d52b1dcf195"
      },
      "source": [
        "svc=SVC(gamma = \"auto\")  #Werte nicht normiert --> gamma = \"auto\"\n",
        "svc.fit(X_train, Y_train)\n",
        "Y_pred2 = svc.predict(x_test)\n",
        "print(\"Die Genauigkeit beträgt {}%\".format(round(svc.score(x_test, y_test) * 100, 2)))"
      ],
      "execution_count": 52,
      "outputs": [
        {
          "output_type": "stream",
          "text": [
            "Die Genauigkeit beträgt 68.94%\n"
          ],
          "name": "stdout"
        }
      ]
    },
    {
      "cell_type": "markdown",
      "metadata": {
        "id": "0OLDNsGPSF67"
      },
      "source": [
        "##Decision Tree"
      ]
    },
    {
      "cell_type": "code",
      "metadata": {
        "colab": {
          "base_uri": "https://localhost:8080/"
        },
        "id": "nbP-aJ9SSG4R",
        "outputId": "860d37ce-1f1a-4967-f515-f4c53cd4e999"
      },
      "source": [
        "decision_tree = DecisionTreeClassifier()\n",
        "decision_tree.fit(X_train, Y_train)\n",
        "decision_tree_pred = decision_tree.predict(x_test)\n",
        "print(\"Die Genauigkeit beträgt {}%\".format(round(decision_tree.score(x_test, y_test) * 100, 2)))"
      ],
      "execution_count": 53,
      "outputs": [
        {
          "output_type": "stream",
          "text": [
            "Die Genauigkeit beträgt 76.45%\n"
          ],
          "name": "stdout"
        }
      ]
    },
    {
      "cell_type": "markdown",
      "metadata": {
        "id": "QpykiUo3E_5O"
      },
      "source": [
        "##KNN"
      ]
    },
    {
      "cell_type": "code",
      "metadata": {
        "colab": {
          "base_uri": "https://localhost:8080/"
        },
        "id": "0zRSfhDBE-d5",
        "outputId": "f5272b0f-15da-4807-cf18-53f00dab3c8f"
      },
      "source": [
        "knn = KNeighborsClassifier()\n",
        "knn.fit(X_train, Y_train)\n",
        "knn_pred = knn.predict(x_test)\n",
        "print(\"Die Genauigkeit beträgt {}%\".format(round(knn.score(x_test, y_test) * 100, 2)))"
      ],
      "execution_count": 54,
      "outputs": [
        {
          "output_type": "stream",
          "text": [
            "Die Genauigkeit beträgt 71.33%\n"
          ],
          "name": "stdout"
        }
      ]
    },
    {
      "cell_type": "markdown",
      "metadata": {
        "id": "4nX3N_NDSLvf"
      },
      "source": [
        "##Perceptron (single-layerd neural network)"
      ]
    },
    {
      "cell_type": "code",
      "metadata": {
        "colab": {
          "base_uri": "https://localhost:8080/"
        },
        "id": "9YHwTuMKSMUc",
        "outputId": "9c9a1767-12bd-4bf0-8776-02cde0f04387"
      },
      "source": [
        "perceptron = Perceptron()\n",
        "perceptron.fit(X_train, Y_train)\n",
        "perceptron_pred = perceptron.predict(x_test)\n",
        "print(\"Die Genauigkeit beträgt {}%\".format(round(perceptron.score(x_test, y_test) * 100, 2)))"
      ],
      "execution_count": 55,
      "outputs": [
        {
          "output_type": "stream",
          "text": [
            "Die Genauigkeit beträgt 64.85%\n"
          ],
          "name": "stdout"
        }
      ]
    },
    {
      "cell_type": "markdown",
      "metadata": {
        "id": "md7n9BOZDkoX"
      },
      "source": [
        "##Fazit\n",
        "In unserem Fall erzielt die logistische Regression das beste Ergebnis.\n"
      ]
    },
    {
      "cell_type": "code",
      "metadata": {
        "colab": {
          "base_uri": "https://localhost:8080/",
          "height": 278
        },
        "id": "Ddb8DCIKAkCY",
        "outputId": "a85f6fad-24e5-4ffe-c257-83b74dafef68"
      },
      "source": [
        "#test\n",
        "\n",
        "from sklearn.metrics import plot_roc_curve\n",
        "log_reg = plot_roc_curve(logreg, x_test, y_test)\n"
      ],
      "execution_count": 57,
      "outputs": [
        {
          "output_type": "display_data",
          "data": {
            "image/png": "[encoded data removed]",
            "text/plain": [
              "<Figure size 432x288 with 1 Axes>"
            ]
          },
          "metadata": {
            "tags": [],
            "needs_background": "light"
          }
        }
      ]
    }
  ]
}