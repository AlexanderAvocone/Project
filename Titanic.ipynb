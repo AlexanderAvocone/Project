{
  "nbformat": 4,
  "nbformat_minor": 0,
  "metadata": {
    "colab": {
      "name": "Titanic.ipynb",
      "provenance": [],
      "authorship_tag": "ABX9TyOYQ322WApvw/MCmnYzYM+1",
      "include_colab_link": true
    },
    "kernelspec": {
      "name": "python3",
      "display_name": "Python 3"
    }
  },
  "cells": [
    {
      "cell_type": "markdown",
      "metadata": {
        "id": "view-in-github",
        "colab_type": "text"
      },
      "source": [
        "<a href=\"https://colab.research.google.com/github/AlexanderAvocone/Project/blob/master/Titanic.ipynb\" target=\"_parent\"><img src=\"https://colab.research.google.com/assets/colab-badge.svg\" alt=\"Open In Colab\"/></a>"
      ]
    },
    {
      "cell_type": "markdown",
      "metadata": {
        "id": "XTg7htT4RRjH"
      },
      "source": [
        "##**Daten einlesen**\n",
        "Ziel der Übung ist die Datenanalyse von der Titanic-challenge"
      ]
    },
    {
      "cell_type": "code",
      "metadata": {
        "id": "q-kT33KXK46F"
      },
      "source": [
        "import pandas as pd\n",
        "import numpy as np\n",
        "import matplotlib.pyplot as plt\n",
        "import sklearn\n",
        "import seaborn as sns"
      ],
      "execution_count": 294,
      "outputs": []
    },
    {
      "cell_type": "markdown",
      "metadata": {
        "id": "WxaVLvG5GKPh"
      },
      "source": [
        "Als erstes müssen die Daten geladen und grob überflogen werden um sich einen Eindruck über die Einträge zu verschaffen"
      ]
    },
    {
      "cell_type": "code",
      "metadata": {
        "id": "CX5qDD4VN57i",
        "colab": {
          "base_uri": "https://localhost:8080/",
          "height": 204
        },
        "outputId": "a8a2414f-f725-479b-a3ee-204bc9735e3e"
      },
      "source": [
        "#Daten laden\n",
        "train = pd.read_csv(\"train.csv\")\n",
        "\n",
        "\n",
        "#Overview der Daten\n",
        "train.head()\n"
      ],
      "execution_count": 295,
      "outputs": [
        {
          "output_type": "execute_result",
          "data": {
            "text/html": [
              "<div>\n",
              "<style scoped>\n",
              "    .dataframe tbody tr th:only-of-type {\n",
              "        vertical-align: middle;\n",
              "    }\n",
              "\n",
              "    .dataframe tbody tr th {\n",
              "        vertical-align: top;\n",
              "    }\n",
              "\n",
              "    .dataframe thead th {\n",
              "        text-align: right;\n",
              "    }\n",
              "</style>\n",
              "<table border=\"1\" class=\"dataframe\">\n",
              "  <thead>\n",
              "    <tr style=\"text-align: right;\">\n",
              "      <th></th>\n",
              "      <th>PassengerId</th>\n",
              "      <th>Survived</th>\n",
              "      <th>Pclass</th>\n",
              "      <th>Name</th>\n",
              "      <th>Sex</th>\n",
              "      <th>Age</th>\n",
              "      <th>SibSp</th>\n",
              "      <th>Parch</th>\n",
              "      <th>Ticket</th>\n",
              "      <th>Fare</th>\n",
              "      <th>Cabin</th>\n",
              "      <th>Embarked</th>\n",
              "    </tr>\n",
              "  </thead>\n",
              "  <tbody>\n",
              "    <tr>\n",
              "      <th>0</th>\n",
              "      <td>1</td>\n",
              "      <td>0</td>\n",
              "      <td>3</td>\n",
              "      <td>Braund, Mr. Owen Harris</td>\n",
              "      <td>male</td>\n",
              "      <td>22.0</td>\n",
              "      <td>1</td>\n",
              "      <td>0</td>\n",
              "      <td>A/5 21171</td>\n",
              "      <td>7.2500</td>\n",
              "      <td>NaN</td>\n",
              "      <td>S</td>\n",
              "    </tr>\n",
              "    <tr>\n",
              "      <th>1</th>\n",
              "      <td>2</td>\n",
              "      <td>1</td>\n",
              "      <td>1</td>\n",
              "      <td>Cumings, Mrs. John Bradley (Florence Briggs Th...</td>\n",
              "      <td>female</td>\n",
              "      <td>38.0</td>\n",
              "      <td>1</td>\n",
              "      <td>0</td>\n",
              "      <td>PC 17599</td>\n",
              "      <td>71.2833</td>\n",
              "      <td>C85</td>\n",
              "      <td>C</td>\n",
              "    </tr>\n",
              "    <tr>\n",
              "      <th>2</th>\n",
              "      <td>3</td>\n",
              "      <td>1</td>\n",
              "      <td>3</td>\n",
              "      <td>Heikkinen, Miss. Laina</td>\n",
              "      <td>female</td>\n",
              "      <td>26.0</td>\n",
              "      <td>0</td>\n",
              "      <td>0</td>\n",
              "      <td>STON/O2. 3101282</td>\n",
              "      <td>7.9250</td>\n",
              "      <td>NaN</td>\n",
              "      <td>S</td>\n",
              "    </tr>\n",
              "    <tr>\n",
              "      <th>3</th>\n",
              "      <td>4</td>\n",
              "      <td>1</td>\n",
              "      <td>1</td>\n",
              "      <td>Futrelle, Mrs. Jacques Heath (Lily May Peel)</td>\n",
              "      <td>female</td>\n",
              "      <td>35.0</td>\n",
              "      <td>1</td>\n",
              "      <td>0</td>\n",
              "      <td>113803</td>\n",
              "      <td>53.1000</td>\n",
              "      <td>C123</td>\n",
              "      <td>S</td>\n",
              "    </tr>\n",
              "    <tr>\n",
              "      <th>4</th>\n",
              "      <td>5</td>\n",
              "      <td>0</td>\n",
              "      <td>3</td>\n",
              "      <td>Allen, Mr. William Henry</td>\n",
              "      <td>male</td>\n",
              "      <td>35.0</td>\n",
              "      <td>0</td>\n",
              "      <td>0</td>\n",
              "      <td>373450</td>\n",
              "      <td>8.0500</td>\n",
              "      <td>NaN</td>\n",
              "      <td>S</td>\n",
              "    </tr>\n",
              "  </tbody>\n",
              "</table>\n",
              "</div>"
            ],
            "text/plain": [
              "   PassengerId  Survived  Pclass  ...     Fare Cabin  Embarked\n",
              "0            1         0       3  ...   7.2500   NaN         S\n",
              "1            2         1       1  ...  71.2833   C85         C\n",
              "2            3         1       3  ...   7.9250   NaN         S\n",
              "3            4         1       1  ...  53.1000  C123         S\n",
              "4            5         0       3  ...   8.0500   NaN         S\n",
              "\n",
              "[5 rows x 12 columns]"
            ]
          },
          "metadata": {
            "tags": []
          },
          "execution_count": 295
        }
      ]
    },
    {
      "cell_type": "markdown",
      "metadata": {
        "id": "vsB2Ki7pIcS3"
      },
      "source": [
        "##**Grobe Datenübersicht**\r\n"
      ]
    },
    {
      "cell_type": "code",
      "metadata": {
        "colab": {
          "base_uri": "https://localhost:8080/"
        },
        "id": "AvGvlRs_TRWV",
        "outputId": "f282b026-06be-4b90-d546-ed6ba5620f22"
      },
      "source": [
        "#Datentyp der Columns mit Angabe der NaN-Values\n",
        "train.info()"
      ],
      "execution_count": 296,
      "outputs": [
        {
          "output_type": "stream",
          "text": [
            "<class 'pandas.core.frame.DataFrame'>\n",
            "RangeIndex: 891 entries, 0 to 890\n",
            "Data columns (total 12 columns):\n",
            " #   Column       Non-Null Count  Dtype  \n",
            "---  ------       --------------  -----  \n",
            " 0   PassengerId  891 non-null    int64  \n",
            " 1   Survived     891 non-null    int64  \n",
            " 2   Pclass       891 non-null    int64  \n",
            " 3   Name         891 non-null    object \n",
            " 4   Sex          891 non-null    object \n",
            " 5   Age          714 non-null    float64\n",
            " 6   SibSp        891 non-null    int64  \n",
            " 7   Parch        891 non-null    int64  \n",
            " 8   Ticket       891 non-null    object \n",
            " 9   Fare         891 non-null    float64\n",
            " 10  Cabin        204 non-null    object \n",
            " 11  Embarked     889 non-null    object \n",
            "dtypes: float64(2), int64(5), object(5)\n",
            "memory usage: 83.7+ KB\n"
          ],
          "name": "stdout"
        }
      ]
    },
    {
      "cell_type": "markdown",
      "metadata": {
        "id": "oqzh_8mQUPKl"
      },
      "source": [
        "\r\n",
        "\r\n",
        "Wie zu sehen sind die Cabin-Einträge zu mehr als 3/4 nicht vorhanden. \r\n",
        "Hier wäre es ratsam die Spalte einfach komplett zu löschen, da sie fürs training unbrauchbar ist.\r\n",
        "\r\n",
        "Auch ist die Ticket- und PassengerId-Spalte unbrauchbar.\r\n"
      ]
    },
    {
      "cell_type": "code",
      "metadata": {
        "colab": {
          "base_uri": "https://localhost:8080/"
        },
        "id": "dkJBQ-AHT7_e",
        "outputId": "ca798584-7cdf-414d-b984-464e243062b6"
      },
      "source": [
        "train[\"Ticket\"].sample(20)\r\n"
      ],
      "execution_count": 297,
      "outputs": [
        {
          "output_type": "execute_result",
          "data": {
            "text/plain": [
              "78         248738\n",
              "278        382652\n",
              "189        349247\n",
              "7          349909\n",
              "764        347074\n",
              "134    C.A. 29178\n",
              "743        376566\n",
              "215         35273\n",
              "25         347077\n",
              "542        347082\n",
              "117         11668\n",
              "646        349231\n",
              "706        223596\n",
              "129        347061\n",
              "369      PC 17477\n",
              "585        110413\n",
              "735         54636\n",
              "436    W./C. 6608\n",
              "890        370376\n",
              "763        113760\n",
              "Name: Ticket, dtype: object"
            ]
          },
          "metadata": {
            "tags": []
          },
          "execution_count": 297
        }
      ]
    },
    {
      "cell_type": "code",
      "metadata": {
        "id": "0lFZ0GbFU-nZ",
        "colab": {
          "base_uri": "https://localhost:8080/"
        },
        "outputId": "9eb34ff8-8689-4d9d-b791-3ae1f2c3a8e6"
      },
      "source": [
        "train.drop([\"Cabin\",\"Ticket\"],axis=1, inplace = True)\r\n",
        "train.columns"
      ],
      "execution_count": 298,
      "outputs": [
        {
          "output_type": "execute_result",
          "data": {
            "text/plain": [
              "Index(['PassengerId', 'Survived', 'Pclass', 'Name', 'Sex', 'Age', 'SibSp',\n",
              "       'Parch', 'Fare', 'Embarked'],\n",
              "      dtype='object')"
            ]
          },
          "metadata": {
            "tags": []
          },
          "execution_count": 298
        }
      ]
    },
    {
      "cell_type": "markdown",
      "metadata": {
        "id": "XDqqqzWELDNd"
      },
      "source": [
        "Mittels der describe()-Funktion erhält man einen groben Überblick über die Daten, wie zum Beispiel die Überlebensrate und die Altersspanne.\r\n"
      ]
    },
    {
      "cell_type": "code",
      "metadata": {
        "colab": {
          "base_uri": "https://localhost:8080/",
          "height": 297
        },
        "id": "WBDxgqjDxJrV",
        "outputId": "aec16c97-2676-4713-c535-aab92e5f25ad"
      },
      "source": [
        "train.describe()\r\n"
      ],
      "execution_count": 299,
      "outputs": [
        {
          "output_type": "execute_result",
          "data": {
            "text/html": [
              "<div>\n",
              "<style scoped>\n",
              "    .dataframe tbody tr th:only-of-type {\n",
              "        vertical-align: middle;\n",
              "    }\n",
              "\n",
              "    .dataframe tbody tr th {\n",
              "        vertical-align: top;\n",
              "    }\n",
              "\n",
              "    .dataframe thead th {\n",
              "        text-align: right;\n",
              "    }\n",
              "</style>\n",
              "<table border=\"1\" class=\"dataframe\">\n",
              "  <thead>\n",
              "    <tr style=\"text-align: right;\">\n",
              "      <th></th>\n",
              "      <th>PassengerId</th>\n",
              "      <th>Survived</th>\n",
              "      <th>Pclass</th>\n",
              "      <th>Age</th>\n",
              "      <th>SibSp</th>\n",
              "      <th>Parch</th>\n",
              "      <th>Fare</th>\n",
              "    </tr>\n",
              "  </thead>\n",
              "  <tbody>\n",
              "    <tr>\n",
              "      <th>count</th>\n",
              "      <td>891.000000</td>\n",
              "      <td>891.000000</td>\n",
              "      <td>891.000000</td>\n",
              "      <td>714.000000</td>\n",
              "      <td>891.000000</td>\n",
              "      <td>891.000000</td>\n",
              "      <td>891.000000</td>\n",
              "    </tr>\n",
              "    <tr>\n",
              "      <th>mean</th>\n",
              "      <td>446.000000</td>\n",
              "      <td>0.383838</td>\n",
              "      <td>2.308642</td>\n",
              "      <td>29.699118</td>\n",
              "      <td>0.523008</td>\n",
              "      <td>0.381594</td>\n",
              "      <td>32.204208</td>\n",
              "    </tr>\n",
              "    <tr>\n",
              "      <th>std</th>\n",
              "      <td>257.353842</td>\n",
              "      <td>0.486592</td>\n",
              "      <td>0.836071</td>\n",
              "      <td>14.526497</td>\n",
              "      <td>1.102743</td>\n",
              "      <td>0.806057</td>\n",
              "      <td>49.693429</td>\n",
              "    </tr>\n",
              "    <tr>\n",
              "      <th>min</th>\n",
              "      <td>1.000000</td>\n",
              "      <td>0.000000</td>\n",
              "      <td>1.000000</td>\n",
              "      <td>0.420000</td>\n",
              "      <td>0.000000</td>\n",
              "      <td>0.000000</td>\n",
              "      <td>0.000000</td>\n",
              "    </tr>\n",
              "    <tr>\n",
              "      <th>25%</th>\n",
              "      <td>223.500000</td>\n",
              "      <td>0.000000</td>\n",
              "      <td>2.000000</td>\n",
              "      <td>20.125000</td>\n",
              "      <td>0.000000</td>\n",
              "      <td>0.000000</td>\n",
              "      <td>7.910400</td>\n",
              "    </tr>\n",
              "    <tr>\n",
              "      <th>50%</th>\n",
              "      <td>446.000000</td>\n",
              "      <td>0.000000</td>\n",
              "      <td>3.000000</td>\n",
              "      <td>28.000000</td>\n",
              "      <td>0.000000</td>\n",
              "      <td>0.000000</td>\n",
              "      <td>14.454200</td>\n",
              "    </tr>\n",
              "    <tr>\n",
              "      <th>75%</th>\n",
              "      <td>668.500000</td>\n",
              "      <td>1.000000</td>\n",
              "      <td>3.000000</td>\n",
              "      <td>38.000000</td>\n",
              "      <td>1.000000</td>\n",
              "      <td>0.000000</td>\n",
              "      <td>31.000000</td>\n",
              "    </tr>\n",
              "    <tr>\n",
              "      <th>max</th>\n",
              "      <td>891.000000</td>\n",
              "      <td>1.000000</td>\n",
              "      <td>3.000000</td>\n",
              "      <td>80.000000</td>\n",
              "      <td>8.000000</td>\n",
              "      <td>6.000000</td>\n",
              "      <td>512.329200</td>\n",
              "    </tr>\n",
              "  </tbody>\n",
              "</table>\n",
              "</div>"
            ],
            "text/plain": [
              "       PassengerId    Survived      Pclass  ...       SibSp       Parch        Fare\n",
              "count   891.000000  891.000000  891.000000  ...  891.000000  891.000000  891.000000\n",
              "mean    446.000000    0.383838    2.308642  ...    0.523008    0.381594   32.204208\n",
              "std     257.353842    0.486592    0.836071  ...    1.102743    0.806057   49.693429\n",
              "min       1.000000    0.000000    1.000000  ...    0.000000    0.000000    0.000000\n",
              "25%     223.500000    0.000000    2.000000  ...    0.000000    0.000000    7.910400\n",
              "50%     446.000000    0.000000    3.000000  ...    0.000000    0.000000   14.454200\n",
              "75%     668.500000    1.000000    3.000000  ...    1.000000    0.000000   31.000000\n",
              "max     891.000000    1.000000    3.000000  ...    8.000000    6.000000  512.329200\n",
              "\n",
              "[8 rows x 7 columns]"
            ]
          },
          "metadata": {
            "tags": []
          },
          "execution_count": 299
        }
      ]
    },
    {
      "cell_type": "markdown",
      "metadata": {
        "id": "7FYa_N2wLCwJ"
      },
      "source": [
        "##**Visualisierung**\r\n",
        "Um ein besseres Gespür für die Daten zu erhalten ist die Visualisierung ein guter Anfang.\r\n",
        "Vorallem die Anzahl der Überlebenden sortiert nach Geschlecht und Alter wäre interessant.\r\n"
      ]
    },
    {
      "cell_type": "code",
      "metadata": {
        "colab": {
          "base_uri": "https://localhost:8080/",
          "height": 621
        },
        "id": "SAJ0XAtRUFnq",
        "outputId": "6d7a9d38-26fa-4e3c-bcdc-4c65ed9efce6"
      },
      "source": [
        "f,ax = plt.subplots(2,3,figsize=(20,10))\r\n",
        "\r\n",
        "\r\n",
        "#Survived Sex\r\n",
        "plt.subplot(2,3,1)\r\n",
        "sns.countplot(x=\"Sex\", data = train, hue = \"Survived\")\r\n",
        "plt.title(\"Survival by Sex\")\r\n",
        "plt.grid(axis =\"y\")\r\n",
        "\r\n",
        "#Survived Class\r\n",
        "plt.subplot(2,3,2)\r\n",
        "sns.countplot(x=\"Pclass\", data = train, hue = \"Survived\")\r\n",
        "plt.title(\"Survival by Class\")\r\n",
        "plt.grid(axis =\"y\")\r\n",
        "\r\n",
        "#Survived Embarked\r\n",
        "plt.subplot(2,3,3)\r\n",
        "sns.countplot(x=\"Embarked\", data = train, hue = \"Survived\")\r\n",
        "plt.title(\"Survival by Embarked\")\r\n",
        "plt.grid(axis =\"y\")\r\n",
        "\r\n",
        "#Age\r\n",
        "plt.subplot(2,3,4)\r\n",
        "sns.histplot(train[\"Age\"], bins = 30, kde = False) # kde = die Ausgleichskurve\r\n",
        "plt.title(\"Age distribution\")\r\n",
        "plt.grid(axis =\"y\")\r\n",
        "\r\n",
        "#Age Class\r\n",
        "plt.subplot(2,3,5)\r\n",
        "sns.boxplot(x = train[\"Pclass\"],y = train[\"Age\"])\r\n",
        "plt.title(\"Age distribution Class\")\r\n",
        "plt.grid(axis =\"y\")\r\n",
        "\r\n",
        "#Age Embarked\r\n",
        "plt.subplot(2,3,6)\r\n",
        "sns.boxplot(x = train[\"Embarked\"],y = train[\"Age\"])\r\n",
        "plt.title(\"Age distribution Embarked\")\r\n",
        "plt.grid(axis =\"y\")\r\n",
        "\r\n",
        "\r\n",
        "\r\n"
      ],
      "execution_count": 300,
      "outputs": [
        {
          "output_type": "display_data",
          "data": {
            "image/png": "[encoded data removed]",
            "text/plain": [
              "<Figure size 1440x720 with 6 Axes>"
            ]
          },
          "metadata": {
            "tags": [],
            "needs_background": "light"
          }
        }
      ]
    },
    {
      "cell_type": "code",
      "metadata": {
        "colab": {
          "base_uri": "https://localhost:8080/",
          "height": 350
        },
        "id": "iLqKDpbTUF15",
        "outputId": "23e67ba1-838f-4757-e1b2-c15676c5945a"
      },
      "source": [
        "f,ax = plt.subplots(1,3,figsize=(20,5))\r\n",
        "#Survived Parch\r\n",
        "plt.subplot(1,3,1)\r\n",
        "sns.countplot(x=\"Parch\", data = train, hue = \"Survived\")\r\n",
        "plt.title(\"Survival by Parch\")\r\n",
        "plt.grid(axis =\"y\")\r\n",
        "plt.legend(loc = \"upper right\")\r\n",
        "\r\n",
        "#Survived SibSp\r\n",
        "plt.subplot(1,3,2)\r\n",
        "sns.countplot(x=\"SibSp\", data = train, hue = \"Survived\")\r\n",
        "plt.title(\"Survival by SibSp\")\r\n",
        "plt.grid(axis =\"y\")\r\n",
        "plt.legend(loc = \"upper right\")\r\n",
        "\r\n",
        "#Survived Fare\r\n",
        "plt.subplot(1,3,3)\r\n",
        "sns.histplot(x=\"Fare\", data = train, hue = \"Survived\", bins = 30)\r\n",
        "plt.title(\"Survival by Fare\")\r\n",
        "plt.grid(axis =\"y\")\r\n",
        "\r\n"
      ],
      "execution_count": 301,
      "outputs": [
        {
          "output_type": "display_data",
          "data": {
            "image/png": "[encoded data removed]",
            "text/plain": [
              "<Figure size 1440x360 with 3 Axes>"
            ]
          },
          "metadata": {
            "tags": [],
            "needs_background": "light"
          }
        }
      ]
    },
    {
      "cell_type": "markdown",
      "metadata": {
        "id": "XI0VBdrHH5un"
      },
      "source": [
        "##**Datenaufbereitung**\r\n",
        "Als nächstes müssen wir nun die verbleibenden Daten für die statistischen Modelle vorbereiten, da die Modelle nur Zahlenwerte verarbeiten können. Für \"Sex\" bietet sich eine binäre Einteilung ein. Das geht entweder durch df.get_dummies(), df.replace() oder die df.apply() Funktionen"
      ]
    },
    {
      "cell_type": "code",
      "metadata": {
        "id": "GlVq6nlvQyi4"
      },
      "source": [
        "#replace-Funktion mittels dictionary\r\n",
        "train[\"Sex\"].replace({\"male\":1, \"female\":0}, inplace = True)"
      ],
      "execution_count": 302,
      "outputs": []
    },
    {
      "cell_type": "code",
      "metadata": {
        "id": "PozdyBO0OKt2",
        "colab": {
          "base_uri": "https://localhost:8080/",
          "height": 52
        },
        "outputId": "060df2ea-05d8-4de4-8eeb-2b112f9c7b91"
      },
      "source": [
        "\"\"\"\r\n",
        "#Ersetzen der Einträge mit binären Werten mittels dummys\r\n",
        "train[\"Sex\"] = pd.get_dummies(train[\"Sex\"], drop_first = True)\r\n",
        "\r\n",
        "#apply mittels lambda-Funktion und dictionary\r\n",
        "sex = {\"male\":1, \"female\":0}\r\n",
        "train[\"Sex\"].apply(lambda x:sex[x] )\r\n",
        "\"\"\"\r\n"
      ],
      "execution_count": 303,
      "outputs": [
        {
          "output_type": "execute_result",
          "data": {
            "application/vnd.google.colaboratory.intrinsic+json": {
              "type": "string"
            },
            "text/plain": [
              "'\\n#Ersetzen der Einträge mit binären Werten mittels dummys\\ntrain[\"Sex\"] = pd.get_dummies(train[\"Sex\"], drop_first = True)\\n\\n#apply mittels lambda-Funktion und dictionary\\nsex = {\"male\":1, \"female\":0}\\ntrain[\"Sex\"].apply(lambda x:sex[x] )\\n'"
            ]
          },
          "metadata": {
            "tags": []
          },
          "execution_count": 303
        }
      ]
    },
    {
      "cell_type": "markdown",
      "metadata": {
        "id": "bqa5qG4CHdye"
      },
      "source": [
        "Gleiches gilt für \"Embarked\" und \"Name\", wobei Letzteres sicherlich noch eine Rolle spielt, weshalb wir vorrübergehend eine neue Spalte \"Name lenght\" einführen."
      ]
    },
    {
      "cell_type": "code",
      "metadata": {
        "id": "dEv2S9AvQys3",
        "colab": {
          "base_uri": "https://localhost:8080/",
          "height": 35
        },
        "outputId": "7e2ea29f-d549-4c5d-b29d-fb4a79a5dc63"
      },
      "source": [
        "train[\"Embarked\"].replace({\"S\":0, \"C\":1, \"Q\":2}, inplace = True)\r\n",
        "\r\n",
        "\"\"\"\r\n",
        "train[\"Embarked\"].replace(('S','C','Q'), (0,1,2), inplace = True)\r\n",
        "\"\"\""
      ],
      "execution_count": 304,
      "outputs": [
        {
          "output_type": "execute_result",
          "data": {
            "application/vnd.google.colaboratory.intrinsic+json": {
              "type": "string"
            },
            "text/plain": [
              "'\\ntrain[\"Embarked\"].replace((\\'S\\',\\'C\\',\\'Q\\'), (0,1,2), inplace = True)\\n'"
            ]
          },
          "metadata": {
            "tags": []
          },
          "execution_count": 304
        }
      ]
    },
    {
      "cell_type": "code",
      "metadata": {
        "id": "YYGbnxhuLHc_"
      },
      "source": [
        "#Neue DF für \"Name lenght\"\r\n",
        "new_train = train\r\n",
        "new_train[\"Name\"]= train[\"Name\"].apply(lambda x: len(x))\r\n",
        "\r\n",
        "\r\n"
      ],
      "execution_count": 305,
      "outputs": []
    },
    {
      "cell_type": "code",
      "metadata": {
        "colab": {
          "base_uri": "https://localhost:8080/",
          "height": 204
        },
        "id": "0LH7EB5QzeUX",
        "outputId": "1b2904a4-1f14-4d40-b4db-ebb083f5aea9"
      },
      "source": [
        "new_train.head()\r\n"
      ],
      "execution_count": 306,
      "outputs": [
        {
          "output_type": "execute_result",
          "data": {
            "text/html": [
              "<div>\n",
              "<style scoped>\n",
              "    .dataframe tbody tr th:only-of-type {\n",
              "        vertical-align: middle;\n",
              "    }\n",
              "\n",
              "    .dataframe tbody tr th {\n",
              "        vertical-align: top;\n",
              "    }\n",
              "\n",
              "    .dataframe thead th {\n",
              "        text-align: right;\n",
              "    }\n",
              "</style>\n",
              "<table border=\"1\" class=\"dataframe\">\n",
              "  <thead>\n",
              "    <tr style=\"text-align: right;\">\n",
              "      <th></th>\n",
              "      <th>PassengerId</th>\n",
              "      <th>Survived</th>\n",
              "      <th>Pclass</th>\n",
              "      <th>Name</th>\n",
              "      <th>Sex</th>\n",
              "      <th>Age</th>\n",
              "      <th>SibSp</th>\n",
              "      <th>Parch</th>\n",
              "      <th>Fare</th>\n",
              "      <th>Embarked</th>\n",
              "    </tr>\n",
              "  </thead>\n",
              "  <tbody>\n",
              "    <tr>\n",
              "      <th>0</th>\n",
              "      <td>1</td>\n",
              "      <td>0</td>\n",
              "      <td>3</td>\n",
              "      <td>23</td>\n",
              "      <td>1</td>\n",
              "      <td>22.0</td>\n",
              "      <td>1</td>\n",
              "      <td>0</td>\n",
              "      <td>7.2500</td>\n",
              "      <td>0.0</td>\n",
              "    </tr>\n",
              "    <tr>\n",
              "      <th>1</th>\n",
              "      <td>2</td>\n",
              "      <td>1</td>\n",
              "      <td>1</td>\n",
              "      <td>51</td>\n",
              "      <td>0</td>\n",
              "      <td>38.0</td>\n",
              "      <td>1</td>\n",
              "      <td>0</td>\n",
              "      <td>71.2833</td>\n",
              "      <td>1.0</td>\n",
              "    </tr>\n",
              "    <tr>\n",
              "      <th>2</th>\n",
              "      <td>3</td>\n",
              "      <td>1</td>\n",
              "      <td>3</td>\n",
              "      <td>22</td>\n",
              "      <td>0</td>\n",
              "      <td>26.0</td>\n",
              "      <td>0</td>\n",
              "      <td>0</td>\n",
              "      <td>7.9250</td>\n",
              "      <td>0.0</td>\n",
              "    </tr>\n",
              "    <tr>\n",
              "      <th>3</th>\n",
              "      <td>4</td>\n",
              "      <td>1</td>\n",
              "      <td>1</td>\n",
              "      <td>44</td>\n",
              "      <td>0</td>\n",
              "      <td>35.0</td>\n",
              "      <td>1</td>\n",
              "      <td>0</td>\n",
              "      <td>53.1000</td>\n",
              "      <td>0.0</td>\n",
              "    </tr>\n",
              "    <tr>\n",
              "      <th>4</th>\n",
              "      <td>5</td>\n",
              "      <td>0</td>\n",
              "      <td>3</td>\n",
              "      <td>24</td>\n",
              "      <td>1</td>\n",
              "      <td>35.0</td>\n",
              "      <td>0</td>\n",
              "      <td>0</td>\n",
              "      <td>8.0500</td>\n",
              "      <td>0.0</td>\n",
              "    </tr>\n",
              "  </tbody>\n",
              "</table>\n",
              "</div>"
            ],
            "text/plain": [
              "   PassengerId  Survived  Pclass  Name  ...  SibSp  Parch     Fare  Embarked\n",
              "0            1         0       3    23  ...      1      0   7.2500       0.0\n",
              "1            2         1       1    51  ...      1      0  71.2833       1.0\n",
              "2            3         1       3    22  ...      0      0   7.9250       0.0\n",
              "3            4         1       1    44  ...      1      0  53.1000       0.0\n",
              "4            5         0       3    24  ...      0      0   8.0500       0.0\n",
              "\n",
              "[5 rows x 10 columns]"
            ]
          },
          "metadata": {
            "tags": []
          },
          "execution_count": 306
        }
      ]
    },
    {
      "cell_type": "markdown",
      "metadata": {
        "id": "RsZowRCG0R1v"
      },
      "source": [
        "##**Bereinigung der Daten**\r\n",
        "\r\n",
        "Als Nächstes befassen wir uns mit der Bereinigung der Daten von Ausreißern und NaN-values.\r\n",
        "Mit der Annahme, dass die Daten einer Normalverteilung folgen, können wir die Ausreißer mittels der Standardabweichung $\\sigma$ eliminieren. 68% aller Messerwerte liegen bei einer Abweichung von 1$\\sigma$  um den Erwartungswert. Für 2$\\sigma$ sind es 95% und bei 3$\\sigma$ sogar 99,7% der Werte.\r\n",
        " Wir begnügen uns in diesem Fall mit 2$\\sigma$."
      ]
    },
    {
      "cell_type": "code",
      "metadata": {
        "id": "Hm7tO03dLDkb"
      },
      "source": [
        "from collections import Counter\r\n",
        "\r\n",
        "#Findet Zeilen mit mehr als 2 Ausreißern\r\n",
        "def Ausreisser (df, columns):\r\n",
        "  #Liste mit den Indizes aller Spalten mit einem Ausreißer\r\n",
        "  Indices = []\r\n",
        "  \r\n",
        "  \r\n",
        "  for values in columns:\r\n",
        "    #obere und untere Grenze\r\n",
        "    upper = df[values].mean() + 2*df[values].std()\r\n",
        "    lower = df[values].mean() - 2*df[values].std()\r\n",
        "    #Daten mit einem Ausreißer\r\n",
        "    data = df[(df[values] > upper) | (df[values] < lower)].index\r\n",
        "\r\n",
        "    #Indizes der nachfolgenden Spalten werden einfach hinzugefuegt\r\n",
        "    Indices.extend(data)\r\n",
        "\r\n",
        "\r\n",
        "#Daten mit 3 Ausreißern, mehr hat es nicht in einer Zeile\r\n",
        "#Liste von Counter.elements() um nach Dreifach-Elementen zu suchen\r\n",
        "  counter = (list(Counter(Indices).elements()))\r\n",
        "  i = 0\r\n",
        "  double_indices = []\r\n",
        "  while (i < len(counter)-2):\r\n",
        "    if counter[i] == counter[i+2] :\r\n",
        "      double_indices.append(counter[i])\r\n",
        "    i+=1\r\n",
        "\r\n",
        "  return(double_indices)\r\n",
        "\r\n",
        "\r\n",
        " \r\n",
        "\r\n",
        "\r\n",
        "    "
      ],
      "execution_count": 307,
      "outputs": []
    },
    {
      "cell_type": "code",
      "metadata": {
        "id": "qs12AiT1LDnu",
        "colab": {
          "base_uri": "https://localhost:8080/",
          "height": 173
        },
        "outputId": "4b56de72-3a1d-429e-9f58-4a952586c4c6"
      },
      "source": [
        "outliers = Ausreisser(new_train, [\"Age\",\"SibSp\",\"Fare\",\"Parch\"])\r\n",
        "new_train.iloc[outliers]\r\n",
        "\r\n"
      ],
      "execution_count": 308,
      "outputs": [
        {
          "output_type": "execute_result",
          "data": {
            "text/html": [
              "<div>\n",
              "<style scoped>\n",
              "    .dataframe tbody tr th:only-of-type {\n",
              "        vertical-align: middle;\n",
              "    }\n",
              "\n",
              "    .dataframe tbody tr th {\n",
              "        vertical-align: top;\n",
              "    }\n",
              "\n",
              "    .dataframe thead th {\n",
              "        text-align: right;\n",
              "    }\n",
              "</style>\n",
              "<table border=\"1\" class=\"dataframe\">\n",
              "  <thead>\n",
              "    <tr style=\"text-align: right;\">\n",
              "      <th></th>\n",
              "      <th>PassengerId</th>\n",
              "      <th>Survived</th>\n",
              "      <th>Pclass</th>\n",
              "      <th>Name</th>\n",
              "      <th>Sex</th>\n",
              "      <th>Age</th>\n",
              "      <th>SibSp</th>\n",
              "      <th>Parch</th>\n",
              "      <th>Fare</th>\n",
              "      <th>Embarked</th>\n",
              "    </tr>\n",
              "  </thead>\n",
              "  <tbody>\n",
              "    <tr>\n",
              "      <th>438</th>\n",
              "      <td>439</td>\n",
              "      <td>0</td>\n",
              "      <td>1</td>\n",
              "      <td>17</td>\n",
              "      <td>1</td>\n",
              "      <td>64.0</td>\n",
              "      <td>1</td>\n",
              "      <td>4</td>\n",
              "      <td>263.0</td>\n",
              "      <td>0.0</td>\n",
              "    </tr>\n",
              "    <tr>\n",
              "      <th>27</th>\n",
              "      <td>28</td>\n",
              "      <td>0</td>\n",
              "      <td>1</td>\n",
              "      <td>30</td>\n",
              "      <td>1</td>\n",
              "      <td>19.0</td>\n",
              "      <td>3</td>\n",
              "      <td>2</td>\n",
              "      <td>263.0</td>\n",
              "      <td>0.0</td>\n",
              "    </tr>\n",
              "    <tr>\n",
              "      <th>88</th>\n",
              "      <td>89</td>\n",
              "      <td>1</td>\n",
              "      <td>1</td>\n",
              "      <td>26</td>\n",
              "      <td>0</td>\n",
              "      <td>23.0</td>\n",
              "      <td>3</td>\n",
              "      <td>2</td>\n",
              "      <td>263.0</td>\n",
              "      <td>0.0</td>\n",
              "    </tr>\n",
              "    <tr>\n",
              "      <th>341</th>\n",
              "      <td>342</td>\n",
              "      <td>1</td>\n",
              "      <td>1</td>\n",
              "      <td>30</td>\n",
              "      <td>0</td>\n",
              "      <td>24.0</td>\n",
              "      <td>3</td>\n",
              "      <td>2</td>\n",
              "      <td>263.0</td>\n",
              "      <td>0.0</td>\n",
              "    </tr>\n",
              "  </tbody>\n",
              "</table>\n",
              "</div>"
            ],
            "text/plain": [
              "     PassengerId  Survived  Pclass  Name  ...  SibSp  Parch   Fare  Embarked\n",
              "438          439         0       1    17  ...      1      4  263.0       0.0\n",
              "27            28         0       1    30  ...      3      2  263.0       0.0\n",
              "88            89         1       1    26  ...      3      2  263.0       0.0\n",
              "341          342         1       1    30  ...      3      2  263.0       0.0\n",
              "\n",
              "[4 rows x 10 columns]"
            ]
          },
          "metadata": {
            "tags": []
          },
          "execution_count": 308
        }
      ]
    },
    {
      "cell_type": "code",
      "metadata": {
        "colab": {
          "base_uri": "https://localhost:8080/",
          "height": 297
        },
        "id": "cJcOhsoX0Q_z",
        "outputId": "c28a57d8-dd6b-4697-ae42-b0a7cf728d7a"
      },
      "source": [
        "new_train[[\"Age\",\"SibSp\",\"Fare\",\"Parch\"]].describe()"
      ],
      "execution_count": 309,
      "outputs": [
        {
          "output_type": "execute_result",
          "data": {
            "text/html": [
              "<div>\n",
              "<style scoped>\n",
              "    .dataframe tbody tr th:only-of-type {\n",
              "        vertical-align: middle;\n",
              "    }\n",
              "\n",
              "    .dataframe tbody tr th {\n",
              "        vertical-align: top;\n",
              "    }\n",
              "\n",
              "    .dataframe thead th {\n",
              "        text-align: right;\n",
              "    }\n",
              "</style>\n",
              "<table border=\"1\" class=\"dataframe\">\n",
              "  <thead>\n",
              "    <tr style=\"text-align: right;\">\n",
              "      <th></th>\n",
              "      <th>Age</th>\n",
              "      <th>SibSp</th>\n",
              "      <th>Fare</th>\n",
              "      <th>Parch</th>\n",
              "    </tr>\n",
              "  </thead>\n",
              "  <tbody>\n",
              "    <tr>\n",
              "      <th>count</th>\n",
              "      <td>714.000000</td>\n",
              "      <td>891.000000</td>\n",
              "      <td>891.000000</td>\n",
              "      <td>891.000000</td>\n",
              "    </tr>\n",
              "    <tr>\n",
              "      <th>mean</th>\n",
              "      <td>29.699118</td>\n",
              "      <td>0.523008</td>\n",
              "      <td>32.204208</td>\n",
              "      <td>0.381594</td>\n",
              "    </tr>\n",
              "    <tr>\n",
              "      <th>std</th>\n",
              "      <td>14.526497</td>\n",
              "      <td>1.102743</td>\n",
              "      <td>49.693429</td>\n",
              "      <td>0.806057</td>\n",
              "    </tr>\n",
              "    <tr>\n",
              "      <th>min</th>\n",
              "      <td>0.420000</td>\n",
              "      <td>0.000000</td>\n",
              "      <td>0.000000</td>\n",
              "      <td>0.000000</td>\n",
              "    </tr>\n",
              "    <tr>\n",
              "      <th>25%</th>\n",
              "      <td>20.125000</td>\n",
              "      <td>0.000000</td>\n",
              "      <td>7.910400</td>\n",
              "      <td>0.000000</td>\n",
              "    </tr>\n",
              "    <tr>\n",
              "      <th>50%</th>\n",
              "      <td>28.000000</td>\n",
              "      <td>0.000000</td>\n",
              "      <td>14.454200</td>\n",
              "      <td>0.000000</td>\n",
              "    </tr>\n",
              "    <tr>\n",
              "      <th>75%</th>\n",
              "      <td>38.000000</td>\n",
              "      <td>1.000000</td>\n",
              "      <td>31.000000</td>\n",
              "      <td>0.000000</td>\n",
              "    </tr>\n",
              "    <tr>\n",
              "      <th>max</th>\n",
              "      <td>80.000000</td>\n",
              "      <td>8.000000</td>\n",
              "      <td>512.329200</td>\n",
              "      <td>6.000000</td>\n",
              "    </tr>\n",
              "  </tbody>\n",
              "</table>\n",
              "</div>"
            ],
            "text/plain": [
              "              Age       SibSp        Fare       Parch\n",
              "count  714.000000  891.000000  891.000000  891.000000\n",
              "mean    29.699118    0.523008   32.204208    0.381594\n",
              "std     14.526497    1.102743   49.693429    0.806057\n",
              "min      0.420000    0.000000    0.000000    0.000000\n",
              "25%     20.125000    0.000000    7.910400    0.000000\n",
              "50%     28.000000    0.000000   14.454200    0.000000\n",
              "75%     38.000000    1.000000   31.000000    0.000000\n",
              "max     80.000000    8.000000  512.329200    6.000000"
            ]
          },
          "metadata": {
            "tags": []
          },
          "execution_count": 309
        }
      ]
    },
    {
      "cell_type": "markdown",
      "metadata": {
        "id": "lDbqwNqf1OhI"
      },
      "source": [
        "Wie man sehen kann sind diese Passagiere Ausreisser in 3 Kathegorien: Fare, Parch und SibSp."
      ]
    },
    {
      "cell_type": "code",
      "metadata": {
        "id": "0KqS5Tq4LDrx"
      },
      "source": [
        "#Drop Ausreisser von \"Age\",\"SibSp\",\"Fare\",\"Parch\"\r\n",
        "new_train.drop(outliers, axis = 0, inplace = True)"
      ],
      "execution_count": 310,
      "outputs": []
    },
    {
      "cell_type": "markdown",
      "metadata": {
        "id": "AByt8CzjncNO"
      },
      "source": [
        "##Fehlende Werte (NaN) ergänzen\r\n",
        "Bei fehlenden Werten funktionieren die ML-Algorithmen nicht, weshalb wir sie ergänzen/entfernen müssen."
      ]
    },
    {
      "cell_type": "code",
      "metadata": {
        "id": "-VF0JCxWLDxt",
        "colab": {
          "base_uri": "https://localhost:8080/"
        },
        "outputId": "5e582d66-78d1-41d9-b4da-ba739e1de8e9"
      },
      "source": [
        "#Anzahl der NaN-Values\r\n",
        "new_train.isnull().sum()"
      ],
      "execution_count": 311,
      "outputs": [
        {
          "output_type": "execute_result",
          "data": {
            "text/plain": [
              "PassengerId      0\n",
              "Survived         0\n",
              "Pclass           0\n",
              "Name             0\n",
              "Sex              0\n",
              "Age            177\n",
              "SibSp            0\n",
              "Parch            0\n",
              "Fare             0\n",
              "Embarked         2\n",
              "dtype: int64"
            ]
          },
          "metadata": {
            "tags": []
          },
          "execution_count": 311
        }
      ]
    },
    {
      "cell_type": "markdown",
      "metadata": {
        "id": "FVxOXZGMqDRr"
      },
      "source": [
        "Bei 177 Werten ist das Löschen der NaN-Values nicht zu empfehlen, da die Menge an Trainingsdaten erheblich schrumpfen würde.\r\n",
        "Eine einfache Methode ist das ersetzen der NaN-Values durch den Mittelwert mit zufälliger Abweichung im Bereich [-$\\sigma$,$\\sigma$].\r\n",
        "Für \"Embarked\" empfiehlt sich eher der Median, da es nur ganze Zahlen annehmen kann."
      ]
    },
    {
      "cell_type": "code",
      "metadata": {
        "id": "w1uZtRVb11_e"
      },
      "source": [
        "Age = new_train[\"Age\"]\r\n",
        "mean = Age.mean()\r\n",
        "sigma = Age.std()\r\n",
        "Age.fillna(np.random.randint(mean - sigma, mean + sigma ), inplace = True) \r\n",
        "new_train[\"Embarked\"].fillna(new_train[\"Embarked\"].median(), inplace = True)"
      ],
      "execution_count": 312,
      "outputs": []
    },
    {
      "cell_type": "code",
      "metadata": {
        "colab": {
          "base_uri": "https://localhost:8080/",
          "height": 297
        },
        "id": "2bbCyGhN9ORL",
        "outputId": "379b41ce-c7dd-4217-e582-03db577e2ad3"
      },
      "source": [
        "new_train.describe()"
      ],
      "execution_count": 313,
      "outputs": [
        {
          "output_type": "execute_result",
          "data": {
            "text/html": [
              "<div>\n",
              "<style scoped>\n",
              "    .dataframe tbody tr th:only-of-type {\n",
              "        vertical-align: middle;\n",
              "    }\n",
              "\n",
              "    .dataframe tbody tr th {\n",
              "        vertical-align: top;\n",
              "    }\n",
              "\n",
              "    .dataframe thead th {\n",
              "        text-align: right;\n",
              "    }\n",
              "</style>\n",
              "<table border=\"1\" class=\"dataframe\">\n",
              "  <thead>\n",
              "    <tr style=\"text-align: right;\">\n",
              "      <th></th>\n",
              "      <th>PassengerId</th>\n",
              "      <th>Survived</th>\n",
              "      <th>Pclass</th>\n",
              "      <th>Name</th>\n",
              "      <th>Sex</th>\n",
              "      <th>Age</th>\n",
              "      <th>SibSp</th>\n",
              "      <th>Parch</th>\n",
              "      <th>Fare</th>\n",
              "      <th>Embarked</th>\n",
              "    </tr>\n",
              "  </thead>\n",
              "  <tbody>\n",
              "    <tr>\n",
              "      <th>count</th>\n",
              "      <td>887.000000</td>\n",
              "      <td>887.000000</td>\n",
              "      <td>887.000000</td>\n",
              "      <td>887.000000</td>\n",
              "      <td>887.000000</td>\n",
              "      <td>887.000000</td>\n",
              "      <td>887.000000</td>\n",
              "      <td>887.000000</td>\n",
              "      <td>887.000000</td>\n",
              "      <td>887.000000</td>\n",
              "    </tr>\n",
              "    <tr>\n",
              "      <th>mean</th>\n",
              "      <td>446.998873</td>\n",
              "      <td>0.383315</td>\n",
              "      <td>2.314543</td>\n",
              "      <td>26.970688</td>\n",
              "      <td>0.648253</td>\n",
              "      <td>27.152390</td>\n",
              "      <td>0.514092</td>\n",
              "      <td>0.372041</td>\n",
              "      <td>31.163415</td>\n",
              "      <td>0.363021</td>\n",
              "    </tr>\n",
              "    <tr>\n",
              "      <th>std</th>\n",
              "      <td>257.246373</td>\n",
              "      <td>0.486468</td>\n",
              "      <td>0.833309</td>\n",
              "      <td>9.295332</td>\n",
              "      <td>0.477785</td>\n",
              "      <td>13.928214</td>\n",
              "      <td>1.095638</td>\n",
              "      <td>0.793047</td>\n",
              "      <td>47.318277</td>\n",
              "      <td>0.636642</td>\n",
              "    </tr>\n",
              "    <tr>\n",
              "      <th>min</th>\n",
              "      <td>1.000000</td>\n",
              "      <td>0.000000</td>\n",
              "      <td>1.000000</td>\n",
              "      <td>12.000000</td>\n",
              "      <td>0.000000</td>\n",
              "      <td>0.420000</td>\n",
              "      <td>0.000000</td>\n",
              "      <td>0.000000</td>\n",
              "      <td>0.000000</td>\n",
              "      <td>0.000000</td>\n",
              "    </tr>\n",
              "    <tr>\n",
              "      <th>25%</th>\n",
              "      <td>224.500000</td>\n",
              "      <td>0.000000</td>\n",
              "      <td>2.000000</td>\n",
              "      <td>20.000000</td>\n",
              "      <td>0.000000</td>\n",
              "      <td>17.000000</td>\n",
              "      <td>0.000000</td>\n",
              "      <td>0.000000</td>\n",
              "      <td>7.895800</td>\n",
              "      <td>0.000000</td>\n",
              "    </tr>\n",
              "    <tr>\n",
              "      <th>50%</th>\n",
              "      <td>448.000000</td>\n",
              "      <td>0.000000</td>\n",
              "      <td>3.000000</td>\n",
              "      <td>25.000000</td>\n",
              "      <td>1.000000</td>\n",
              "      <td>24.000000</td>\n",
              "      <td>0.000000</td>\n",
              "      <td>0.000000</td>\n",
              "      <td>14.454200</td>\n",
              "      <td>0.000000</td>\n",
              "    </tr>\n",
              "    <tr>\n",
              "      <th>75%</th>\n",
              "      <td>669.500000</td>\n",
              "      <td>1.000000</td>\n",
              "      <td>3.000000</td>\n",
              "      <td>30.500000</td>\n",
              "      <td>1.000000</td>\n",
              "      <td>35.000000</td>\n",
              "      <td>1.000000</td>\n",
              "      <td>0.000000</td>\n",
              "      <td>30.695800</td>\n",
              "      <td>1.000000</td>\n",
              "    </tr>\n",
              "    <tr>\n",
              "      <th>max</th>\n",
              "      <td>891.000000</td>\n",
              "      <td>1.000000</td>\n",
              "      <td>3.000000</td>\n",
              "      <td>82.000000</td>\n",
              "      <td>1.000000</td>\n",
              "      <td>80.000000</td>\n",
              "      <td>8.000000</td>\n",
              "      <td>6.000000</td>\n",
              "      <td>512.329200</td>\n",
              "      <td>2.000000</td>\n",
              "    </tr>\n",
              "  </tbody>\n",
              "</table>\n",
              "</div>"
            ],
            "text/plain": [
              "       PassengerId    Survived      Pclass  ...       Parch        Fare    Embarked\n",
              "count   887.000000  887.000000  887.000000  ...  887.000000  887.000000  887.000000\n",
              "mean    446.998873    0.383315    2.314543  ...    0.372041   31.163415    0.363021\n",
              "std     257.246373    0.486468    0.833309  ...    0.793047   47.318277    0.636642\n",
              "min       1.000000    0.000000    1.000000  ...    0.000000    0.000000    0.000000\n",
              "25%     224.500000    0.000000    2.000000  ...    0.000000    7.895800    0.000000\n",
              "50%     448.000000    0.000000    3.000000  ...    0.000000   14.454200    0.000000\n",
              "75%     669.500000    1.000000    3.000000  ...    0.000000   30.695800    1.000000\n",
              "max     891.000000    1.000000    3.000000  ...    6.000000  512.329200    2.000000\n",
              "\n",
              "[8 rows x 10 columns]"
            ]
          },
          "metadata": {
            "tags": []
          },
          "execution_count": 313
        }
      ]
    },
    {
      "cell_type": "markdown",
      "metadata": {
        "id": "Cb1wN9ne-RZf"
      },
      "source": [
        "Somit sind alle Werte numerisch und kann von einem ML-Modell verwendet werden."
      ]
    },
    {
      "cell_type": "markdown",
      "metadata": {
        "id": "1NJa0b3LI--d"
      },
      "source": [
        "##**Feature selection**\r\n",
        "\r\n",
        "Je mehr Attribute zur Vorhersage verwendet werden, desto anfälliger ist das Modell. Mittels der Covariant-Matrix kann man ganz gut die Korrelation der einzelnen Attribute vergleichen. Je näher die Zahl an |1|, desto höher die Korrelation."
      ]
    },
    {
      "cell_type": "code",
      "metadata": {
        "colab": {
          "base_uri": "https://localhost:8080/",
          "height": 687
        },
        "id": "XdE9FNxKJdV-",
        "outputId": "aa6b1924-ba1c-4024-befd-38b7f4cca359"
      },
      "source": [
        "colormap = plt.cm.RdBu\r\n",
        "plt.figure(figsize=(12,12))\r\n",
        "plt.title('Pearson Correlation of Features', y=1.05, size=15)\r\n",
        "sns.heatmap(new_train.astype(float).corr(),linewidths=0.1,vmax=1.0, square=True, cmap=colormap, linecolor='white', annot=True)\r\n",
        "plt.show()"
      ],
      "execution_count": 314,
      "outputs": [
        {
          "output_type": "display_data",
          "data": {
            "image/png": "[encoded data removed]",
            "text/plain": [
              "<Figure size 864x864 with 2 Axes>"
            ]
          },
          "metadata": {
            "tags": [],
            "needs_background": "light"
          }
        }
      ]
    },
    {
      "cell_type": "markdown",
      "metadata": {
        "id": "L6J099ykL5XX"
      },
      "source": [
        "Aus der \"Survived\"-Spalte sehen wir die stärksten Korrelationen mit \"Sex\", \"Fare\", \"Name\" und \"Pclass\"."
      ]
    },
    {
      "cell_type": "code",
      "metadata": {
        "id": "C_gsGYgMM69z"
      },
      "source": [
        "new_train.drop([\"Parch\",\"Embarked\",\"Age\", \"PassengerId\"],axis=1, inplace = True)"
      ],
      "execution_count": 315,
      "outputs": []
    },
    {
      "cell_type": "code",
      "metadata": {
        "colab": {
          "base_uri": "https://localhost:8080/",
          "height": 204
        },
        "id": "6mtdr1glOGM_",
        "outputId": "a4c8999a-4484-4bc9-fc12-bb352deeca71"
      },
      "source": [
        "new_train.head()"
      ],
      "execution_count": 316,
      "outputs": [
        {
          "output_type": "execute_result",
          "data": {
            "text/html": [
              "<div>\n",
              "<style scoped>\n",
              "    .dataframe tbody tr th:only-of-type {\n",
              "        vertical-align: middle;\n",
              "    }\n",
              "\n",
              "    .dataframe tbody tr th {\n",
              "        vertical-align: top;\n",
              "    }\n",
              "\n",
              "    .dataframe thead th {\n",
              "        text-align: right;\n",
              "    }\n",
              "</style>\n",
              "<table border=\"1\" class=\"dataframe\">\n",
              "  <thead>\n",
              "    <tr style=\"text-align: right;\">\n",
              "      <th></th>\n",
              "      <th>Survived</th>\n",
              "      <th>Pclass</th>\n",
              "      <th>Name</th>\n",
              "      <th>Sex</th>\n",
              "      <th>SibSp</th>\n",
              "      <th>Fare</th>\n",
              "    </tr>\n",
              "  </thead>\n",
              "  <tbody>\n",
              "    <tr>\n",
              "      <th>0</th>\n",
              "      <td>0</td>\n",
              "      <td>3</td>\n",
              "      <td>23</td>\n",
              "      <td>1</td>\n",
              "      <td>1</td>\n",
              "      <td>7.2500</td>\n",
              "    </tr>\n",
              "    <tr>\n",
              "      <th>1</th>\n",
              "      <td>1</td>\n",
              "      <td>1</td>\n",
              "      <td>51</td>\n",
              "      <td>0</td>\n",
              "      <td>1</td>\n",
              "      <td>71.2833</td>\n",
              "    </tr>\n",
              "    <tr>\n",
              "      <th>2</th>\n",
              "      <td>1</td>\n",
              "      <td>3</td>\n",
              "      <td>22</td>\n",
              "      <td>0</td>\n",
              "      <td>0</td>\n",
              "      <td>7.9250</td>\n",
              "    </tr>\n",
              "    <tr>\n",
              "      <th>3</th>\n",
              "      <td>1</td>\n",
              "      <td>1</td>\n",
              "      <td>44</td>\n",
              "      <td>0</td>\n",
              "      <td>1</td>\n",
              "      <td>53.1000</td>\n",
              "    </tr>\n",
              "    <tr>\n",
              "      <th>4</th>\n",
              "      <td>0</td>\n",
              "      <td>3</td>\n",
              "      <td>24</td>\n",
              "      <td>1</td>\n",
              "      <td>0</td>\n",
              "      <td>8.0500</td>\n",
              "    </tr>\n",
              "  </tbody>\n",
              "</table>\n",
              "</div>"
            ],
            "text/plain": [
              "   Survived  Pclass  Name  Sex  SibSp     Fare\n",
              "0         0       3    23    1      1   7.2500\n",
              "1         1       1    51    0      1  71.2833\n",
              "2         1       3    22    0      0   7.9250\n",
              "3         1       1    44    0      1  53.1000\n",
              "4         0       3    24    1      0   8.0500"
            ]
          },
          "metadata": {
            "tags": []
          },
          "execution_count": 316
        }
      ]
    },
    {
      "cell_type": "markdown",
      "metadata": {
        "id": "y1KmMlmqOY_-"
      },
      "source": [
        "##**Vorhersagemodelle**\r\n",
        "Hier verwenden wir nun 5 verschiedene ML-Modelle um herrauszufinden, welches bei dieser Aufgabe am besten performed.\r\n",
        "\r\n",
        "* Logistic Regression\r\n",
        "* SVM\r\n",
        "* Decision Tree / Random Forest\r\n",
        "* Perceptron"
      ]
    },
    {
      "cell_type": "code",
      "metadata": {
        "id": "pGdsIDoJPLBt"
      },
      "source": [
        "import sklearn # Collection of machine learning algorithms\r\n",
        "from sklearn.linear_model import LogisticRegression, Perceptron\r\n",
        "from sklearn.tree import DecisionTreeClassifier\r\n",
        "from sklearn.svm import SVC\r\n",
        "from sklearn.model_selection import train_test_split"
      ],
      "execution_count": 317,
      "outputs": []
    },
    {
      "cell_type": "code",
      "metadata": {
        "id": "mvUVTItdPL3w"
      },
      "source": [
        "#Aufteilen der Daten in test und train\r\n",
        "X_train = new_train.drop(\"Survived\", axis=1)\r\n",
        "Y_train = new_train[\"Survived\"]\r\n",
        "X_train, x_test, Y_train, y_test = train_test_split(X_train, Y_train, test_size=0.3, random_state=101)"
      ],
      "execution_count": 318,
      "outputs": []
    },
    {
      "cell_type": "markdown",
      "metadata": {
        "id": "PDRf2kUMPLtI"
      },
      "source": [
        "##Logistic Regression\r\n"
      ]
    },
    {
      "cell_type": "code",
      "metadata": {
        "colab": {
          "base_uri": "https://localhost:8080/"
        },
        "id": "jA-LxWOxPLg0",
        "outputId": "4890c001-799f-4d74-a0a6-fa48242531be"
      },
      "source": [
        "logreg = LogisticRegression()\r\n",
        "logreg.fit(X_train, Y_train)\r\n",
        "logreg_pred = logreg.predict(x_test)\r\n",
        "print(\"Die Genauigkeit beträgt {}%\".format(round(logreg.score(x_test, y_test) * 100, 2)))"
      ],
      "execution_count": 319,
      "outputs": [
        {
          "output_type": "stream",
          "text": [
            "Die Genauigkeit beträgt 78.65%\n"
          ],
          "name": "stdout"
        }
      ]
    },
    {
      "cell_type": "markdown",
      "metadata": {
        "id": "zmS74QJBSGrC"
      },
      "source": [
        "##Support Vector Machines (SVM)"
      ]
    },
    {
      "cell_type": "code",
      "metadata": {
        "colab": {
          "base_uri": "https://localhost:8080/"
        },
        "id": "G3LJtyLBSGOK",
        "outputId": "62befb91-b1d9-48b4-9047-c3184b6052d7"
      },
      "source": [
        "svc=SVC(gamma = \"auto\")  #Werte nicht normiert --> gamma = \"auto\"\r\n",
        "svc.fit(X_train, Y_train)\r\n",
        "Y_pred2 = svc.predict(x_test)\r\n",
        "print(\"Die Genauigkeit beträgt {}%\".format(round(svc.score(x_test, y_test) * 100, 2)))"
      ],
      "execution_count": 320,
      "outputs": [
        {
          "output_type": "stream",
          "text": [
            "Die Genauigkeit beträgt 70.79%\n"
          ],
          "name": "stdout"
        }
      ]
    },
    {
      "cell_type": "markdown",
      "metadata": {
        "id": "0OLDNsGPSF67"
      },
      "source": [
        "##Decision Tree"
      ]
    },
    {
      "cell_type": "code",
      "metadata": {
        "colab": {
          "base_uri": "https://localhost:8080/"
        },
        "id": "nbP-aJ9SSG4R",
        "outputId": "87395343-1bcc-4941-c381-9a2f2bc71cad"
      },
      "source": [
        "decision_tree = DecisionTreeClassifier()\r\n",
        "decision_tree.fit(X_train, Y_train)\r\n",
        "decision_tree_pred = decision_tree.predict(x_test)\r\n",
        "print(\"Die Genauigkeit beträgt {}%\".format(round(decision_tree.score(x_test, y_test) * 100, 2)))"
      ],
      "execution_count": 321,
      "outputs": [
        {
          "output_type": "stream",
          "text": [
            "Die Genauigkeit beträgt 74.53%\n"
          ],
          "name": "stdout"
        }
      ]
    },
    {
      "cell_type": "markdown",
      "metadata": {
        "id": "4nX3N_NDSLvf"
      },
      "source": [
        "##Perceptron (single-layerd neural network)"
      ]
    },
    {
      "cell_type": "code",
      "metadata": {
        "colab": {
          "base_uri": "https://localhost:8080/"
        },
        "id": "9YHwTuMKSMUc",
        "outputId": "b234501b-366c-4868-ab7d-58782899e684"
      },
      "source": [
        "perceptron = Perceptron()\r\n",
        "perceptron.fit(X_train, Y_train)\r\n",
        "perceptron_pred = perceptron.predict(x_test)\r\n",
        "print(\"Die Genauigkeit beträgt {}%\".format(round(perceptron.score(x_test, y_test) * 100, 2)))"
      ],
      "execution_count": 322,
      "outputs": [
        {
          "output_type": "stream",
          "text": [
            "Die Genauigkeit beträgt 77.15%\n"
          ],
          "name": "stdout"
        }
      ]
    }
  ]
}